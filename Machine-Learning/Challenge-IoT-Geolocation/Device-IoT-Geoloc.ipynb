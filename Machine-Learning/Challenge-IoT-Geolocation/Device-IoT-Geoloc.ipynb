{
 "cells": [
  {
   "cell_type": "markdown",
   "metadata": {},
   "source": [
    "# TP Geoloc - IoT"
   ]
  },
  {
   "cell_type": "markdown",
   "metadata": {},
   "source": [
    "Sébastien Chapeland  \n",
    "Adrien Ly  \n",
    "Thomas Meimoun  \n",
    "Margaux Rodrigues"
   ]
  },
  {
   "cell_type": "markdown",
   "metadata": {},
   "source": [
    "## Les fonctions utilisées dans ce notebook :"
   ]
  },
  {
   "cell_type": "code",
   "execution_count": 1,
   "metadata": {
    "ExecuteTime": {
     "end_time": "2019-01-12T10:01:32.397873Z",
     "start_time": "2019-01-12T10:01:25.100132Z"
    }
   },
   "outputs": [],
   "source": [
    "%matplotlib notebook\n",
    "import numpy as np\n",
    "import pandas as pd\n",
    "import time\n",
    "import matplotlib.pyplot as plt\n",
    "from geopy.distance import vincenty\n",
    "from sklearn import svm\n",
    "from sklearn.preprocessing import StandardScaler\n",
    "from sklearn.ensemble import RandomForestRegressor\n",
    "from sklearn.model_selection import train_test_split\n",
    "from sklearn.preprocessing import OneHotEncoder\n",
    "from sklearn.multioutput import MultiOutputRegressor\n",
    "from sklearn.ensemble import GradientBoostingRegressor\n",
    "from sklearn.ensemble import ExtraTreesRegressor\n",
    "from sklearn.neighbors import KNeighborsRegressor\n",
    "from sklearn.neural_network import MLPRegressor\n",
    "from sklearn.model_selection import GridSearchCV\n",
    "from sklearn.metrics import make_scorer\n",
    "from math import sin, cos, sqrt, atan2, radians\n",
    "from sklearn.linear_model import LinearRegression\n",
    "from random import shuffle\n",
    "from xgboost import XGBRegressor\n",
    "import random\n",
    "import warnings\n",
    "\n",
    "warnings.filterwarnings('ignore')"
   ]
  },
  {
   "cell_type": "code",
   "execution_count": 2,
   "metadata": {
    "ExecuteTime": {
     "end_time": "2019-01-12T10:01:32.452726Z",
     "start_time": "2019-01-12T10:01:32.407816Z"
    }
   },
   "outputs": [],
   "source": [
    "def lodo(X_train, y_train, X_test, model):\n",
    "    \n",
    "    df_concat = pd.concat(axis=1, objs=[X_train,y_train], sort=False, copy=True)\n",
    "    X_train_new, X_test_new = feat2(X_train, X_test)\n",
    "    y_train_new = pd.concat(axis=1,objs=[X_train.messid,y_train],sort=False, copy=True)\n",
    "    y_train_new = y_train_new.groupby('messid', sort=False).mean()\n",
    "\n",
    "    list_did = df_concat.did.unique()\n",
    "    df_score = pd.DataFrame()\n",
    "    \n",
    "    # Fit le model sur tous les devices sauf 1 :\n",
    "    for i in range (len(list_did)):\n",
    "        \n",
    "        # split en train et test: \n",
    "        train_msg_list = df_concat[df_concat['did'] != list_did[i]]['messid'].unique()\n",
    "        test_msg_list = df_concat[df_concat['did'] == list_did[i]]['messid'].unique()\n",
    "        train_set = X_train_new.loc[train_msg_list]\n",
    "        train_y = y_train_new.loc[train_msg_list]\n",
    "        test_set = X_train_new.loc[test_msg_list]\n",
    "        test_y = y_train_new.loc[test_msg_list]\n",
    "        \n",
    "        # Model\n",
    "        md = model.fit(train_set.values, train_y.values)\n",
    "        \n",
    "        # Prediction\n",
    "        prediction = md.predict(test_set.values)\n",
    "        score_lodo = score(md,test_set.values,test_y.values)*-1\n",
    "        \n",
    "        # Output\n",
    "        a= pd.DataFrame(np.repeat(a=list_did[i],axis=0,repeats=test_set.shape[0]))\n",
    "        b= pd.DataFrame(test_set.index.values)\n",
    "        c= pd.DataFrame(np.repeat(a=score_lodo, axis=0, repeats=test_set.shape[0]))\n",
    "        d= pd.DataFrame(prediction)\n",
    "        e= test_y.reset_index(drop=True)\n",
    "        f= pd.concat(axis=1, objs=[a,b,c,d,e], sort= False)\n",
    "        df_score = df_score.append(f)   \n",
    "    df_score = pd.DataFrame(data=df_score.values,\n",
    "                            columns=['did','messid','dist_error','lat_pred','lng_pred','lat_true','lng_true'],\n",
    "                            copy=True)\n",
    "        \n",
    "    return df_score\n",
    "\n",
    "def feat2(train,test):\n",
    "    \"\"\"\n",
    "    Transformation des features de la matrice:\n",
    "    \n",
    "    1- Séparation en latitude et longitude des coordonnées des stations et OneHotencoding \n",
    "    2- Pondération par l'inverse de la distance calculée à partir des RSSI\n",
    "    3- Pondération moyennées\n",
    "    4- Groupby Messid\n",
    "    \"\"\"\n",
    "    # Garde l'index de séparation entre le test et le train\n",
    "    split = train.groupby('messid').max().shape[0]\n",
    "    \n",
    "    # Conversion du RSSI en distance et concaténation du test et du train\n",
    "    train['rssi_conversion'] = [rssi_conversion(train.rssi.values[i]) for i in range(train.shape[0])]\n",
    "    test['rssi_conversion'] = [rssi_conversion(test.rssi.values[i]) for i in range(test.shape[0])]\n",
    "    concat = pd.concat([train,test], sort=False, copy=True)\n",
    "\n",
    "    # Transformation des Latitudes des bases HotEncoded et pondérées par l'inverse de la distance RSSI\n",
    "    oh_lat = pd.get_dummies(concat.bs_lat)\n",
    "    weights = oh_lat.multiply((concat.rssi_conversion.values+concat.nseq.values)**-1, axis='index')\n",
    "    oh_lat_weighted = weights#.multiply(oh_lat.columns.values)\n",
    "    weights['messid'] = concat.messid\n",
    "    oh_lat_weighted['messid'] = concat.messid\n",
    "    numerateur_lat = oh_lat_weighted.groupby('messid',sort=False).sum()\n",
    "    denom_lat = weights.groupby('messid',sort=False).sum().sum(axis=1)\n",
    "    matrix_weighted_lat = numerateur_lat.multiply(denom_lat**-1, axis='index')\n",
    "\n",
    "    # Transformation des Latitudes des bases hotencodées et pondérées par l'inverse de la distance RSSI\n",
    "    oh_lng = pd.get_dummies(concat.bs_lng)\n",
    "    weights = oh_lng.multiply((concat.rssi_conversion.values+concat.nseq.values)**-1, axis='index')\n",
    "    oh_lng_weighted = weights#.multiply(oh_lng.columns.values)\n",
    "    weights['messid'] = concat.messid\n",
    "    oh_lng_weighted['messid'] = concat.messid\n",
    "    numerateur_lng = oh_lng_weighted.groupby('messid',sort=False).sum()\n",
    "    denom_lng = weights.groupby('messid',sort=False).sum().sum(axis=1)\n",
    "    matrix_weighted_lng = numerateur_lng.multiply(denom_lng**-1, axis='index')\n",
    "\n",
    "    # Concaténation des latitudes et longitudes HotEnconded\n",
    "    output = pd.concat(axis=1, objs=[matrix_weighted_lat, matrix_weighted_lng], sort=False, copy=True)\n",
    "    output_train = output.iloc[:split,:]\n",
    "    output_test = output.iloc[split:,:]\n",
    "    \n",
    "    return output_train, output_test\n",
    "\n",
    "def feat(df):\n",
    "    \"\"\"Ancienne fonction de transformation des features (inutile)\"\"\"\n",
    "    df['rssi_conversion'] = [rssi_conversion(df.rssi.values[i]) for i in range(df.shape[0])]\n",
    "    oh_bs_lat = pd.get_dummies(df.bs_lat)\n",
    "    oh_bs_lng = pd.get_dummies(df.bs_lng)\n",
    "    oh_concat = pd.concat(axis=1,objs=[oh_bs_lat,oh_bs_lng], copy=True, sort=False)\n",
    "    oh_rssi_weighted = oh_concat.multiply(oh_concat.columns.values).multiply(concat.rssi_conversion.values**-1, axis='index')\n",
    "    oh_rssi_weighted = pd.concat(axis=1, objs=[df.messid, oh_rssi_weighted], copy=True)\n",
    "    return oh_rssi_weighted\n",
    "\n",
    "def vincenty_vec(vec_coord):\n",
    "    vin_vec_dist = np.zeros(vec_coord.shape[0])\n",
    "    if vec_coord.shape[1] !=  4:\n",
    "        print('ERROR: Bad number of columns (shall be = 4)')\n",
    "    else:\n",
    "        vin_vec_dist = [vincenty(vec_coord[m,0:2],vec_coord[m,2:]).meters for m in range(vec_coord.shape[0])]\n",
    "    return vin_vec_dist\n",
    "\n",
    "def Eval_geoloc(y_train_lat , y_train_lng, y_pred_lat, y_pred_lng):\n",
    "    vec_coord = np.array([y_train_lat , y_train_lng, y_pred_lat, y_pred_lng])\n",
    "    err_vec = vincenty_vec(np.transpose(vec_coord))\n",
    "    return err_vec\n",
    "\n",
    "def my_score(ytest,ypred):\n",
    "    \"\"\"Calcul du score au percentile = 80%\"\"\"\n",
    "    ytest_lat = ytest[:,0]\n",
    "    ytest_lng = ytest[:,1]\n",
    "    ypred_lat = ypred[:,0]\n",
    "    ypred_lng = ypred[:,1]\n",
    "    err_vec = Eval_geoloc(ytest_lat , ytest_lng, ypred_lat, ypred_lng)\n",
    "    result = np.percentile(err_vec, 80)\n",
    "    return result\n",
    "score = make_scorer(my_score, greater_is_better=False)\n",
    "\n",
    "def plot_resultat(ypred,ytest):\n",
    "    \"\"\"Plot de la courbe d'erreur à 80%\"\"\" \n",
    "    ytest_lat = ytest[:,0]\n",
    "    ytest_lng = ytest[:,1]\n",
    "    ypred_lat = ypred[:,0]\n",
    "    ypred_lng = ypred[:,1]\n",
    "    err_vec = Eval_geoloc(ytest_lat , ytest_lng, ypred_lat, ypred_lng)\n",
    "    values, base = np.histogram(err_vec, bins=50000)\n",
    "    cumulative = np.cumsum(values) \n",
    "    plt.figure(figsize=(10,5));\n",
    "    plt.plot(base[:-1]/1000, cumulative / np.float(np.sum(values))  * 100.0, c='blue')\n",
    "    plt.grid(); plt.xlabel('Distance Error (km)'); plt.ylabel('Cum proba (%)'); plt.axis([0, 30, 0, 100]); \n",
    "    plt.title('Error Cumulative Probability'); plt.legend( [\"Opt LLR\", \"LLR 95\", \"LLR 99\"])\n",
    "    plt.show()\n",
    "    return\n",
    "\n",
    "def rssi_conversion(rssi):\n",
    "    \"\"\"Conversion du RSSI en distance (en m)\"\"\"\n",
    "    txPower = -60 # hard coded power value. Usually ranges between -59 to -65\n",
    "    if (rssi == 0):\n",
    "        return -1.0 \n",
    "    ratio = rssi*1.0/txPower\n",
    "    if ratio < 1.0:\n",
    "        return ratio**10\n",
    "    else:\n",
    "        distance =  (0.89976)*(ratio**7.7095) + 0.111    \n",
    "        return distance;\n",
    "\n",
    "def split_Xy (df):\n",
    "    \"\"\"séparation du dataframe en X et y\"\"\"\n",
    "    X = df.iloc[:,:-2]\n",
    "    y = df.iloc[:,-2:]\n",
    "    return X, y\n",
    "\n",
    "def number_of_base_station(df):\n",
    "    \"\"\"Sépare le dataframe en message reçus par >=3 stations ou <3 stations\"\"\"\n",
    "    mess_bsid_inf3 = df.groupby(['messid']).bsid.nunique()[df.groupby(['messid']).bsid.nunique()<3].index\n",
    "    df_bsid_sup3 = df.set_index('messid').drop(mess_bsid_inf3)\n",
    "\n",
    "    mess_bsid_sup3 = df.groupby(['messid']).bsid.nunique()[df.groupby(['messid']).bsid.nunique()>=3].index\n",
    "    df_bsid_inf3 = df.set_index('messid').drop(mess_bsid_sup3)\n",
    "    \n",
    "    return df_bsid_sup3.reset_index(), df_bsid_inf3.reset_index()\n",
    "\n",
    "def split_set(df):\n",
    "    \"\"\"Séparation du dataframe en qualité de réception des messages 'mauvais, moyen, bon, excellent'\"\"\"\n",
    "    # Signal mauvais : \n",
    "    df_train_bad = df[df.rssi<=-127]\n",
    "\n",
    "    # Signal moyen et bon1 : \n",
    "    df_train_rssi_sup127 = df[df.rssi>-127]\n",
    "    df_test_rssi_sup127_inf114 = df_train_rssi_sup127[df_train_rssi_sup127.rssi<=-114]\n",
    "    df_train_good1 , df_train_avg = number_of_base_station(df_test_rssi_sup127_inf114)\n",
    "\n",
    "    # Signal bon2 et excellent :\n",
    "    df_train_sup114 = df[df.rssi>-114]\n",
    "    df_train_excel , df_train_good2 = number_of_base_station(df_train_sup114)\n",
    "\n",
    "    # signal bon:\n",
    "    df_train_good = pd.concat(objs=[df_train_good1, df_train_good2], copy=True, sort=False)\n",
    "    \n",
    "    return df_train_bad, df_train_avg, df_train_good, df_train_excel"
   ]
  },
  {
   "cell_type": "markdown",
   "metadata": {},
   "source": [
    "========================================================================================================================"
   ]
  },
  {
   "cell_type": "markdown",
   "metadata": {},
   "source": [
    "## Exploration du dataset et Baseline"
   ]
  },
  {
   "cell_type": "code",
   "execution_count": 3,
   "metadata": {
    "ExecuteTime": {
     "end_time": "2019-01-12T10:01:32.689374Z",
     "start_time": "2019-01-12T10:01:32.461678Z"
    }
   },
   "outputs": [],
   "source": [
    "# load train and test data\n",
    "df_mess_train = pd.read_csv('mess_train_list.csv') # train set\n",
    "df_mess_test = pd.read_csv('mess_test_list.csv') # test set\n",
    "pos_train = pd.read_csv('pos_train_list.csv') # position associated to train set"
   ]
  },
  {
   "cell_type": "code",
   "execution_count": 74,
   "metadata": {
    "ExecuteTime": {
     "end_time": "2019-01-11T17:25:02.666395Z",
     "start_time": "2019-01-11T17:25:02.654433Z"
    }
   },
   "outputs": [
    {
     "data": {
      "text/html": [
       "<div>\n",
       "<style scoped>\n",
       "    .dataframe tbody tr th:only-of-type {\n",
       "        vertical-align: middle;\n",
       "    }\n",
       "\n",
       "    .dataframe tbody tr th {\n",
       "        vertical-align: top;\n",
       "    }\n",
       "\n",
       "    .dataframe thead th {\n",
       "        text-align: right;\n",
       "    }\n",
       "</style>\n",
       "<table border=\"1\" class=\"dataframe\">\n",
       "  <thead>\n",
       "    <tr style=\"text-align: right;\">\n",
       "      <th></th>\n",
       "      <th>messid</th>\n",
       "      <th>bsid</th>\n",
       "      <th>did</th>\n",
       "      <th>nseq</th>\n",
       "      <th>rssi</th>\n",
       "      <th>time_ux</th>\n",
       "      <th>bs_lat</th>\n",
       "      <th>bs_lng</th>\n",
       "    </tr>\n",
       "  </thead>\n",
       "  <tbody>\n",
       "    <tr>\n",
       "      <th>0</th>\n",
       "      <td>573bf1d9864fce1a9af8c5c9</td>\n",
       "      <td>2841</td>\n",
       "      <td>473335.0</td>\n",
       "      <td>0.5</td>\n",
       "      <td>-121.5</td>\n",
       "      <td>1.463546e+12</td>\n",
       "      <td>39.617794</td>\n",
       "      <td>-104.954917</td>\n",
       "    </tr>\n",
       "    <tr>\n",
       "      <th>1</th>\n",
       "      <td>573bf1d9864fce1a9af8c5c9</td>\n",
       "      <td>3526</td>\n",
       "      <td>473335.0</td>\n",
       "      <td>2.0</td>\n",
       "      <td>-125.0</td>\n",
       "      <td>1.463546e+12</td>\n",
       "      <td>39.677251</td>\n",
       "      <td>-104.952721</td>\n",
       "    </tr>\n",
       "    <tr>\n",
       "      <th>2</th>\n",
       "      <td>573bf3533e952e19126b256a</td>\n",
       "      <td>2605</td>\n",
       "      <td>473335.0</td>\n",
       "      <td>1.0</td>\n",
       "      <td>-134.0</td>\n",
       "      <td>1.463547e+12</td>\n",
       "      <td>39.612745</td>\n",
       "      <td>-105.008827</td>\n",
       "    </tr>\n",
       "    <tr>\n",
       "      <th>3</th>\n",
       "      <td>573c0cd0f0fe6e735a699b93</td>\n",
       "      <td>2610</td>\n",
       "      <td>473953.0</td>\n",
       "      <td>2.0</td>\n",
       "      <td>-132.0</td>\n",
       "      <td>1.463553e+12</td>\n",
       "      <td>39.797969</td>\n",
       "      <td>-105.073460</td>\n",
       "    </tr>\n",
       "    <tr>\n",
       "      <th>4</th>\n",
       "      <td>573c0cd0f0fe6e735a699b93</td>\n",
       "      <td>3574</td>\n",
       "      <td>473953.0</td>\n",
       "      <td>1.0</td>\n",
       "      <td>-120.0</td>\n",
       "      <td>1.463553e+12</td>\n",
       "      <td>39.723151</td>\n",
       "      <td>-104.956216</td>\n",
       "    </tr>\n",
       "  </tbody>\n",
       "</table>\n",
       "</div>"
      ],
      "text/plain": [
       "                     messid  bsid       did  nseq   rssi       time_ux  \\\n",
       "0  573bf1d9864fce1a9af8c5c9  2841  473335.0   0.5 -121.5  1.463546e+12   \n",
       "1  573bf1d9864fce1a9af8c5c9  3526  473335.0   2.0 -125.0  1.463546e+12   \n",
       "2  573bf3533e952e19126b256a  2605  473335.0   1.0 -134.0  1.463547e+12   \n",
       "3  573c0cd0f0fe6e735a699b93  2610  473953.0   2.0 -132.0  1.463553e+12   \n",
       "4  573c0cd0f0fe6e735a699b93  3574  473953.0   1.0 -120.0  1.463553e+12   \n",
       "\n",
       "      bs_lat      bs_lng  \n",
       "0  39.617794 -104.954917  \n",
       "1  39.677251 -104.952721  \n",
       "2  39.612745 -105.008827  \n",
       "3  39.797969 -105.073460  \n",
       "4  39.723151 -104.956216  "
      ]
     },
     "execution_count": 74,
     "metadata": {},
     "output_type": "execute_result"
    }
   ],
   "source": [
    "# Description du set d'entrainement (Input train) :\n",
    "df_mess_train.head()"
   ]
  },
  {
   "cell_type": "code",
   "execution_count": 75,
   "metadata": {
    "ExecuteTime": {
     "end_time": "2019-01-11T17:25:03.582925Z",
     "start_time": "2019-01-11T17:25:03.537049Z"
    }
   },
   "outputs": [
    {
     "data": {
      "text/html": [
       "<div>\n",
       "<style scoped>\n",
       "    .dataframe tbody tr th:only-of-type {\n",
       "        vertical-align: middle;\n",
       "    }\n",
       "\n",
       "    .dataframe tbody tr th {\n",
       "        vertical-align: top;\n",
       "    }\n",
       "\n",
       "    .dataframe thead th {\n",
       "        text-align: right;\n",
       "    }\n",
       "</style>\n",
       "<table border=\"1\" class=\"dataframe\">\n",
       "  <thead>\n",
       "    <tr style=\"text-align: right;\">\n",
       "      <th></th>\n",
       "      <th>bsid</th>\n",
       "      <th>did</th>\n",
       "      <th>nseq</th>\n",
       "      <th>rssi</th>\n",
       "      <th>time_ux</th>\n",
       "      <th>bs_lat</th>\n",
       "      <th>bs_lng</th>\n",
       "    </tr>\n",
       "  </thead>\n",
       "  <tbody>\n",
       "    <tr>\n",
       "      <th>count</th>\n",
       "      <td>39250.000000</td>\n",
       "      <td>3.925000e+04</td>\n",
       "      <td>39250.000000</td>\n",
       "      <td>39250.000000</td>\n",
       "      <td>3.925000e+04</td>\n",
       "      <td>39250.000000</td>\n",
       "      <td>39250.000000</td>\n",
       "    </tr>\n",
       "    <tr>\n",
       "      <th>mean</th>\n",
       "      <td>4533.774752</td>\n",
       "      <td>4.835932e+05</td>\n",
       "      <td>1.043541</td>\n",
       "      <td>-125.863580</td>\n",
       "      <td>1.473368e+12</td>\n",
       "      <td>42.554998</td>\n",
       "      <td>-100.969685</td>\n",
       "    </tr>\n",
       "    <tr>\n",
       "      <th>std</th>\n",
       "      <td>2570.495638</td>\n",
       "      <td>9.893140e+04</td>\n",
       "      <td>0.563540</td>\n",
       "      <td>9.226500</td>\n",
       "      <td>5.506910e+09</td>\n",
       "      <td>7.722787</td>\n",
       "      <td>11.522732</td>\n",
       "    </tr>\n",
       "    <tr>\n",
       "      <th>min</th>\n",
       "      <td>879.000000</td>\n",
       "      <td>4.732880e+05</td>\n",
       "      <td>0.000000</td>\n",
       "      <td>-155.000000</td>\n",
       "      <td>1.463546e+12</td>\n",
       "      <td>36.053394</td>\n",
       "      <td>-107.463146</td>\n",
       "    </tr>\n",
       "    <tr>\n",
       "      <th>25%</th>\n",
       "      <td>2790.000000</td>\n",
       "      <td>4.761230e+05</td>\n",
       "      <td>1.000000</td>\n",
       "      <td>-132.500000</td>\n",
       "      <td>1.468410e+12</td>\n",
       "      <td>39.747448</td>\n",
       "      <td>-105.074287</td>\n",
       "    </tr>\n",
       "    <tr>\n",
       "      <th>50%</th>\n",
       "      <td>3559.000000</td>\n",
       "      <td>4.763150e+05</td>\n",
       "      <td>1.000000</td>\n",
       "      <td>-127.333333</td>\n",
       "      <td>1.473444e+12</td>\n",
       "      <td>39.793585</td>\n",
       "      <td>-105.043685</td>\n",
       "    </tr>\n",
       "    <tr>\n",
       "      <th>75%</th>\n",
       "      <td>7456.000000</td>\n",
       "      <td>4.766090e+05</td>\n",
       "      <td>1.500000</td>\n",
       "      <td>-121.000000</td>\n",
       "      <td>1.479118e+12</td>\n",
       "      <td>39.838740</td>\n",
       "      <td>-104.998429</td>\n",
       "    </tr>\n",
       "    <tr>\n",
       "      <th>max</th>\n",
       "      <td>11951.000000</td>\n",
       "      <td>1.747448e+06</td>\n",
       "      <td>2.000000</td>\n",
       "      <td>-64.000000</td>\n",
       "      <td>1.481143e+12</td>\n",
       "      <td>64.300000</td>\n",
       "      <td>-68.500000</td>\n",
       "    </tr>\n",
       "  </tbody>\n",
       "</table>\n",
       "</div>"
      ],
      "text/plain": [
       "               bsid           did          nseq          rssi       time_ux  \\\n",
       "count  39250.000000  3.925000e+04  39250.000000  39250.000000  3.925000e+04   \n",
       "mean    4533.774752  4.835932e+05      1.043541   -125.863580  1.473368e+12   \n",
       "std     2570.495638  9.893140e+04      0.563540      9.226500  5.506910e+09   \n",
       "min      879.000000  4.732880e+05      0.000000   -155.000000  1.463546e+12   \n",
       "25%     2790.000000  4.761230e+05      1.000000   -132.500000  1.468410e+12   \n",
       "50%     3559.000000  4.763150e+05      1.000000   -127.333333  1.473444e+12   \n",
       "75%     7456.000000  4.766090e+05      1.500000   -121.000000  1.479118e+12   \n",
       "max    11951.000000  1.747448e+06      2.000000    -64.000000  1.481143e+12   \n",
       "\n",
       "             bs_lat        bs_lng  \n",
       "count  39250.000000  39250.000000  \n",
       "mean      42.554998   -100.969685  \n",
       "std        7.722787     11.522732  \n",
       "min       36.053394   -107.463146  \n",
       "25%       39.747448   -105.074287  \n",
       "50%       39.793585   -105.043685  \n",
       "75%       39.838740   -104.998429  \n",
       "max       64.300000    -68.500000  "
      ]
     },
     "execution_count": 75,
     "metadata": {},
     "output_type": "execute_result"
    }
   ],
   "source": [
    "df_mess_train.describe()"
   ]
  },
  {
   "cell_type": "code",
   "execution_count": 76,
   "metadata": {
    "ExecuteTime": {
     "end_time": "2019-01-11T17:25:04.421692Z",
     "start_time": "2019-01-11T17:25:04.353863Z"
    }
   },
   "outputs": [
    {
     "data": {
      "text/plain": [
       "messid     6068\n",
       "bsid        251\n",
       "did         113\n",
       "nseq          5\n",
       "rssi        276\n",
       "time_ux    6067\n",
       "bs_lat      221\n",
       "bs_lng      221\n",
       "dtype: int64"
      ]
     },
     "execution_count": 76,
     "metadata": {},
     "output_type": "execute_result"
    }
   ],
   "source": [
    "df_mess_train.nunique()"
   ]
  },
  {
   "cell_type": "markdown",
   "metadata": {
    "ExecuteTime": {
     "end_time": "2019-01-01T16:56:17.292486Z",
     "start_time": "2019-01-01T16:56:17.286525Z"
    }
   },
   "source": [
    "On remarque plusieurs choses : \n",
    "1. Nombre de messid différent du nombre time_ux => Au moins deux messages sont arrivés au même moment\n",
    "2. Nombre de coordonnées des bases différent du nombre de bsid => Plusieurs bases ont les mêmes coordonnées\n",
    "3. Un device envoie plusieurs messages et il n'y a pas beaucoup de device"
   ]
  },
  {
   "cell_type": "code",
   "execution_count": 77,
   "metadata": {
    "ExecuteTime": {
     "end_time": "2019-01-11T17:25:05.213564Z",
     "start_time": "2019-01-11T17:25:05.112834Z"
    }
   },
   "outputs": [
    {
     "data": {
      "text/html": [
       "<div>\n",
       "<style scoped>\n",
       "    .dataframe tbody tr th:only-of-type {\n",
       "        vertical-align: middle;\n",
       "    }\n",
       "\n",
       "    .dataframe tbody tr th {\n",
       "        vertical-align: top;\n",
       "    }\n",
       "\n",
       "    .dataframe thead th {\n",
       "        text-align: right;\n",
       "    }\n",
       "</style>\n",
       "<table border=\"1\" class=\"dataframe\">\n",
       "  <thead>\n",
       "    <tr style=\"text-align: right;\">\n",
       "      <th></th>\n",
       "      <th>messid</th>\n",
       "      <th>bsid</th>\n",
       "      <th>did</th>\n",
       "      <th>nseq</th>\n",
       "      <th>rssi</th>\n",
       "      <th>time_ux</th>\n",
       "      <th>bs_lat</th>\n",
       "      <th>bs_lng</th>\n",
       "    </tr>\n",
       "  </thead>\n",
       "  <tbody>\n",
       "    <tr>\n",
       "      <th>33051</th>\n",
       "      <td>582d94c612f1434b9cd291da</td>\n",
       "      <td>7692</td>\n",
       "      <td>476594.0</td>\n",
       "      <td>0.5</td>\n",
       "      <td>-126.5</td>\n",
       "      <td>1.479382e+12</td>\n",
       "      <td>39.928436</td>\n",
       "      <td>-105.172719</td>\n",
       "    </tr>\n",
       "    <tr>\n",
       "      <th>33052</th>\n",
       "      <td>582d94c6cf554f7e3a66ddae</td>\n",
       "      <td>3051</td>\n",
       "      <td>476521.0</td>\n",
       "      <td>0.5</td>\n",
       "      <td>-133.0</td>\n",
       "      <td>1.479382e+12</td>\n",
       "      <td>39.898872</td>\n",
       "      <td>-105.153832</td>\n",
       "    </tr>\n",
       "  </tbody>\n",
       "</table>\n",
       "</div>"
      ],
      "text/plain": [
       "                         messid  bsid       did  nseq   rssi       time_ux  \\\n",
       "33051  582d94c612f1434b9cd291da  7692  476594.0   0.5 -126.5  1.479382e+12   \n",
       "33052  582d94c6cf554f7e3a66ddae  3051  476521.0   0.5 -133.0  1.479382e+12   \n",
       "\n",
       "          bs_lat      bs_lng  \n",
       "33051  39.928436 -105.172719  \n",
       "33052  39.898872 -105.153832  "
      ]
     },
     "execution_count": 77,
     "metadata": {},
     "output_type": "execute_result"
    }
   ],
   "source": [
    "# Observons quels messages sont arrivés exactement en même temps :\n",
    "a = pd.DataFrame.where(self=df_mess_train.groupby('time_ux').nunique().messid,\n",
    "                   cond=df_mess_train.groupby('time_ux').nunique().messid>1).dropna()\n",
    "df_mess_train[df_mess_train.time_ux==a.index.values[0]]"
   ]
  },
  {
   "cell_type": "markdown",
   "metadata": {},
   "source": [
    "Il s'agit de deux messages différents provenant de deux devices différents, ce n'est donc pas un doublons. Il s'agit d'un hasard."
   ]
  },
  {
   "cell_type": "code",
   "execution_count": 78,
   "metadata": {
    "ExecuteTime": {
     "end_time": "2019-01-11T17:25:06.368474Z",
     "start_time": "2019-01-11T17:25:05.906711Z"
    },
    "scrolled": false
   },
   "outputs": [
    {
     "name": "stdout",
     "output_type": "stream",
     "text": [
      "Medianne des messages envoyées par device : 10.0\n"
     ]
    },
    {
     "data": {
      "image/png": "[encoded data removed]",
      "text/plain": [
       "<Figure size 864x288 with 1 Axes>"
      ]
     },
     "metadata": {
      "needs_background": "light"
     },
     "output_type": "display_data"
    }
   ],
   "source": [
    "# Devices qui envoient le plus de messages :\n",
    "%matplotlib inline\n",
    "a1 = df_mess_train.groupby(by=\"did\").messid.nunique().sort_values(0,ascending=False).median()\n",
    "print(f'Medianne des messages envoyées par device : {a1}')\n",
    "\n",
    "df_mess_train.groupby(by='did').messid.nunique().sort_values(0,ascending=False).iloc[:50].plot(kind='bar',figsize=(12,4))\n",
    "plt.show()"
   ]
  },
  {
   "cell_type": "markdown",
   "metadata": {},
   "source": [
    "On constate que la médiane des messages envoyés par device est de seulement 10. Tandis que des devices envoient énormément de de messages, comme on peut le voir sur le graphique plus haut. Cela risque de poser des problèmes par la suite lors du Leave One Device Out (LODO)"
   ]
  },
  {
   "cell_type": "code",
   "execution_count": 79,
   "metadata": {
    "ExecuteTime": {
     "end_time": "2019-01-11T17:25:07.069599Z",
     "start_time": "2019-01-11T17:25:07.044666Z"
    }
   },
   "outputs": [
    {
     "name": "stdout",
     "output_type": "stream",
     "text": [
      "Une base ne reçoit qu'une seule fois le même message : True\n"
     ]
    }
   ],
   "source": [
    "# On peut se poser la question si une base ne reçoit qu'une seule fois le même message :\n",
    "a2 = df_mess_train.groupby('bsid').messid.count() # nombre de messages reçus par base\n",
    "b2 = df_mess_train.groupby('bsid').messid.nunique() # nombre de messages uniques reçus par base\n",
    "c2 = (a2-b2).sum()==0\n",
    "print(f'Une base ne reçoit qu\\'une seule fois le même message : {c2}')"
   ]
  },
  {
   "cell_type": "code",
   "execution_count": 80,
   "metadata": {
    "ExecuteTime": {
     "end_time": "2019-01-11T17:25:07.737812Z",
     "start_time": "2019-01-11T17:25:07.718883Z"
    }
   },
   "outputs": [
    {
     "data": {
      "text/html": [
       "<div>\n",
       "<style scoped>\n",
       "    .dataframe tbody tr th:only-of-type {\n",
       "        vertical-align: middle;\n",
       "    }\n",
       "\n",
       "    .dataframe tbody tr th {\n",
       "        vertical-align: top;\n",
       "    }\n",
       "\n",
       "    .dataframe thead th {\n",
       "        text-align: right;\n",
       "    }\n",
       "</style>\n",
       "<table border=\"1\" class=\"dataframe\">\n",
       "  <thead>\n",
       "    <tr style=\"text-align: right;\">\n",
       "      <th></th>\n",
       "      <th>lat</th>\n",
       "      <th>lng</th>\n",
       "    </tr>\n",
       "  </thead>\n",
       "  <tbody>\n",
       "    <tr>\n",
       "      <th>count</th>\n",
       "      <td>39250.000000</td>\n",
       "      <td>39250.000000</td>\n",
       "    </tr>\n",
       "    <tr>\n",
       "      <th>mean</th>\n",
       "      <td>39.783333</td>\n",
       "      <td>-105.056343</td>\n",
       "    </tr>\n",
       "    <tr>\n",
       "      <th>std</th>\n",
       "      <td>0.206262</td>\n",
       "      <td>0.162954</td>\n",
       "    </tr>\n",
       "    <tr>\n",
       "      <th>min</th>\n",
       "      <td>35.770683</td>\n",
       "      <td>-107.630679</td>\n",
       "    </tr>\n",
       "    <tr>\n",
       "      <th>25%</th>\n",
       "      <td>39.708599</td>\n",
       "      <td>-105.060463</td>\n",
       "    </tr>\n",
       "    <tr>\n",
       "      <th>50%</th>\n",
       "      <td>39.776882</td>\n",
       "      <td>-105.039440</td>\n",
       "    </tr>\n",
       "    <tr>\n",
       "      <th>75%</th>\n",
       "      <td>39.805279</td>\n",
       "      <td>-105.018730</td>\n",
       "    </tr>\n",
       "    <tr>\n",
       "      <th>max</th>\n",
       "      <td>43.140387</td>\n",
       "      <td>-102.094289</td>\n",
       "    </tr>\n",
       "  </tbody>\n",
       "</table>\n",
       "</div>"
      ],
      "text/plain": [
       "                lat           lng\n",
       "count  39250.000000  39250.000000\n",
       "mean      39.783333   -105.056343\n",
       "std        0.206262      0.162954\n",
       "min       35.770683   -107.630679\n",
       "25%       39.708599   -105.060463\n",
       "50%       39.776882   -105.039440\n",
       "75%       39.805279   -105.018730\n",
       "max       43.140387   -102.094289"
      ]
     },
     "execution_count": 80,
     "metadata": {},
     "output_type": "execute_result"
    }
   ],
   "source": [
    "# Description du pos_train (Output train) :\n",
    "pos_train.describe()"
   ]
  },
  {
   "cell_type": "code",
   "execution_count": 81,
   "metadata": {
    "ExecuteTime": {
     "end_time": "2019-01-11T17:25:08.396089Z",
     "start_time": "2019-01-11T17:25:08.387076Z"
    }
   },
   "outputs": [
    {
     "data": {
      "text/plain": [
       "lat    6004\n",
       "lng    6004\n",
       "dtype: int64"
      ]
     },
     "execution_count": 81,
     "metadata": {},
     "output_type": "execute_result"
    }
   ],
   "source": [
    "pos_train.nunique()"
   ]
  },
  {
   "cell_type": "markdown",
   "metadata": {
    "ExecuteTime": {
     "end_time": "2019-01-01T17:26:16.447115Z",
     "start_time": "2019-01-01T17:26:16.440134Z"
    }
   },
   "source": [
    "On constate qu'il y a moins de coordonnées réelles (=6004) qu'il n'y a de messages (=6068) => Des messages ont donc la même géolocalisation. Nous verrons cela plus loin dans les Outlayers."
   ]
  },
  {
   "cell_type": "markdown",
   "metadata": {},
   "source": [
    "### Comparaison des set test et train"
   ]
  },
  {
   "cell_type": "code",
   "execution_count": 82,
   "metadata": {
    "ExecuteTime": {
     "end_time": "2019-01-11T17:25:09.121386Z",
     "start_time": "2019-01-11T17:25:09.068252Z"
    }
   },
   "outputs": [],
   "source": [
    "diff_row = df_mess_train.shape[0]-df_mess_test.shape[0]\n",
    "compare = pd.DataFrame(data=[[0,0,0,0,0,0,0,0]]*diff_row, columns=df_mess_train.columns)\n",
    "compare = pd.concat([df_mess_test,compare])\n",
    "comparison_matrix = (df_mess_train.reset_index(drop=True)==compare.reset_index(drop=True))\n",
    "incommon_matrix = df_mess_train[comparison_matrix].dropna(how='all')"
   ]
  },
  {
   "cell_type": "code",
   "execution_count": 83,
   "metadata": {
    "ExecuteTime": {
     "end_time": "2019-01-11T17:25:09.774384Z",
     "start_time": "2019-01-11T17:25:09.759406Z"
    }
   },
   "outputs": [
    {
     "data": {
      "text/plain": [
       "messid      0\n",
       "bsid       71\n",
       "did         0\n",
       "nseq        5\n",
       "rssi       56\n",
       "time_ux     0\n",
       "bs_lat     61\n",
       "bs_lng     61\n",
       "dtype: int64"
      ]
     },
     "execution_count": 83,
     "metadata": {},
     "output_type": "execute_result"
    }
   ],
   "source": [
    "incommon_matrix.nunique()"
   ]
  },
  {
   "cell_type": "markdown",
   "metadata": {},
   "source": [
    "> **Le train et le test n'ont aucun message ni device en commun**"
   ]
  },
  {
   "cell_type": "markdown",
   "metadata": {},
   "source": [
    "## Etudes des Outlayers et cleaning de données"
   ]
  },
  {
   "cell_type": "markdown",
   "metadata": {},
   "source": [
    "### Etude des Oultlayers"
   ]
  },
  {
   "cell_type": "code",
   "execution_count": 182,
   "metadata": {
    "ExecuteTime": {
     "end_time": "2019-01-11T18:31:04.312354Z",
     "start_time": "2019-01-11T18:31:04.297412Z"
    }
   },
   "outputs": [
    {
     "data": {
      "text/html": [
       "<div>\n",
       "<style scoped>\n",
       "    .dataframe tbody tr th:only-of-type {\n",
       "        vertical-align: middle;\n",
       "    }\n",
       "\n",
       "    .dataframe tbody tr th {\n",
       "        vertical-align: top;\n",
       "    }\n",
       "\n",
       "    .dataframe thead th {\n",
       "        text-align: right;\n",
       "    }\n",
       "</style>\n",
       "<table border=\"1\" class=\"dataframe\">\n",
       "  <thead>\n",
       "    <tr style=\"text-align: right;\">\n",
       "      <th></th>\n",
       "      <th>messid</th>\n",
       "      <th>bsid</th>\n",
       "      <th>did</th>\n",
       "      <th>nseq</th>\n",
       "      <th>rssi</th>\n",
       "      <th>time_ux</th>\n",
       "      <th>bs_lat</th>\n",
       "      <th>bs_lng</th>\n",
       "      <th>lat</th>\n",
       "      <th>lng</th>\n",
       "    </tr>\n",
       "  </thead>\n",
       "  <tbody>\n",
       "    <tr>\n",
       "      <th>0</th>\n",
       "      <td>573bf1d9864fce1a9af8c5c9</td>\n",
       "      <td>2841</td>\n",
       "      <td>473335.0</td>\n",
       "      <td>0.5</td>\n",
       "      <td>-121.5</td>\n",
       "      <td>1.463546e+12</td>\n",
       "      <td>39.617794</td>\n",
       "      <td>-104.954917</td>\n",
       "      <td>39.606690</td>\n",
       "      <td>-104.958490</td>\n",
       "    </tr>\n",
       "    <tr>\n",
       "      <th>1</th>\n",
       "      <td>573bf1d9864fce1a9af8c5c9</td>\n",
       "      <td>3526</td>\n",
       "      <td>473335.0</td>\n",
       "      <td>2.0</td>\n",
       "      <td>-125.0</td>\n",
       "      <td>1.463546e+12</td>\n",
       "      <td>39.677251</td>\n",
       "      <td>-104.952721</td>\n",
       "      <td>39.606690</td>\n",
       "      <td>-104.958490</td>\n",
       "    </tr>\n",
       "    <tr>\n",
       "      <th>2</th>\n",
       "      <td>573bf3533e952e19126b256a</td>\n",
       "      <td>2605</td>\n",
       "      <td>473335.0</td>\n",
       "      <td>1.0</td>\n",
       "      <td>-134.0</td>\n",
       "      <td>1.463547e+12</td>\n",
       "      <td>39.612745</td>\n",
       "      <td>-105.008827</td>\n",
       "      <td>39.637741</td>\n",
       "      <td>-104.958554</td>\n",
       "    </tr>\n",
       "    <tr>\n",
       "      <th>3</th>\n",
       "      <td>573c0cd0f0fe6e735a699b93</td>\n",
       "      <td>2610</td>\n",
       "      <td>473953.0</td>\n",
       "      <td>2.0</td>\n",
       "      <td>-132.0</td>\n",
       "      <td>1.463553e+12</td>\n",
       "      <td>39.797969</td>\n",
       "      <td>-105.073460</td>\n",
       "      <td>39.730417</td>\n",
       "      <td>-104.968940</td>\n",
       "    </tr>\n",
       "    <tr>\n",
       "      <th>4</th>\n",
       "      <td>573c0cd0f0fe6e735a699b93</td>\n",
       "      <td>3574</td>\n",
       "      <td>473953.0</td>\n",
       "      <td>1.0</td>\n",
       "      <td>-120.0</td>\n",
       "      <td>1.463553e+12</td>\n",
       "      <td>39.723151</td>\n",
       "      <td>-104.956216</td>\n",
       "      <td>39.730417</td>\n",
       "      <td>-104.968940</td>\n",
       "    </tr>\n",
       "  </tbody>\n",
       "</table>\n",
       "</div>"
      ],
      "text/plain": [
       "                     messid  bsid       did  nseq   rssi       time_ux  \\\n",
       "0  573bf1d9864fce1a9af8c5c9  2841  473335.0   0.5 -121.5  1.463546e+12   \n",
       "1  573bf1d9864fce1a9af8c5c9  3526  473335.0   2.0 -125.0  1.463546e+12   \n",
       "2  573bf3533e952e19126b256a  2605  473335.0   1.0 -134.0  1.463547e+12   \n",
       "3  573c0cd0f0fe6e735a699b93  2610  473953.0   2.0 -132.0  1.463553e+12   \n",
       "4  573c0cd0f0fe6e735a699b93  3574  473953.0   1.0 -120.0  1.463553e+12   \n",
       "\n",
       "      bs_lat      bs_lng        lat         lng  \n",
       "0  39.617794 -104.954917  39.606690 -104.958490  \n",
       "1  39.677251 -104.952721  39.606690 -104.958490  \n",
       "2  39.612745 -105.008827  39.637741 -104.958554  \n",
       "3  39.797969 -105.073460  39.730417 -104.968940  \n",
       "4  39.723151 -104.956216  39.730417 -104.968940  "
      ]
     },
     "execution_count": 182,
     "metadata": {},
     "output_type": "execute_result"
    }
   ],
   "source": [
    "# Concaténation de df_mess_train et pos_train utile par la suite : \n",
    "df_train = pd.concat(axis=1, objs=[df_mess_train,pos_train])\n",
    "df_train.head(5)"
   ]
  },
  {
   "cell_type": "code",
   "execution_count": 85,
   "metadata": {
    "ExecuteTime": {
     "end_time": "2019-01-11T17:25:12.438263Z",
     "start_time": "2019-01-11T17:25:11.078876Z"
    }
   },
   "outputs": [
    {
     "data": {
      "image/png": "[encoded data removed]",
      "text/plain": [
       "<Figure size 864x432 with 4 Axes>"
      ]
     },
     "metadata": {
      "needs_background": "light"
     },
     "output_type": "display_data"
    }
   ],
   "source": [
    "%matplotlib inline\n",
    "pd.plotting.scatter_matrix(df_train.loc[:,['bs_lat','bs_lng']],diagonal='hist', alpha=0.2, figsize=(12,6))\n",
    "plt.show()"
   ]
  },
  {
   "cell_type": "markdown",
   "metadata": {},
   "source": [
    "On observe très vite qu'il y a un groupe de stations Outlayers en haut à droite"
   ]
  },
  {
   "cell_type": "code",
   "execution_count": 86,
   "metadata": {
    "ExecuteTime": {
     "end_time": "2019-01-11T17:25:13.178260Z",
     "start_time": "2019-01-11T17:25:13.068559Z"
    }
   },
   "outputs": [
    {
     "data": {
      "text/html": [
       "<div>\n",
       "<style scoped>\n",
       "    .dataframe tbody tr th:only-of-type {\n",
       "        vertical-align: middle;\n",
       "    }\n",
       "\n",
       "    .dataframe tbody tr th {\n",
       "        vertical-align: top;\n",
       "    }\n",
       "\n",
       "    .dataframe thead th {\n",
       "        text-align: right;\n",
       "    }\n",
       "</style>\n",
       "<table border=\"1\" class=\"dataframe\">\n",
       "  <thead>\n",
       "    <tr style=\"text-align: right;\">\n",
       "      <th></th>\n",
       "      <th></th>\n",
       "      <th>bsid</th>\n",
       "      <th>messid</th>\n",
       "    </tr>\n",
       "    <tr>\n",
       "      <th>bs_lat</th>\n",
       "      <th>bs_lng</th>\n",
       "      <th></th>\n",
       "      <th></th>\n",
       "    </tr>\n",
       "  </thead>\n",
       "  <tbody>\n",
       "    <tr>\n",
       "      <th>39.680252</th>\n",
       "      <th>-104.925515</th>\n",
       "      <td>2</td>\n",
       "      <td>59</td>\n",
       "    </tr>\n",
       "    <tr>\n",
       "      <th>39.706436</th>\n",
       "      <th>-105.099323</th>\n",
       "      <td>2</td>\n",
       "      <td>333</td>\n",
       "    </tr>\n",
       "    <tr>\n",
       "      <th>39.730087</th>\n",
       "      <th>-104.919391</th>\n",
       "      <td>2</td>\n",
       "      <td>111</td>\n",
       "    </tr>\n",
       "    <tr>\n",
       "      <th>39.759461</th>\n",
       "      <th>-105.074287</th>\n",
       "      <td>2</td>\n",
       "      <td>504</td>\n",
       "    </tr>\n",
       "    <tr>\n",
       "      <th>64.300000</th>\n",
       "      <th>-68.500000</th>\n",
       "      <td>27</td>\n",
       "      <td>1849</td>\n",
       "    </tr>\n",
       "  </tbody>\n",
       "</table>\n",
       "</div>"
      ],
      "text/plain": [
       "                       bsid  messid\n",
       "bs_lat    bs_lng                   \n",
       "39.680252 -104.925515     2      59\n",
       "39.706436 -105.099323     2     333\n",
       "39.730087 -104.919391     2     111\n",
       "39.759461 -105.074287     2     504\n",
       "64.300000 -68.500000     27    1849"
      ]
     },
     "execution_count": 86,
     "metadata": {},
     "output_type": "execute_result"
    }
   ],
   "source": [
    "# Affichage des coordonnées ayant >1 bsid (autrement dit des bsid différents ayant les mêmes coordonnées) : \n",
    "a3 = df_train.groupby(['bs_lat','bs_lng']).nunique()[(df_train.groupby(['bs_lat','bs_lng']).nunique())['bsid']>1]\n",
    "a3.loc[:,['bsid','messid']]"
   ]
  },
  {
   "cell_type": "markdown",
   "metadata": {},
   "source": [
    "Affichons ces coordonnées par rapport aux autres : "
   ]
  },
  {
   "cell_type": "code",
   "execution_count": 120,
   "metadata": {
    "ExecuteTime": {
     "end_time": "2019-01-11T17:46:07.792814Z",
     "start_time": "2019-01-11T17:46:07.279210Z"
    }
   },
   "outputs": [
    {
     "data": {
      "image/png": "[encoded data removed]",
      "text/plain": [
       "<Figure size 720x360 with 1 Axes>"
      ]
     },
     "metadata": {
      "needs_background": "light"
     },
     "output_type": "display_data"
    }
   ],
   "source": [
    "%matplotlib inline\n",
    "plt.figure(figsize=(10,5))\n",
    "plt.scatter(df_train.bs_lat,df_train.bs_lng, alpha=0.2)\n",
    "plt.scatter(a3.index.get_level_values(0),a3.index.get_level_values(1))\n",
    "plt.show()"
   ]
  },
  {
   "attachments": {
    "image.png": {
     "image/png": "[encoded data removed]"
    }
   },
   "cell_type": "markdown",
   "metadata": {},
   "source": [
    "![image.png](attachment:image.png)"
   ]
  },
  {
   "cell_type": "markdown",
   "metadata": {},
   "source": [
    "On se rend compte les coordonnées (64.300000,-68.500000) sont clairement un outlayer (les autres bases se situent dans le Colorado). Il est sans doute plus judicieux de les supprimer."
   ]
  },
  {
   "cell_type": "markdown",
   "metadata": {},
   "source": [
    "**Si on supprime ces bases que se passe-t-il ?**"
   ]
  },
  {
   "cell_type": "code",
   "execution_count": 88,
   "metadata": {
    "ExecuteTime": {
     "end_time": "2019-01-11T17:25:15.065213Z",
     "start_time": "2019-01-11T17:25:15.041291Z"
    },
    "hide_input": true
   },
   "outputs": [
    {
     "name": "stdout",
     "output_type": "stream",
     "text": [
      "train:\n",
      "nombre de messages sur (64.300000,-68.500000)\n",
      "4389\n",
      "Perte en volume du set : 11.18%\n",
      "\n",
      "test:\n",
      "nombre de messages sur (64.300000,-68.500000)\n",
      "3069\n",
      "Perte en volume du set : 10.48%\n"
     ]
    }
   ],
   "source": [
    "# Nombre de messages qui arrivent sur les coordonnées (64.300000,-68.500000) : \n",
    "print('train:')\n",
    "print('nombre de messages sur (64.300000,-68.500000)')\n",
    "print(df_train[df_train.bs_lng==-68.5].messid.value_counts().sum())\n",
    "print(f'Perte en volume du set : {df_train[df_train.bs_lng==-68.5].messid.value_counts().sum()/df_train.messid.count()*100:.2f}%')\n",
    "print('\\ntest:')\n",
    "print('nombre de messages sur (64.300000,-68.500000)')\n",
    "print(df_mess_test[df_mess_test.bs_lat==64.3].messid.value_counts().sum())\n",
    "print(f'Perte en volume du set : {df_mess_test[df_mess_test.bs_lat==64.3].messid.value_counts().sum()/df_mess_test.messid.count()*100:.2f}%')"
   ]
  },
  {
   "cell_type": "markdown",
   "metadata": {},
   "source": [
    "**On constate que l'on retrouve ces mêmes outlayers dans le jeu de test et cela représente 10% des messages ! Donc afin de ne pas biaiser l'apprentissage du modèle, nous allons tout de même les conserver par la suite tout en sachant qu'il s'agit d'outlayers.**"
   ]
  },
  {
   "cell_type": "code",
   "execution_count": 89,
   "metadata": {
    "ExecuteTime": {
     "end_time": "2019-01-11T17:25:22.394104Z",
     "start_time": "2019-01-11T17:25:22.374158Z"
    }
   },
   "outputs": [
    {
     "data": {
      "text/plain": [
       "(34861, 10)"
      ]
     },
     "execution_count": 89,
     "metadata": {},
     "output_type": "execute_result"
    }
   ],
   "source": [
    "df_train_clean = df_train.drop(index=df_train[df_train.bs_lng==-68.5].index)\n",
    "df_test_clean = df_mess_test.drop(index=df_mess_test[df_mess_test.bs_lng==-68.5].index)\n",
    "df_train_clean.shape"
   ]
  },
  {
   "cell_type": "code",
   "execution_count": 90,
   "metadata": {
    "ExecuteTime": {
     "end_time": "2019-01-11T17:25:27.018763Z",
     "start_time": "2019-01-11T17:25:24.534407Z"
    }
   },
   "outputs": [
    {
     "data": {
      "image/png": "[encoded data removed]",
      "text/plain": [
       "<Figure size 864x288 with 2 Axes>"
      ]
     },
     "metadata": {
      "needs_background": "light"
     },
     "output_type": "display_data"
    }
   ],
   "source": [
    "%matplotlib inline\n",
    "# Superpostion des coordonnées des bases et des coordonnées réels : \n",
    "plt.figure(figsize=(12,4))\n",
    "plt.subplot(1,2,1)\n",
    "plt.scatter(df_train_clean.bs_lat,df_train_clean.bs_lng, alpha=0.2)\n",
    "plt.scatter(pos_train.lat,pos_train.lng,c='orange',alpha=0.2)\n",
    "plt.vlines(x=43,ymin=-108, ymax=-102,linestyles='--', colors='red')\n",
    "plt.title('Train: Coordonnées des bases et coordonnées des messages')\n",
    "plt.xlabel('latitude')\n",
    "plt.ylabel('longitude')\n",
    "plt.legend(('bases','messages'))\n",
    "\n",
    "# Superposition des coordonnées des bases du test et du train : \n",
    "plt.subplot(1,2,2)\n",
    "plt.scatter(df_mess_test.bs_lat,df_mess_test.bs_lng)\n",
    "plt.scatter(df_train.bs_lat,df_train.bs_lng, alpha=0.2, c='orange')\n",
    "plt.title('Coordonnées des bases du test et du train')\n",
    "plt.xlabel('latitude')\n",
    "plt.ylabel('longitude')\n",
    "plt.legend(('bases test','bases train'))\n",
    "plt.show()\n"
   ]
  },
  {
   "cell_type": "markdown",
   "metadata": {},
   "source": [
    "Le graphiques de gauche nous donnent envi de sortir du train les coordonnées à droite du trait vertical (lat > 43°) qui semblent être des outlayers. Depuis comme on peut le constater sur le graphique de droite, ces bases n'existent pas dans le jeu de test. Par conséquent les supprimer n'aura aucun impact !"
   ]
  },
  {
   "cell_type": "markdown",
   "metadata": {},
   "source": [
    "Par ailleurs, quand on observe le RSSI moyen et médian de ces messages, on se rend compte qu'il n'est pas bon : "
   ]
  },
  {
   "cell_type": "code",
   "execution_count": 91,
   "metadata": {
    "ExecuteTime": {
     "end_time": "2019-01-11T17:28:33.037565Z",
     "start_time": "2019-01-11T17:28:33.028625Z"
    }
   },
   "outputs": [
    {
     "name": "stdout",
     "output_type": "stream",
     "text": [
      "RSSI moyen : -133.42696629214606\n",
      "RSSI median : -135.0\n"
     ]
    }
   ],
   "source": [
    "print(f'RSSI moyen : {df_train_clean[df_train_clean.bs_lat>43].rssi.mean()}')\n",
    "print(f'RSSI median : {df_train_clean[df_train_clean.bs_lat>43].rssi.median()}')"
   ]
  },
  {
   "cell_type": "code",
   "execution_count": 96,
   "metadata": {
    "ExecuteTime": {
     "end_time": "2019-01-11T17:32:10.403554Z",
     "start_time": "2019-01-11T17:32:10.173136Z"
    }
   },
   "outputs": [
    {
     "data": {
      "image/png": "[encoded data removed]",
      "text/plain": [
       "<Figure size 864x288 with 1 Axes>"
      ]
     },
     "metadata": {
      "needs_background": "light"
     },
     "output_type": "display_data"
    }
   ],
   "source": [
    "# Comparaison des RSSI Outlayers avec les autres RSSI :\n",
    "%matplotlib inline\n",
    "plt.figure(figsize=(12,4))\n",
    "df_train.rssi.plot.hist(bins=30, density = True)\n",
    "df_train_clean[df_train_clean.bs_lat>43].rssi.plot.hist(bins=30, density=True)\n",
    "plt.show()"
   ]
  },
  {
   "cell_type": "code",
   "execution_count": 121,
   "metadata": {
    "ExecuteTime": {
     "end_time": "2019-01-11T17:47:58.006195Z",
     "start_time": "2019-01-11T17:47:57.997197Z"
    },
    "scrolled": true
   },
   "outputs": [
    {
     "data": {
      "text/plain": [
       "messid     48\n",
       "bsid       10\n",
       "did         1\n",
       "nseq        5\n",
       "rssi       56\n",
       "time_ux    48\n",
       "bs_lat     10\n",
       "bs_lng     10\n",
       "lat         1\n",
       "lng         1\n",
       "dtype: int64"
      ]
     },
     "execution_count": 121,
     "metadata": {},
     "output_type": "execute_result"
    }
   ],
   "source": [
    "# Obeservation des bases situées entre la latitude 43 et 45\n",
    "df_train_clean[df_train_clean.bs_lat>43].nunique()"
   ]
  },
  {
   "cell_type": "markdown",
   "metadata": {},
   "source": [
    "On se rend compte que ces bases dont la latitude est 43< lat <45 sont au nombre de 10 et ne captent qu'un seul device"
   ]
  },
  {
   "cell_type": "code",
   "execution_count": 119,
   "metadata": {
    "ExecuteTime": {
     "end_time": "2019-01-11T17:43:25.901259Z",
     "start_time": "2019-01-11T17:43:25.887298Z"
    }
   },
   "outputs": [
    {
     "name": "stdout",
     "output_type": "stream",
     "text": [
      "device ID:\n",
      "473288.0\n",
      "\n",
      "Base ID:\n",
      "[2800 2803 3848 3630 2808 3933 3501 4013 1443 7508]\n",
      "\n",
      "messid     73\n",
      "bsid       32\n",
      "did         1\n",
      "nseq        5\n",
      "rssi       85\n",
      "time_ux    73\n",
      "bs_lat     32\n",
      "bs_lng     32\n",
      "lat        11\n",
      "lng        11\n",
      "dtype: int64\n"
     ]
    }
   ],
   "source": [
    "a4 = df_train_clean[df_train_clean.bs_lat>43].did.value_counts()\n",
    "print('device ID:')\n",
    "print(a4.index.get_values()[0])\n",
    "print()\n",
    "b4 = df_train_clean[df_train_clean.bs_lat>43].bsid.value_counts()\n",
    "print('Base ID:')\n",
    "print(b4.index.get_values())\n",
    "print()\n",
    "print(df_train_clean[df_train_clean.did==a4.index.get_values()[0]].nunique())"
   ]
  },
  {
   "cell_type": "markdown",
   "metadata": {},
   "source": [
    "Par ailleurs ce device est capté par d'autres bases, il n'y a donc pas de mal à supprimer ces données du data set train."
   ]
  },
  {
   "cell_type": "markdown",
   "metadata": {},
   "source": [
    "### Cleaning de données"
   ]
  },
  {
   "cell_type": "markdown",
   "metadata": {},
   "source": [
    "**En résumer nous allons seulement supprimer les messages dont les bases ont une latitude comprise en 43 et 45:**"
   ]
  },
  {
   "cell_type": "code",
   "execution_count": 183,
   "metadata": {
    "ExecuteTime": {
     "end_time": "2019-01-11T18:31:08.223387Z",
     "start_time": "2019-01-11T18:31:08.208383Z"
    }
   },
   "outputs": [],
   "source": [
    "to_drop = df_train[(df_train.bs_lat > 43) & (df_train.bs_lat <46)].index\n",
    "df_train = df_train.drop(index=to_drop)"
   ]
  },
  {
   "cell_type": "code",
   "execution_count": 126,
   "metadata": {
    "ExecuteTime": {
     "end_time": "2019-01-11T17:51:11.961562Z",
     "start_time": "2019-01-11T17:51:10.538335Z"
    }
   },
   "outputs": [
    {
     "data": {
      "image/png": "[encoded data removed]",
      "text/plain": [
       "<Figure size 432x288 with 1 Axes>"
      ]
     },
     "metadata": {
      "needs_background": "light"
     },
     "output_type": "display_data"
    }
   ],
   "source": [
    "%matplotlib inline\n",
    "plt.scatter(df_train.bs_lat,df_train.bs_lng, alpha=0.2)\n",
    "plt.scatter(pos_train.lat,pos_train.lng,c='orange',alpha=0.2)\n",
    "plt.title('Train: Coordonnées des bases et coordonnées des messages')\n",
    "plt.xlabel('latitude')\n",
    "plt.ylabel('longitude')\n",
    "plt.legend(('bases','messages'))\n",
    "plt.show()"
   ]
  },
  {
   "cell_type": "markdown",
   "metadata": {},
   "source": [
    "===================================================================================================================="
   ]
  },
  {
   "cell_type": "markdown",
   "metadata": {},
   "source": [
    "## Etude du RSSI et nombre de bases "
   ]
  },
  {
   "attachments": {
    "image.png": {
     "image/png": "[encoded data removed]"
    }
   },
   "cell_type": "markdown",
   "metadata": {},
   "source": [
    "![image.png](attachment:image.png)"
   ]
  },
  {
   "attachments": {
    "image.png": {
     "image/png": "[encoded data removed]"
    }
   },
   "cell_type": "markdown",
   "metadata": {},
   "source": [
    "![image.png](attachment:image.png)"
   ]
  },
  {
   "cell_type": "markdown",
   "metadata": {},
   "source": [
    "**On se rend compte que le RSSI est directement lié à la qualité du signal. De même que le nombre de bases qui reçoivent un même message**"
   ]
  },
  {
   "cell_type": "code",
   "execution_count": 192,
   "metadata": {
    "ExecuteTime": {
     "end_time": "2019-01-11T18:41:02.649262Z",
     "start_time": "2019-01-11T18:41:02.328121Z"
    }
   },
   "outputs": [
    {
     "name": "stdout",
     "output_type": "stream",
     "text": [
      "RSSI median : -127.333333333\n"
     ]
    },
    {
     "data": {
      "image/png": "[encoded data removed]",
      "text/plain": [
       "<Figure size 720x360 with 1 Axes>"
      ]
     },
     "metadata": {
      "needs_background": "light"
     },
     "output_type": "display_data"
    }
   ],
   "source": [
    "# Etude du signal RSSI pour le dataset de Train : \n",
    "%matplotlib inline\n",
    "\n",
    "print(f'RSSI median : {df_train.rssi.median()}')\n",
    "plt.figure(figsize=(10,5))\n",
    "df_train.rssi.hist(bins=100, density=True, cumulative=False)\n",
    "plt.vlines(x=-127, ymax=.06, ymin=0, linestyles='--',colors='r',label='mediane = 127.3')\n",
    "plt.legend()\n",
    "plt.show()\n"
   ]
  },
  {
   "cell_type": "code",
   "execution_count": 191,
   "metadata": {
    "ExecuteTime": {
     "end_time": "2019-01-11T18:40:58.863734Z",
     "start_time": "2019-01-11T18:40:58.344125Z"
    }
   },
   "outputs": [
    {
     "name": "stdout",
     "output_type": "stream",
     "text": [
      "Mediane nombres de bases : 3.0\n"
     ]
    },
    {
     "data": {
      "image/png": "[encoded data removed]",
      "text/plain": [
       "<Figure size 720x360 with 1 Axes>"
      ]
     },
     "metadata": {
      "needs_background": "light"
     },
     "output_type": "display_data"
    }
   ],
   "source": [
    "# Nombre de bases qui reçoivent le même message : \n",
    "%matplotlib inline\n",
    "\n",
    "print(f\"Mediane nombres de bases : {df_mess_train.groupby('messid').bsid.nunique().median()}\")\n",
    "plt.figure(figsize=(10,5))\n",
    "df_mess_train.groupby('messid').bsid.nunique().plot.hist(bins=100, cumulative= False, density=True)\n",
    "plt.vlines(x=3,ymax=0.45,ymin=0,linestyles='--', colors='r', label='mediane=3')\n",
    "plt.xticks(ticks=np.arange(0,100,2))\n",
    "plt.legend()\n",
    "plt.show()"
   ]
  },
  {
   "cell_type": "markdown",
   "metadata": {},
   "source": [
    "On constate que la qualité des messages reçus n'est globalement pas très bonne. D'après les tableaux décrits ci-dessus,<br>\n",
    "on distingue 4 catégories de qaulité : Excellent, Bon, Moyen et Mauvais.\n",
    "<br>\n",
    "**Il semble judicieux de séparer notre jeux de données de la même manière afin de faciliter l'apprentissage des algorithmes et biaiser le moins possible l'apprentissage.**"
   ]
  },
  {
   "cell_type": "markdown",
   "metadata": {},
   "source": [
    "## Séparation du jeu de données en 4 : Excellent, Bon, Moyen, Mauvais"
   ]
  },
  {
   "cell_type": "markdown",
   "metadata": {},
   "source": [
    "Ici on sépare les jeux de données Train et Test suivant les critères décrits dans les tableaux vus précédemment pour la zone RC2 et RC4 : \n"
   ]
  },
  {
   "cell_type": "code",
   "execution_count": 204,
   "metadata": {
    "ExecuteTime": {
     "end_time": "2019-01-11T18:44:23.912663Z",
     "start_time": "2019-01-11T18:44:23.799995Z"
    }
   },
   "outputs": [
    {
     "name": "stdout",
     "output_type": "stream",
     "text": [
      "Mauvais : (20853, 10), Moyen : (3788, 10),Bon: (12997, 10), Excellent :(1434, 10)\n"
     ]
    }
   ],
   "source": [
    "# cf. fonction split_set au début du notebook partie 1.1\n",
    "df_train_bad, df_train_avg, df_train_good, df_train_excel = split_set(df_train)\n",
    "X_test_bad, X_test_avg, X_test_good, X_test_excel = split_set(df_mess_test)\n",
    "X_train_bad, y_train_bad = split_Xy(df_train_bad)\n",
    "X_train_avg, y_train_avg = split_Xy(df_train_avg)\n",
    "X_train_good, y_train_good = split_Xy(df_train_good)\n",
    "X_train_excl, y_train_excel = split_Xy(df_train_excel)\n",
    "\n",
    "print(f'Mauvais : {df_train_bad.shape}, Moyen : {df_train_avg.shape},\\\n",
    "Bon: {df_train_good.shape}, Excellent :{ df_train_excel.shape}')"
   ]
  },
  {
   "cell_type": "markdown",
   "metadata": {},
   "source": [
    "==============================================================================================================="
   ]
  },
  {
   "cell_type": "markdown",
   "metadata": {
    "heading_collapsed": true
   },
   "source": [
    "## Quelques visualisation supplémentaires sur les devices"
   ]
  },
  {
   "cell_type": "code",
   "execution_count": 174,
   "metadata": {
    "ExecuteTime": {
     "end_time": "2019-01-11T18:22:16.315509Z",
     "start_time": "2019-01-11T18:22:15.102753Z"
    },
    "hidden": true
   },
   "outputs": [
    {
     "data": {
      "image/png": "[encoded data removed]",
      "text/plain": [
       "<Figure size 1008x432 with 8 Axes>"
      ]
     },
     "metadata": {
      "needs_background": "light"
     },
     "output_type": "display_data"
    }
   ],
   "source": [
    "# plot la géolocalisation des n premiers devices\n",
    "%matplotlib inline\n",
    "n=8 # nombre de devices de 0 à 112\n",
    "fig = plt.figure(figsize=(14,6))\n",
    "for i in np.arange(n):\n",
    "    plt.subplot(2,4,i+1)\n",
    "    n_dev = df_train_clean.did.value_counts().index[i]\n",
    "    dev_i = df_train_clean[df_train_clean.did==n_dev]\n",
    "    plt.scatter(dev_i.lat,dev_i.lng,alpha=0.2)\n",
    "    plt.title(f'Trajets du device n°{n_dev}')\n",
    "plt.tight_layout()"
   ]
  },
  {
   "cell_type": "code",
   "execution_count": 56,
   "metadata": {
    "ExecuteTime": {
     "end_time": "2019-01-10T19:52:46.395455Z",
     "start_time": "2019-01-10T19:52:38.112911Z"
    },
    "collapsed": true,
    "hidden": true
   },
   "outputs": [
    {
     "data": {
      "application/javascript": [
       "/* Put everything inside the global mpl namespace */\n",
       "window.mpl = {};\n",
       "\n",
       "\n",
       "mpl.get_websocket_type = function() {\n",
       "    if (typeof(WebSocket) !== 'undefined') {\n",
       "        return WebSocket;\n",
       "    } else if (typeof(MozWebSocket) !== 'undefined') {\n",
       "        return MozWebSocket;\n",
       "    } else {\n",
       "        alert('Your browser does not have WebSocket support.' +\n",
       "              'Please try Chrome, Safari or Firefox ≥ 6. ' +\n",
       "              'Firefox 4 and 5 are also supported but you ' +\n",
       "              'have to enable WebSockets in about:config.');\n",
       "    };\n",
       "}\n",
       "\n",
       "mpl.figure = function(figure_id, websocket, ondownload, parent_element) {\n",
       "    this.id = figure_id;\n",
       "\n",
       "    this.ws = websocket;\n",
       "\n",
       "    this.supports_binary = (this.ws.binaryType != undefined);\n",
       "\n",
       "    if (!this.supports_binary) {\n",
       "        var warnings = document.getElementById(\"mpl-warnings\");\n",
       "        if (warnings) {\n",
       "            warnings.style.display = 'block';\n",
       "            warnings.textContent = (\n",
       "                \"This browser does not support binary websocket messages. \" +\n",
       "                    \"Performance may be slow.\");\n",
       "        }\n",
       "    }\n",
       "\n",
       "    this.imageObj = new Image();\n",
       "\n",
       "    this.context = undefined;\n",
       "    this.message = undefined;\n",
       "    this.canvas = undefined;\n",
       "    this.rubberband_canvas = undefined;\n",
       "    this.rubberband_context = undefined;\n",
       "    this.format_dropdown = undefined;\n",
       "\n",
       "    this.image_mode = 'full';\n",
       "\n",
       "    this.root = $('<div/>');\n",
       "    this._root_extra_style(this.root)\n",
       "    this.root.attr('style', 'display: inline-block');\n",
       "\n",
       "    $(parent_element).append(this.root);\n",
       "\n",
       "    this._init_header(this);\n",
       "    this._init_canvas(this);\n",
       "    this._init_toolbar(this);\n",
       "\n",
       "    var fig = this;\n",
       "\n",
       "    this.waiting = false;\n",
       "\n",
       "    this.ws.onopen =  function () {\n",
       "            fig.send_message(\"supports_binary\", {value: fig.supports_binary});\n",
       "            fig.send_message(\"send_image_mode\", {});\n",
       "            if (mpl.ratio != 1) {\n",
       "                fig.send_message(\"set_dpi_ratio\", {'dpi_ratio': mpl.ratio});\n",
       "            }\n",
       "            fig.send_message(\"refresh\", {});\n",
       "        }\n",
       "\n",
       "    this.imageObj.onload = function() {\n",
       "            if (fig.image_mode == 'full') {\n",
       "                // Full images could contain transparency (where diff images\n",
       "                // almost always do), so we need to clear the canvas so that\n",
       "                // there is no ghosting.\n",
       "                fig.context.clearRect(0, 0, fig.canvas.width, fig.canvas.height);\n",
       "            }\n",
       "            fig.context.drawImage(fig.imageObj, 0, 0);\n",
       "        };\n",
       "\n",
       "    this.imageObj.onunload = function() {\n",
       "        fig.ws.close();\n",
       "    }\n",
       "\n",
       "    this.ws.onmessage = this._make_on_message_function(this);\n",
       "\n",
       "    this.ondownload = ondownload;\n",
       "}\n",
       "\n",
       "mpl.figure.prototype._init_header = function() {\n",
       "    var titlebar = $(\n",
       "        '<div class=\"ui-dialog-titlebar ui-widget-header ui-corner-all ' +\n",
       "        'ui-helper-clearfix\"/>');\n",
       "    var titletext = $(\n",
       "        '<div class=\"ui-dialog-title\" style=\"width: 100%; ' +\n",
       "        'text-align: center; padding: 3px;\"/>');\n",
       "    titlebar.append(titletext)\n",
       "    this.root.append(titlebar);\n",
       "    this.header = titletext[0];\n",
       "}\n",
       "\n",
       "\n",
       "\n",
       "mpl.figure.prototype._canvas_extra_style = function(canvas_div) {\n",
       "\n",
       "}\n",
       "\n",
       "\n",
       "mpl.figure.prototype._root_extra_style = function(canvas_div) {\n",
       "\n",
       "}\n",
       "\n",
       "mpl.figure.prototype._init_canvas = function() {\n",
       "    var fig = this;\n",
       "\n",
       "    var canvas_div = $('<div/>');\n",
       "\n",
       "    canvas_div.attr('style', 'position: relative; clear: both; outline: 0');\n",
       "\n",
       "    function canvas_keyboard_event(event) {\n",
       "        return fig.key_event(event, event['data']);\n",
       "    }\n",
       "\n",
       "    canvas_div.keydown('key_press', canvas_keyboard_event);\n",
       "    canvas_div.keyup('key_release', canvas_keyboard_event);\n",
       "    this.canvas_div = canvas_div\n",
       "    this._canvas_extra_style(canvas_div)\n",
       "    this.root.append(canvas_div);\n",
       "\n",
       "    var canvas = $('<canvas/>');\n",
       "    canvas.addClass('mpl-canvas');\n",
       "    canvas.attr('style', \"left: 0; top: 0; z-index: 0; outline: 0\")\n",
       "\n",
       "    this.canvas = canvas[0];\n",
       "    this.context = canvas[0].getContext(\"2d\");\n",
       "\n",
       "    var backingStore = this.context.backingStorePixelRatio ||\n",
       "\tthis.context.webkitBackingStorePixelRatio ||\n",
       "\tthis.context.mozBackingStorePixelRatio ||\n",
       "\tthis.context.msBackingStorePixelRatio ||\n",
       "\tthis.context.oBackingStorePixelRatio ||\n",
       "\tthis.context.backingStorePixelRatio || 1;\n",
       "\n",
       "    mpl.ratio = (window.devicePixelRatio || 1) / backingStore;\n",
       "\n",
       "    var rubberband = $('<canvas/>');\n",
       "    rubberband.attr('style', \"position: absolute; left: 0; top: 0; z-index: 1;\")\n",
       "\n",
       "    var pass_mouse_events = true;\n",
       "\n",
       "    canvas_div.resizable({\n",
       "        start: function(event, ui) {\n",
       "            pass_mouse_events = false;\n",
       "        },\n",
       "        resize: function(event, ui) {\n",
       "            fig.request_resize(ui.size.width, ui.size.height);\n",
       "        },\n",
       "        stop: function(event, ui) {\n",
       "            pass_mouse_events = true;\n",
       "            fig.request_resize(ui.size.width, ui.size.height);\n",
       "        },\n",
       "    });\n",
       "\n",
       "    function mouse_event_fn(event) {\n",
       "        if (pass_mouse_events)\n",
       "            return fig.mouse_event(event, event['data']);\n",
       "    }\n",
       "\n",
       "    rubberband.mousedown('button_press', mouse_event_fn);\n",
       "    rubberband.mouseup('button_release', mouse_event_fn);\n",
       "    // Throttle sequential mouse events to 1 every 20ms.\n",
       "    rubberband.mousemove('motion_notify', mouse_event_fn);\n",
       "\n",
       "    rubberband.mouseenter('figure_enter', mouse_event_fn);\n",
       "    rubberband.mouseleave('figure_leave', mouse_event_fn);\n",
       "\n",
       "    canvas_div.on(\"wheel\", function (event) {\n",
       "        event = event.originalEvent;\n",
       "        event['data'] = 'scroll'\n",
       "        if (event.deltaY < 0) {\n",
       "            event.step = 1;\n",
       "        } else {\n",
       "            event.step = -1;\n",
       "        }\n",
       "        mouse_event_fn(event);\n",
       "    });\n",
       "\n",
       "    canvas_div.append(canvas);\n",
       "    canvas_div.append(rubberband);\n",
       "\n",
       "    this.rubberband = rubberband;\n",
       "    this.rubberband_canvas = rubberband[0];\n",
       "    this.rubberband_context = rubberband[0].getContext(\"2d\");\n",
       "    this.rubberband_context.strokeStyle = \"#000000\";\n",
       "\n",
       "    this._resize_canvas = function(width, height) {\n",
       "        // Keep the size of the canvas, canvas container, and rubber band\n",
       "        // canvas in synch.\n",
       "        canvas_div.css('width', width)\n",
       "        canvas_div.css('height', height)\n",
       "\n",
       "        canvas.attr('width', width * mpl.ratio);\n",
       "        canvas.attr('height', height * mpl.ratio);\n",
       "        canvas.attr('style', 'width: ' + width + 'px; height: ' + height + 'px;');\n",
       "\n",
       "        rubberband.attr('width', width);\n",
       "        rubberband.attr('height', height);\n",
       "    }\n",
       "\n",
       "    // Set the figure to an initial 600x600px, this will subsequently be updated\n",
       "    // upon first draw.\n",
       "    this._resize_canvas(600, 600);\n",
       "\n",
       "    // Disable right mouse context menu.\n",
       "    $(this.rubberband_canvas).bind(\"contextmenu\",function(e){\n",
       "        return false;\n",
       "    });\n",
       "\n",
       "    function set_focus () {\n",
       "        canvas.focus();\n",
       "        canvas_div.focus();\n",
       "    }\n",
       "\n",
       "    window.setTimeout(set_focus, 100);\n",
       "}\n",
       "\n",
       "mpl.figure.prototype._init_toolbar = function() {\n",
       "    var fig = this;\n",
       "\n",
       "    var nav_element = $('<div/>')\n",
       "    nav_element.attr('style', 'width: 100%');\n",
       "    this.root.append(nav_element);\n",
       "\n",
       "    // Define a callback function for later on.\n",
       "    function toolbar_event(event) {\n",
       "        return fig.toolbar_button_onclick(event['data']);\n",
       "    }\n",
       "    function toolbar_mouse_event(event) {\n",
       "        return fig.toolbar_button_onmouseover(event['data']);\n",
       "    }\n",
       "\n",
       "    for(var toolbar_ind in mpl.toolbar_items) {\n",
       "        var name = mpl.toolbar_items[toolbar_ind][0];\n",
       "        var tooltip = mpl.toolbar_items[toolbar_ind][1];\n",
       "        var image = mpl.toolbar_items[toolbar_ind][2];\n",
       "        var method_name = mpl.toolbar_items[toolbar_ind][3];\n",
       "\n",
       "        if (!name) {\n",
       "            // put a spacer in here.\n",
       "            continue;\n",
       "        }\n",
       "        var button = $('<button/>');\n",
       "        button.addClass('ui-button ui-widget ui-state-default ui-corner-all ' +\n",
       "                        'ui-button-icon-only');\n",
       "        button.attr('role', 'button');\n",
       "        button.attr('aria-disabled', 'false');\n",
       "        button.click(method_name, toolbar_event);\n",
       "        button.mouseover(tooltip, toolbar_mouse_event);\n",
       "\n",
       "        var icon_img = $('<span/>');\n",
       "        icon_img.addClass('ui-button-icon-primary ui-icon');\n",
       "        icon_img.addClass(image);\n",
       "        icon_img.addClass('ui-corner-all');\n",
       "\n",
       "        var tooltip_span = $('<span/>');\n",
       "        tooltip_span.addClass('ui-button-text');\n",
       "        tooltip_span.html(tooltip);\n",
       "\n",
       "        button.append(icon_img);\n",
       "        button.append(tooltip_span);\n",
       "\n",
       "        nav_element.append(button);\n",
       "    }\n",
       "\n",
       "    var fmt_picker_span = $('<span/>');\n",
       "\n",
       "    var fmt_picker = $('<select/>');\n",
       "    fmt_picker.addClass('mpl-toolbar-option ui-widget ui-widget-content');\n",
       "    fmt_picker_span.append(fmt_picker);\n",
       "    nav_element.append(fmt_picker_span);\n",
       "    this.format_dropdown = fmt_picker[0];\n",
       "\n",
       "    for (var ind in mpl.extensions) {\n",
       "        var fmt = mpl.extensions[ind];\n",
       "        var option = $(\n",
       "            '<option/>', {selected: fmt === mpl.default_extension}).html(fmt);\n",
       "        fmt_picker.append(option)\n",
       "    }\n",
       "\n",
       "    // Add hover states to the ui-buttons\n",
       "    $( \".ui-button\" ).hover(\n",
       "        function() { $(this).addClass(\"ui-state-hover\");},\n",
       "        function() { $(this).removeClass(\"ui-state-hover\");}\n",
       "    );\n",
       "\n",
       "    var status_bar = $('<span class=\"mpl-message\"/>');\n",
       "    nav_element.append(status_bar);\n",
       "    this.message = status_bar[0];\n",
       "}\n",
       "\n",
       "mpl.figure.prototype.request_resize = function(x_pixels, y_pixels) {\n",
       "    // Request matplotlib to resize the figure. Matplotlib will then trigger a resize in the client,\n",
       "    // which will in turn request a refresh of the image.\n",
       "    this.send_message('resize', {'width': x_pixels, 'height': y_pixels});\n",
       "}\n",
       "\n",
       "mpl.figure.prototype.send_message = function(type, properties) {\n",
       "    properties['type'] = type;\n",
       "    properties['figure_id'] = this.id;\n",
       "    this.ws.send(JSON.stringify(properties));\n",
       "}\n",
       "\n",
       "mpl.figure.prototype.send_draw_message = function() {\n",
       "    if (!this.waiting) {\n",
       "        this.waiting = true;\n",
       "        this.ws.send(JSON.stringify({type: \"draw\", figure_id: this.id}));\n",
       "    }\n",
       "}\n",
       "\n",
       "\n",
       "mpl.figure.prototype.handle_save = function(fig, msg) {\n",
       "    var format_dropdown = fig.format_dropdown;\n",
       "    var format = format_dropdown.options[format_dropdown.selectedIndex].value;\n",
       "    fig.ondownload(fig, format);\n",
       "}\n",
       "\n",
       "\n",
       "mpl.figure.prototype.handle_resize = function(fig, msg) {\n",
       "    var size = msg['size'];\n",
       "    if (size[0] != fig.canvas.width || size[1] != fig.canvas.height) {\n",
       "        fig._resize_canvas(size[0], size[1]);\n",
       "        fig.send_message(\"refresh\", {});\n",
       "    };\n",
       "}\n",
       "\n",
       "mpl.figure.prototype.handle_rubberband = function(fig, msg) {\n",
       "    var x0 = msg['x0'] / mpl.ratio;\n",
       "    var y0 = (fig.canvas.height - msg['y0']) / mpl.ratio;\n",
       "    var x1 = msg['x1'] / mpl.ratio;\n",
       "    var y1 = (fig.canvas.height - msg['y1']) / mpl.ratio;\n",
       "    x0 = Math.floor(x0) + 0.5;\n",
       "    y0 = Math.floor(y0) + 0.5;\n",
       "    x1 = Math.floor(x1) + 0.5;\n",
       "    y1 = Math.floor(y1) + 0.5;\n",
       "    var min_x = Math.min(x0, x1);\n",
       "    var min_y = Math.min(y0, y1);\n",
       "    var width = Math.abs(x1 - x0);\n",
       "    var height = Math.abs(y1 - y0);\n",
       "\n",
       "    fig.rubberband_context.clearRect(\n",
       "        0, 0, fig.canvas.width, fig.canvas.height);\n",
       "\n",
       "    fig.rubberband_context.strokeRect(min_x, min_y, width, height);\n",
       "}\n",
       "\n",
       "mpl.figure.prototype.handle_figure_label = function(fig, msg) {\n",
       "    // Updates the figure title.\n",
       "    fig.header.textContent = msg['label'];\n",
       "}\n",
       "\n",
       "mpl.figure.prototype.handle_cursor = function(fig, msg) {\n",
       "    var cursor = msg['cursor'];\n",
       "    switch(cursor)\n",
       "    {\n",
       "    case 0:\n",
       "        cursor = 'pointer';\n",
       "        break;\n",
       "    case 1:\n",
       "        cursor = 'default';\n",
       "        break;\n",
       "    case 2:\n",
       "        cursor = 'crosshair';\n",
       "        break;\n",
       "    case 3:\n",
       "        cursor = 'move';\n",
       "        break;\n",
       "    }\n",
       "    fig.rubberband_canvas.style.cursor = cursor;\n",
       "}\n",
       "\n",
       "mpl.figure.prototype.handle_message = function(fig, msg) {\n",
       "    fig.message.textContent = msg['message'];\n",
       "}\n",
       "\n",
       "mpl.figure.prototype.handle_draw = function(fig, msg) {\n",
       "    // Request the server to send over a new figure.\n",
       "    fig.send_draw_message();\n",
       "}\n",
       "\n",
       "mpl.figure.prototype.handle_image_mode = function(fig, msg) {\n",
       "    fig.image_mode = msg['mode'];\n",
       "}\n",
       "\n",
       "mpl.figure.prototype.updated_canvas_event = function() {\n",
       "    // Called whenever the canvas gets updated.\n",
       "    this.send_message(\"ack\", {});\n",
       "}\n",
       "\n",
       "// A function to construct a web socket function for onmessage handling.\n",
       "// Called in the figure constructor.\n",
       "mpl.figure.prototype._make_on_message_function = function(fig) {\n",
       "    return function socket_on_message(evt) {\n",
       "        if (evt.data instanceof Blob) {\n",
       "            /* FIXME: We get \"Resource interpreted as Image but\n",
       "             * transferred with MIME type text/plain:\" errors on\n",
       "             * Chrome.  But how to set the MIME type?  It doesn't seem\n",
       "             * to be part of the websocket stream */\n",
       "            evt.data.type = \"image/png\";\n",
       "\n",
       "            /* Free the memory for the previous frames */\n",
       "            if (fig.imageObj.src) {\n",
       "                (window.URL || window.webkitURL).revokeObjectURL(\n",
       "                    fig.imageObj.src);\n",
       "            }\n",
       "\n",
       "            fig.imageObj.src = (window.URL || window.webkitURL).createObjectURL(\n",
       "                evt.data);\n",
       "            fig.updated_canvas_event();\n",
       "            fig.waiting = false;\n",
       "            return;\n",
       "        }\n",
       "        else if (typeof evt.data === 'string' && evt.data.slice(0, 21) == \"data:image/png;base64\") {\n",
       "            fig.imageObj.src = evt.data;\n",
       "            fig.updated_canvas_event();\n",
       "            fig.waiting = false;\n",
       "            return;\n",
       "        }\n",
       "\n",
       "        var msg = JSON.parse(evt.data);\n",
       "        var msg_type = msg['type'];\n",
       "\n",
       "        // Call the  \"handle_{type}\" callback, which takes\n",
       "        // the figure and JSON message as its only arguments.\n",
       "        try {\n",
       "            var callback = fig[\"handle_\" + msg_type];\n",
       "        } catch (e) {\n",
       "            console.log(\"No handler for the '\" + msg_type + \"' message type: \", msg);\n",
       "            return;\n",
       "        }\n",
       "\n",
       "        if (callback) {\n",
       "            try {\n",
       "                // console.log(\"Handling '\" + msg_type + \"' message: \", msg);\n",
       "                callback(fig, msg);\n",
       "            } catch (e) {\n",
       "                console.log(\"Exception inside the 'handler_\" + msg_type + \"' callback:\", e, e.stack, msg);\n",
       "            }\n",
       "        }\n",
       "    };\n",
       "}\n",
       "\n",
       "// from http://stackoverflow.com/questions/1114465/getting-mouse-location-in-canvas\n",
       "mpl.findpos = function(e) {\n",
       "    //this section is from http://www.quirksmode.org/js/events_properties.html\n",
       "    var targ;\n",
       "    if (!e)\n",
       "        e = window.event;\n",
       "    if (e.target)\n",
       "        targ = e.target;\n",
       "    else if (e.srcElement)\n",
       "        targ = e.srcElement;\n",
       "    if (targ.nodeType == 3) // defeat Safari bug\n",
       "        targ = targ.parentNode;\n",
       "\n",
       "    // jQuery normalizes the pageX and pageY\n",
       "    // pageX,Y are the mouse positions relative to the document\n",
       "    // offset() returns the position of the element relative to the document\n",
       "    var x = e.pageX - $(targ).offset().left;\n",
       "    var y = e.pageY - $(targ).offset().top;\n",
       "\n",
       "    return {\"x\": x, \"y\": y};\n",
       "};\n",
       "\n",
       "/*\n",
       " * return a copy of an object with only non-object keys\n",
       " * we need this to avoid circular references\n",
       " * http://stackoverflow.com/a/24161582/3208463\n",
       " */\n",
       "function simpleKeys (original) {\n",
       "  return Object.keys(original).reduce(function (obj, key) {\n",
       "    if (typeof original[key] !== 'object')\n",
       "        obj[key] = original[key]\n",
       "    return obj;\n",
       "  }, {});\n",
       "}\n",
       "\n",
       "mpl.figure.prototype.mouse_event = function(event, name) {\n",
       "    var canvas_pos = mpl.findpos(event)\n",
       "\n",
       "    if (name === 'button_press')\n",
       "    {\n",
       "        this.canvas.focus();\n",
       "        this.canvas_div.focus();\n",
       "    }\n",
       "\n",
       "    var x = canvas_pos.x * mpl.ratio;\n",
       "    var y = canvas_pos.y * mpl.ratio;\n",
       "\n",
       "    this.send_message(name, {x: x, y: y, button: event.button,\n",
       "                             step: event.step,\n",
       "                             guiEvent: simpleKeys(event)});\n",
       "\n",
       "    /* This prevents the web browser from automatically changing to\n",
       "     * the text insertion cursor when the button is pressed.  We want\n",
       "     * to control all of the cursor setting manually through the\n",
       "     * 'cursor' event from matplotlib */\n",
       "    event.preventDefault();\n",
       "    return false;\n",
       "}\n",
       "\n",
       "mpl.figure.prototype._key_event_extra = function(event, name) {\n",
       "    // Handle any extra behaviour associated with a key event\n",
       "}\n",
       "\n",
       "mpl.figure.prototype.key_event = function(event, name) {\n",
       "\n",
       "    // Prevent repeat events\n",
       "    if (name == 'key_press')\n",
       "    {\n",
       "        if (event.which === this._key)\n",
       "            return;\n",
       "        else\n",
       "            this._key = event.which;\n",
       "    }\n",
       "    if (name == 'key_release')\n",
       "        this._key = null;\n",
       "\n",
       "    var value = '';\n",
       "    if (event.ctrlKey && event.which != 17)\n",
       "        value += \"ctrl+\";\n",
       "    if (event.altKey && event.which != 18)\n",
       "        value += \"alt+\";\n",
       "    if (event.shiftKey && event.which != 16)\n",
       "        value += \"shift+\";\n",
       "\n",
       "    value += 'k';\n",
       "    value += event.which.toString();\n",
       "\n",
       "    this._key_event_extra(event, name);\n",
       "\n",
       "    this.send_message(name, {key: value,\n",
       "                             guiEvent: simpleKeys(event)});\n",
       "    return false;\n",
       "}\n",
       "\n",
       "mpl.figure.prototype.toolbar_button_onclick = function(name) {\n",
       "    if (name == 'download') {\n",
       "        this.handle_save(this, null);\n",
       "    } else {\n",
       "        this.send_message(\"toolbar_button\", {name: name});\n",
       "    }\n",
       "};\n",
       "\n",
       "mpl.figure.prototype.toolbar_button_onmouseover = function(tooltip) {\n",
       "    this.message.textContent = tooltip;\n",
       "};\n",
       "mpl.toolbar_items = [[\"Home\", \"Reset original view\", \"fa fa-home icon-home\", \"home\"], [\"Back\", \"Back to previous view\", \"fa fa-arrow-left icon-arrow-left\", \"back\"], [\"Forward\", \"Forward to next view\", \"fa fa-arrow-right icon-arrow-right\", \"forward\"], [\"\", \"\", \"\", \"\"], [\"Pan\", \"Pan axes with left mouse, zoom with right\", \"fa fa-arrows icon-move\", \"pan\"], [\"Zoom\", \"Zoom to rectangle\", \"fa fa-square-o icon-check-empty\", \"zoom\"], [\"\", \"\", \"\", \"\"], [\"Download\", \"Download plot\", \"fa fa-floppy-o icon-save\", \"download\"]];\n",
       "\n",
       "mpl.extensions = [\"eps\", \"jpeg\", \"pdf\", \"png\", \"ps\", \"raw\", \"svg\", \"tif\"];\n",
       "\n",
       "mpl.default_extension = \"png\";var comm_websocket_adapter = function(comm) {\n",
       "    // Create a \"websocket\"-like object which calls the given IPython comm\n",
       "    // object with the appropriate methods. Currently this is a non binary\n",
       "    // socket, so there is still some room for performance tuning.\n",
       "    var ws = {};\n",
       "\n",
       "    ws.close = function() {\n",
       "        comm.close()\n",
       "    };\n",
       "    ws.send = function(m) {\n",
       "        //console.log('sending', m);\n",
       "        comm.send(m);\n",
       "    };\n",
       "    // Register the callback with on_msg.\n",
       "    comm.on_msg(function(msg) {\n",
       "        //console.log('receiving', msg['content']['data'], msg);\n",
       "        // Pass the mpl event to the overridden (by mpl) onmessage function.\n",
       "        ws.onmessage(msg['content']['data'])\n",
       "    });\n",
       "    return ws;\n",
       "}\n",
       "\n",
       "mpl.mpl_figure_comm = function(comm, msg) {\n",
       "    // This is the function which gets called when the mpl process\n",
       "    // starts-up an IPython Comm through the \"matplotlib\" channel.\n",
       "\n",
       "    var id = msg.content.data.id;\n",
       "    // Get hold of the div created by the display call when the Comm\n",
       "    // socket was opened in Python.\n",
       "    var element = $(\"#\" + id);\n",
       "    var ws_proxy = comm_websocket_adapter(comm)\n",
       "\n",
       "    function ondownload(figure, format) {\n",
       "        window.open(figure.imageObj.src);\n",
       "    }\n",
       "\n",
       "    var fig = new mpl.figure(id, ws_proxy,\n",
       "                           ondownload,\n",
       "                           element.get(0));\n",
       "\n",
       "    // Call onopen now - mpl needs it, as it is assuming we've passed it a real\n",
       "    // web socket which is closed, not our websocket->open comm proxy.\n",
       "    ws_proxy.onopen();\n",
       "\n",
       "    fig.parent_element = element.get(0);\n",
       "    fig.cell_info = mpl.find_output_cell(\"<div id='\" + id + \"'></div>\");\n",
       "    if (!fig.cell_info) {\n",
       "        console.error(\"Failed to find cell for figure\", id, fig);\n",
       "        return;\n",
       "    }\n",
       "\n",
       "    var output_index = fig.cell_info[2]\n",
       "    var cell = fig.cell_info[0];\n",
       "\n",
       "};\n",
       "\n",
       "mpl.figure.prototype.handle_close = function(fig, msg) {\n",
       "    var width = fig.canvas.width/mpl.ratio\n",
       "    fig.root.unbind('remove')\n",
       "\n",
       "    // Update the output cell to use the data from the current canvas.\n",
       "    fig.push_to_output();\n",
       "    var dataURL = fig.canvas.toDataURL();\n",
       "    // Re-enable the keyboard manager in IPython - without this line, in FF,\n",
       "    // the notebook keyboard shortcuts fail.\n",
       "    IPython.keyboard_manager.enable()\n",
       "    $(fig.parent_element).html('<img src=\"' + dataURL + '\" width=\"' + width + '\">');\n",
       "    fig.close_ws(fig, msg);\n",
       "}\n",
       "\n",
       "mpl.figure.prototype.close_ws = function(fig, msg){\n",
       "    fig.send_message('closing', msg);\n",
       "    // fig.ws.close()\n",
       "}\n",
       "\n",
       "mpl.figure.prototype.push_to_output = function(remove_interactive) {\n",
       "    // Turn the data on the canvas into data in the output cell.\n",
       "    var width = this.canvas.width/mpl.ratio\n",
       "    var dataURL = this.canvas.toDataURL();\n",
       "    this.cell_info[1]['text/html'] = '<img src=\"' + dataURL + '\" width=\"' + width + '\">';\n",
       "}\n",
       "\n",
       "mpl.figure.prototype.updated_canvas_event = function() {\n",
       "    // Tell IPython that the notebook contents must change.\n",
       "    IPython.notebook.set_dirty(true);\n",
       "    this.send_message(\"ack\", {});\n",
       "    var fig = this;\n",
       "    // Wait a second, then push the new image to the DOM so\n",
       "    // that it is saved nicely (might be nice to debounce this).\n",
       "    setTimeout(function () { fig.push_to_output() }, 1000);\n",
       "}\n",
       "\n",
       "mpl.figure.prototype._init_toolbar = function() {\n",
       "    var fig = this;\n",
       "\n",
       "    var nav_element = $('<div/>')\n",
       "    nav_element.attr('style', 'width: 100%');\n",
       "    this.root.append(nav_element);\n",
       "\n",
       "    // Define a callback function for later on.\n",
       "    function toolbar_event(event) {\n",
       "        return fig.toolbar_button_onclick(event['data']);\n",
       "    }\n",
       "    function toolbar_mouse_event(event) {\n",
       "        return fig.toolbar_button_onmouseover(event['data']);\n",
       "    }\n",
       "\n",
       "    for(var toolbar_ind in mpl.toolbar_items){\n",
       "        var name = mpl.toolbar_items[toolbar_ind][0];\n",
       "        var tooltip = mpl.toolbar_items[toolbar_ind][1];\n",
       "        var image = mpl.toolbar_items[toolbar_ind][2];\n",
       "        var method_name = mpl.toolbar_items[toolbar_ind][3];\n",
       "\n",
       "        if (!name) { continue; };\n",
       "\n",
       "        var button = $('<button class=\"btn btn-default\" href=\"#\" title=\"' + name + '\"><i class=\"fa ' + image + ' fa-lg\"></i></button>');\n",
       "        button.click(method_name, toolbar_event);\n",
       "        button.mouseover(tooltip, toolbar_mouse_event);\n",
       "        nav_element.append(button);\n",
       "    }\n",
       "\n",
       "    // Add the status bar.\n",
       "    var status_bar = $('<span class=\"mpl-message\" style=\"text-align:right; float: right;\"/>');\n",
       "    nav_element.append(status_bar);\n",
       "    this.message = status_bar[0];\n",
       "\n",
       "    // Add the close button to the window.\n",
       "    var buttongrp = $('<div class=\"btn-group inline pull-right\"></div>');\n",
       "    var button = $('<button class=\"btn btn-mini btn-primary\" href=\"#\" title=\"Stop Interaction\"><i class=\"fa fa-power-off icon-remove icon-large\"></i></button>');\n",
       "    button.click(function (evt) { fig.handle_close(fig, {}); } );\n",
       "    button.mouseover('Stop Interaction', toolbar_mouse_event);\n",
       "    buttongrp.append(button);\n",
       "    var titlebar = this.root.find($('.ui-dialog-titlebar'));\n",
       "    titlebar.prepend(buttongrp);\n",
       "}\n",
       "\n",
       "mpl.figure.prototype._root_extra_style = function(el){\n",
       "    var fig = this\n",
       "    el.on(\"remove\", function(){\n",
       "\tfig.close_ws(fig, {});\n",
       "    });\n",
       "}\n",
       "\n",
       "mpl.figure.prototype._canvas_extra_style = function(el){\n",
       "    // this is important to make the div 'focusable\n",
       "    el.attr('tabindex', 0)\n",
       "    // reach out to IPython and tell the keyboard manager to turn it's self\n",
       "    // off when our div gets focus\n",
       "\n",
       "    // location in version 3\n",
       "    if (IPython.notebook.keyboard_manager) {\n",
       "        IPython.notebook.keyboard_manager.register_events(el);\n",
       "    }\n",
       "    else {\n",
       "        // location in version 2\n",
       "        IPython.keyboard_manager.register_events(el);\n",
       "    }\n",
       "\n",
       "}\n",
       "\n",
       "mpl.figure.prototype._key_event_extra = function(event, name) {\n",
       "    var manager = IPython.notebook.keyboard_manager;\n",
       "    if (!manager)\n",
       "        manager = IPython.keyboard_manager;\n",
       "\n",
       "    // Check for shift+enter\n",
       "    if (event.shiftKey && event.which == 13) {\n",
       "        this.canvas_div.blur();\n",
       "        event.shiftKey = false;\n",
       "        // Send a \"J\" for go to next cell\n",
       "        event.which = 74;\n",
       "        event.keyCode = 74;\n",
       "        manager.command_mode();\n",
       "        manager.handle_keydown(event);\n",
       "    }\n",
       "}\n",
       "\n",
       "mpl.figure.prototype.handle_save = function(fig, msg) {\n",
       "    fig.ondownload(fig, null);\n",
       "}\n",
       "\n",
       "\n",
       "mpl.find_output_cell = function(html_output) {\n",
       "    // Return the cell and output element which can be found *uniquely* in the notebook.\n",
       "    // Note - this is a bit hacky, but it is done because the \"notebook_saving.Notebook\"\n",
       "    // IPython event is triggered only after the cells have been serialised, which for\n",
       "    // our purposes (turning an active figure into a static one), is too late.\n",
       "    var cells = IPython.notebook.get_cells();\n",
       "    var ncells = cells.length;\n",
       "    for (var i=0; i<ncells; i++) {\n",
       "        var cell = cells[i];\n",
       "        if (cell.cell_type === 'code'){\n",
       "            for (var j=0; j<cell.output_area.outputs.length; j++) {\n",
       "                var data = cell.output_area.outputs[j];\n",
       "                if (data.data) {\n",
       "                    // IPython >= 3 moved mimebundle to data attribute of output\n",
       "                    data = data.data;\n",
       "                }\n",
       "                if (data['text/html'] == html_output) {\n",
       "                    return [cell, data, j];\n",
       "                }\n",
       "            }\n",
       "        }\n",
       "    }\n",
       "}\n",
       "\n",
       "// Register the function which deals with the matplotlib target/channel.\n",
       "// The kernel may be null if the page has been refreshed.\n",
       "if (IPython.notebook.kernel != null) {\n",
       "    IPython.notebook.kernel.comm_manager.register_target('matplotlib', mpl.mpl_figure_comm);\n",
       "}\n"
      ],
      "text/plain": [
       "<IPython.core.display.Javascript object>"
      ]
     },
     "metadata": {},
     "output_type": "display_data"
    },
    {
     "data": {
      "text/html": [
       "<img src=\"data:image/png;base64,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\" width=\"576\">"
      ],
      "text/plain": [
       "<IPython.core.display.HTML object>"
      ]
     },
     "metadata": {},
     "output_type": "display_data"
    },
    {
     "data": {
      "application/javascript": [
       "/* Put everything inside the global mpl namespace */\n",
       "window.mpl = {};\n",
       "\n",
       "\n",
       "mpl.get_websocket_type = function() {\n",
       "    if (typeof(WebSocket) !== 'undefined') {\n",
       "        return WebSocket;\n",
       "    } else if (typeof(MozWebSocket) !== 'undefined') {\n",
       "        return MozWebSocket;\n",
       "    } else {\n",
       "        alert('Your browser does not have WebSocket support.' +\n",
       "              'Please try Chrome, Safari or Firefox ≥ 6. ' +\n",
       "              'Firefox 4 and 5 are also supported but you ' +\n",
       "              'have to enable WebSockets in about:config.');\n",
       "    };\n",
       "}\n",
       "\n",
       "mpl.figure = function(figure_id, websocket, ondownload, parent_element) {\n",
       "    this.id = figure_id;\n",
       "\n",
       "    this.ws = websocket;\n",
       "\n",
       "    this.supports_binary = (this.ws.binaryType != undefined);\n",
       "\n",
       "    if (!this.supports_binary) {\n",
       "        var warnings = document.getElementById(\"mpl-warnings\");\n",
       "        if (warnings) {\n",
       "            warnings.style.display = 'block';\n",
       "            warnings.textContent = (\n",
       "                \"This browser does not support binary websocket messages. \" +\n",
       "                    \"Performance may be slow.\");\n",
       "        }\n",
       "    }\n",
       "\n",
       "    this.imageObj = new Image();\n",
       "\n",
       "    this.context = undefined;\n",
       "    this.message = undefined;\n",
       "    this.canvas = undefined;\n",
       "    this.rubberband_canvas = undefined;\n",
       "    this.rubberband_context = undefined;\n",
       "    this.format_dropdown = undefined;\n",
       "\n",
       "    this.image_mode = 'full';\n",
       "\n",
       "    this.root = $('<div/>');\n",
       "    this._root_extra_style(this.root)\n",
       "    this.root.attr('style', 'display: inline-block');\n",
       "\n",
       "    $(parent_element).append(this.root);\n",
       "\n",
       "    this._init_header(this);\n",
       "    this._init_canvas(this);\n",
       "    this._init_toolbar(this);\n",
       "\n",
       "    var fig = this;\n",
       "\n",
       "    this.waiting = false;\n",
       "\n",
       "    this.ws.onopen =  function () {\n",
       "            fig.send_message(\"supports_binary\", {value: fig.supports_binary});\n",
       "            fig.send_message(\"send_image_mode\", {});\n",
       "            if (mpl.ratio != 1) {\n",
       "                fig.send_message(\"set_dpi_ratio\", {'dpi_ratio': mpl.ratio});\n",
       "            }\n",
       "            fig.send_message(\"refresh\", {});\n",
       "        }\n",
       "\n",
       "    this.imageObj.onload = function() {\n",
       "            if (fig.image_mode == 'full') {\n",
       "                // Full images could contain transparency (where diff images\n",
       "                // almost always do), so we need to clear the canvas so that\n",
       "                // there is no ghosting.\n",
       "                fig.context.clearRect(0, 0, fig.canvas.width, fig.canvas.height);\n",
       "            }\n",
       "            fig.context.drawImage(fig.imageObj, 0, 0);\n",
       "        };\n",
       "\n",
       "    this.imageObj.onunload = function() {\n",
       "        fig.ws.close();\n",
       "    }\n",
       "\n",
       "    this.ws.onmessage = this._make_on_message_function(this);\n",
       "\n",
       "    this.ondownload = ondownload;\n",
       "}\n",
       "\n",
       "mpl.figure.prototype._init_header = function() {\n",
       "    var titlebar = $(\n",
       "        '<div class=\"ui-dialog-titlebar ui-widget-header ui-corner-all ' +\n",
       "        'ui-helper-clearfix\"/>');\n",
       "    var titletext = $(\n",
       "        '<div class=\"ui-dialog-title\" style=\"width: 100%; ' +\n",
       "        'text-align: center; padding: 3px;\"/>');\n",
       "    titlebar.append(titletext)\n",
       "    this.root.append(titlebar);\n",
       "    this.header = titletext[0];\n",
       "}\n",
       "\n",
       "\n",
       "\n",
       "mpl.figure.prototype._canvas_extra_style = function(canvas_div) {\n",
       "\n",
       "}\n",
       "\n",
       "\n",
       "mpl.figure.prototype._root_extra_style = function(canvas_div) {\n",
       "\n",
       "}\n",
       "\n",
       "mpl.figure.prototype._init_canvas = function() {\n",
       "    var fig = this;\n",
       "\n",
       "    var canvas_div = $('<div/>');\n",
       "\n",
       "    canvas_div.attr('style', 'position: relative; clear: both; outline: 0');\n",
       "\n",
       "    function canvas_keyboard_event(event) {\n",
       "        return fig.key_event(event, event['data']);\n",
       "    }\n",
       "\n",
       "    canvas_div.keydown('key_press', canvas_keyboard_event);\n",
       "    canvas_div.keyup('key_release', canvas_keyboard_event);\n",
       "    this.canvas_div = canvas_div\n",
       "    this._canvas_extra_style(canvas_div)\n",
       "    this.root.append(canvas_div);\n",
       "\n",
       "    var canvas = $('<canvas/>');\n",
       "    canvas.addClass('mpl-canvas');\n",
       "    canvas.attr('style', \"left: 0; top: 0; z-index: 0; outline: 0\")\n",
       "\n",
       "    this.canvas = canvas[0];\n",
       "    this.context = canvas[0].getContext(\"2d\");\n",
       "\n",
       "    var backingStore = this.context.backingStorePixelRatio ||\n",
       "\tthis.context.webkitBackingStorePixelRatio ||\n",
       "\tthis.context.mozBackingStorePixelRatio ||\n",
       "\tthis.context.msBackingStorePixelRatio ||\n",
       "\tthis.context.oBackingStorePixelRatio ||\n",
       "\tthis.context.backingStorePixelRatio || 1;\n",
       "\n",
       "    mpl.ratio = (window.devicePixelRatio || 1) / backingStore;\n",
       "\n",
       "    var rubberband = $('<canvas/>');\n",
       "    rubberband.attr('style', \"position: absolute; left: 0; top: 0; z-index: 1;\")\n",
       "\n",
       "    var pass_mouse_events = true;\n",
       "\n",
       "    canvas_div.resizable({\n",
       "        start: function(event, ui) {\n",
       "            pass_mouse_events = false;\n",
       "        },\n",
       "        resize: function(event, ui) {\n",
       "            fig.request_resize(ui.size.width, ui.size.height);\n",
       "        },\n",
       "        stop: function(event, ui) {\n",
       "            pass_mouse_events = true;\n",
       "            fig.request_resize(ui.size.width, ui.size.height);\n",
       "        },\n",
       "    });\n",
       "\n",
       "    function mouse_event_fn(event) {\n",
       "        if (pass_mouse_events)\n",
       "            return fig.mouse_event(event, event['data']);\n",
       "    }\n",
       "\n",
       "    rubberband.mousedown('button_press', mouse_event_fn);\n",
       "    rubberband.mouseup('button_release', mouse_event_fn);\n",
       "    // Throttle sequential mouse events to 1 every 20ms.\n",
       "    rubberband.mousemove('motion_notify', mouse_event_fn);\n",
       "\n",
       "    rubberband.mouseenter('figure_enter', mouse_event_fn);\n",
       "    rubberband.mouseleave('figure_leave', mouse_event_fn);\n",
       "\n",
       "    canvas_div.on(\"wheel\", function (event) {\n",
       "        event = event.originalEvent;\n",
       "        event['data'] = 'scroll'\n",
       "        if (event.deltaY < 0) {\n",
       "            event.step = 1;\n",
       "        } else {\n",
       "            event.step = -1;\n",
       "        }\n",
       "        mouse_event_fn(event);\n",
       "    });\n",
       "\n",
       "    canvas_div.append(canvas);\n",
       "    canvas_div.append(rubberband);\n",
       "\n",
       "    this.rubberband = rubberband;\n",
       "    this.rubberband_canvas = rubberband[0];\n",
       "    this.rubberband_context = rubberband[0].getContext(\"2d\");\n",
       "    this.rubberband_context.strokeStyle = \"#000000\";\n",
       "\n",
       "    this._resize_canvas = function(width, height) {\n",
       "        // Keep the size of the canvas, canvas container, and rubber band\n",
       "        // canvas in synch.\n",
       "        canvas_div.css('width', width)\n",
       "        canvas_div.css('height', height)\n",
       "\n",
       "        canvas.attr('width', width * mpl.ratio);\n",
       "        canvas.attr('height', height * mpl.ratio);\n",
       "        canvas.attr('style', 'width: ' + width + 'px; height: ' + height + 'px;');\n",
       "\n",
       "        rubberband.attr('width', width);\n",
       "        rubberband.attr('height', height);\n",
       "    }\n",
       "\n",
       "    // Set the figure to an initial 600x600px, this will subsequently be updated\n",
       "    // upon first draw.\n",
       "    this._resize_canvas(600, 600);\n",
       "\n",
       "    // Disable right mouse context menu.\n",
       "    $(this.rubberband_canvas).bind(\"contextmenu\",function(e){\n",
       "        return false;\n",
       "    });\n",
       "\n",
       "    function set_focus () {\n",
       "        canvas.focus();\n",
       "        canvas_div.focus();\n",
       "    }\n",
       "\n",
       "    window.setTimeout(set_focus, 100);\n",
       "}\n",
       "\n",
       "mpl.figure.prototype._init_toolbar = function() {\n",
       "    var fig = this;\n",
       "\n",
       "    var nav_element = $('<div/>')\n",
       "    nav_element.attr('style', 'width: 100%');\n",
       "    this.root.append(nav_element);\n",
       "\n",
       "    // Define a callback function for later on.\n",
       "    function toolbar_event(event) {\n",
       "        return fig.toolbar_button_onclick(event['data']);\n",
       "    }\n",
       "    function toolbar_mouse_event(event) {\n",
       "        return fig.toolbar_button_onmouseover(event['data']);\n",
       "    }\n",
       "\n",
       "    for(var toolbar_ind in mpl.toolbar_items) {\n",
       "        var name = mpl.toolbar_items[toolbar_ind][0];\n",
       "        var tooltip = mpl.toolbar_items[toolbar_ind][1];\n",
       "        var image = mpl.toolbar_items[toolbar_ind][2];\n",
       "        var method_name = mpl.toolbar_items[toolbar_ind][3];\n",
       "\n",
       "        if (!name) {\n",
       "            // put a spacer in here.\n",
       "            continue;\n",
       "        }\n",
       "        var button = $('<button/>');\n",
       "        button.addClass('ui-button ui-widget ui-state-default ui-corner-all ' +\n",
       "                        'ui-button-icon-only');\n",
       "        button.attr('role', 'button');\n",
       "        button.attr('aria-disabled', 'false');\n",
       "        button.click(method_name, toolbar_event);\n",
       "        button.mouseover(tooltip, toolbar_mouse_event);\n",
       "\n",
       "        var icon_img = $('<span/>');\n",
       "        icon_img.addClass('ui-button-icon-primary ui-icon');\n",
       "        icon_img.addClass(image);\n",
       "        icon_img.addClass('ui-corner-all');\n",
       "\n",
       "        var tooltip_span = $('<span/>');\n",
       "        tooltip_span.addClass('ui-button-text');\n",
       "        tooltip_span.html(tooltip);\n",
       "\n",
       "        button.append(icon_img);\n",
       "        button.append(tooltip_span);\n",
       "\n",
       "        nav_element.append(button);\n",
       "    }\n",
       "\n",
       "    var fmt_picker_span = $('<span/>');\n",
       "\n",
       "    var fmt_picker = $('<select/>');\n",
       "    fmt_picker.addClass('mpl-toolbar-option ui-widget ui-widget-content');\n",
       "    fmt_picker_span.append(fmt_picker);\n",
       "    nav_element.append(fmt_picker_span);\n",
       "    this.format_dropdown = fmt_picker[0];\n",
       "\n",
       "    for (var ind in mpl.extensions) {\n",
       "        var fmt = mpl.extensions[ind];\n",
       "        var option = $(\n",
       "            '<option/>', {selected: fmt === mpl.default_extension}).html(fmt);\n",
       "        fmt_picker.append(option)\n",
       "    }\n",
       "\n",
       "    // Add hover states to the ui-buttons\n",
       "    $( \".ui-button\" ).hover(\n",
       "        function() { $(this).addClass(\"ui-state-hover\");},\n",
       "        function() { $(this).removeClass(\"ui-state-hover\");}\n",
       "    );\n",
       "\n",
       "    var status_bar = $('<span class=\"mpl-message\"/>');\n",
       "    nav_element.append(status_bar);\n",
       "    this.message = status_bar[0];\n",
       "}\n",
       "\n",
       "mpl.figure.prototype.request_resize = function(x_pixels, y_pixels) {\n",
       "    // Request matplotlib to resize the figure. Matplotlib will then trigger a resize in the client,\n",
       "    // which will in turn request a refresh of the image.\n",
       "    this.send_message('resize', {'width': x_pixels, 'height': y_pixels});\n",
       "}\n",
       "\n",
       "mpl.figure.prototype.send_message = function(type, properties) {\n",
       "    properties['type'] = type;\n",
       "    properties['figure_id'] = this.id;\n",
       "    this.ws.send(JSON.stringify(properties));\n",
       "}\n",
       "\n",
       "mpl.figure.prototype.send_draw_message = function() {\n",
       "    if (!this.waiting) {\n",
       "        this.waiting = true;\n",
       "        this.ws.send(JSON.stringify({type: \"draw\", figure_id: this.id}));\n",
       "    }\n",
       "}\n",
       "\n",
       "\n",
       "mpl.figure.prototype.handle_save = function(fig, msg) {\n",
       "    var format_dropdown = fig.format_dropdown;\n",
       "    var format = format_dropdown.options[format_dropdown.selectedIndex].value;\n",
       "    fig.ondownload(fig, format);\n",
       "}\n",
       "\n",
       "\n",
       "mpl.figure.prototype.handle_resize = function(fig, msg) {\n",
       "    var size = msg['size'];\n",
       "    if (size[0] != fig.canvas.width || size[1] != fig.canvas.height) {\n",
       "        fig._resize_canvas(size[0], size[1]);\n",
       "        fig.send_message(\"refresh\", {});\n",
       "    };\n",
       "}\n",
       "\n",
       "mpl.figure.prototype.handle_rubberband = function(fig, msg) {\n",
       "    var x0 = msg['x0'] / mpl.ratio;\n",
       "    var y0 = (fig.canvas.height - msg['y0']) / mpl.ratio;\n",
       "    var x1 = msg['x1'] / mpl.ratio;\n",
       "    var y1 = (fig.canvas.height - msg['y1']) / mpl.ratio;\n",
       "    x0 = Math.floor(x0) + 0.5;\n",
       "    y0 = Math.floor(y0) + 0.5;\n",
       "    x1 = Math.floor(x1) + 0.5;\n",
       "    y1 = Math.floor(y1) + 0.5;\n",
       "    var min_x = Math.min(x0, x1);\n",
       "    var min_y = Math.min(y0, y1);\n",
       "    var width = Math.abs(x1 - x0);\n",
       "    var height = Math.abs(y1 - y0);\n",
       "\n",
       "    fig.rubberband_context.clearRect(\n",
       "        0, 0, fig.canvas.width, fig.canvas.height);\n",
       "\n",
       "    fig.rubberband_context.strokeRect(min_x, min_y, width, height);\n",
       "}\n",
       "\n",
       "mpl.figure.prototype.handle_figure_label = function(fig, msg) {\n",
       "    // Updates the figure title.\n",
       "    fig.header.textContent = msg['label'];\n",
       "}\n",
       "\n",
       "mpl.figure.prototype.handle_cursor = function(fig, msg) {\n",
       "    var cursor = msg['cursor'];\n",
       "    switch(cursor)\n",
       "    {\n",
       "    case 0:\n",
       "        cursor = 'pointer';\n",
       "        break;\n",
       "    case 1:\n",
       "        cursor = 'default';\n",
       "        break;\n",
       "    case 2:\n",
       "        cursor = 'crosshair';\n",
       "        break;\n",
       "    case 3:\n",
       "        cursor = 'move';\n",
       "        break;\n",
       "    }\n",
       "    fig.rubberband_canvas.style.cursor = cursor;\n",
       "}\n",
       "\n",
       "mpl.figure.prototype.handle_message = function(fig, msg) {\n",
       "    fig.message.textContent = msg['message'];\n",
       "}\n",
       "\n",
       "mpl.figure.prototype.handle_draw = function(fig, msg) {\n",
       "    // Request the server to send over a new figure.\n",
       "    fig.send_draw_message();\n",
       "}\n",
       "\n",
       "mpl.figure.prototype.handle_image_mode = function(fig, msg) {\n",
       "    fig.image_mode = msg['mode'];\n",
       "}\n",
       "\n",
       "mpl.figure.prototype.updated_canvas_event = function() {\n",
       "    // Called whenever the canvas gets updated.\n",
       "    this.send_message(\"ack\", {});\n",
       "}\n",
       "\n",
       "// A function to construct a web socket function for onmessage handling.\n",
       "// Called in the figure constructor.\n",
       "mpl.figure.prototype._make_on_message_function = function(fig) {\n",
       "    return function socket_on_message(evt) {\n",
       "        if (evt.data instanceof Blob) {\n",
       "            /* FIXME: We get \"Resource interpreted as Image but\n",
       "             * transferred with MIME type text/plain:\" errors on\n",
       "             * Chrome.  But how to set the MIME type?  It doesn't seem\n",
       "             * to be part of the websocket stream */\n",
       "            evt.data.type = \"image/png\";\n",
       "\n",
       "            /* Free the memory for the previous frames */\n",
       "            if (fig.imageObj.src) {\n",
       "                (window.URL || window.webkitURL).revokeObjectURL(\n",
       "                    fig.imageObj.src);\n",
       "            }\n",
       "\n",
       "            fig.imageObj.src = (window.URL || window.webkitURL).createObjectURL(\n",
       "                evt.data);\n",
       "            fig.updated_canvas_event();\n",
       "            fig.waiting = false;\n",
       "            return;\n",
       "        }\n",
       "        else if (typeof evt.data === 'string' && evt.data.slice(0, 21) == \"data:image/png;base64\") {\n",
       "            fig.imageObj.src = evt.data;\n",
       "            fig.updated_canvas_event();\n",
       "            fig.waiting = false;\n",
       "            return;\n",
       "        }\n",
       "\n",
       "        var msg = JSON.parse(evt.data);\n",
       "        var msg_type = msg['type'];\n",
       "\n",
       "        // Call the  \"handle_{type}\" callback, which takes\n",
       "        // the figure and JSON message as its only arguments.\n",
       "        try {\n",
       "            var callback = fig[\"handle_\" + msg_type];\n",
       "        } catch (e) {\n",
       "            console.log(\"No handler for the '\" + msg_type + \"' message type: \", msg);\n",
       "            return;\n",
       "        }\n",
       "\n",
       "        if (callback) {\n",
       "            try {\n",
       "                // console.log(\"Handling '\" + msg_type + \"' message: \", msg);\n",
       "                callback(fig, msg);\n",
       "            } catch (e) {\n",
       "                console.log(\"Exception inside the 'handler_\" + msg_type + \"' callback:\", e, e.stack, msg);\n",
       "            }\n",
       "        }\n",
       "    };\n",
       "}\n",
       "\n",
       "// from http://stackoverflow.com/questions/1114465/getting-mouse-location-in-canvas\n",
       "mpl.findpos = function(e) {\n",
       "    //this section is from http://www.quirksmode.org/js/events_properties.html\n",
       "    var targ;\n",
       "    if (!e)\n",
       "        e = window.event;\n",
       "    if (e.target)\n",
       "        targ = e.target;\n",
       "    else if (e.srcElement)\n",
       "        targ = e.srcElement;\n",
       "    if (targ.nodeType == 3) // defeat Safari bug\n",
       "        targ = targ.parentNode;\n",
       "\n",
       "    // jQuery normalizes the pageX and pageY\n",
       "    // pageX,Y are the mouse positions relative to the document\n",
       "    // offset() returns the position of the element relative to the document\n",
       "    var x = e.pageX - $(targ).offset().left;\n",
       "    var y = e.pageY - $(targ).offset().top;\n",
       "\n",
       "    return {\"x\": x, \"y\": y};\n",
       "};\n",
       "\n",
       "/*\n",
       " * return a copy of an object with only non-object keys\n",
       " * we need this to avoid circular references\n",
       " * http://stackoverflow.com/a/24161582/3208463\n",
       " */\n",
       "function simpleKeys (original) {\n",
       "  return Object.keys(original).reduce(function (obj, key) {\n",
       "    if (typeof original[key] !== 'object')\n",
       "        obj[key] = original[key]\n",
       "    return obj;\n",
       "  }, {});\n",
       "}\n",
       "\n",
       "mpl.figure.prototype.mouse_event = function(event, name) {\n",
       "    var canvas_pos = mpl.findpos(event)\n",
       "\n",
       "    if (name === 'button_press')\n",
       "    {\n",
       "        this.canvas.focus();\n",
       "        this.canvas_div.focus();\n",
       "    }\n",
       "\n",
       "    var x = canvas_pos.x * mpl.ratio;\n",
       "    var y = canvas_pos.y * mpl.ratio;\n",
       "\n",
       "    this.send_message(name, {x: x, y: y, button: event.button,\n",
       "                             step: event.step,\n",
       "                             guiEvent: simpleKeys(event)});\n",
       "\n",
       "    /* This prevents the web browser from automatically changing to\n",
       "     * the text insertion cursor when the button is pressed.  We want\n",
       "     * to control all of the cursor setting manually through the\n",
       "     * 'cursor' event from matplotlib */\n",
       "    event.preventDefault();\n",
       "    return false;\n",
       "}\n",
       "\n",
       "mpl.figure.prototype._key_event_extra = function(event, name) {\n",
       "    // Handle any extra behaviour associated with a key event\n",
       "}\n",
       "\n",
       "mpl.figure.prototype.key_event = function(event, name) {\n",
       "\n",
       "    // Prevent repeat events\n",
       "    if (name == 'key_press')\n",
       "    {\n",
       "        if (event.which === this._key)\n",
       "            return;\n",
       "        else\n",
       "            this._key = event.which;\n",
       "    }\n",
       "    if (name == 'key_release')\n",
       "        this._key = null;\n",
       "\n",
       "    var value = '';\n",
       "    if (event.ctrlKey && event.which != 17)\n",
       "        value += \"ctrl+\";\n",
       "    if (event.altKey && event.which != 18)\n",
       "        value += \"alt+\";\n",
       "    if (event.shiftKey && event.which != 16)\n",
       "        value += \"shift+\";\n",
       "\n",
       "    value += 'k';\n",
       "    value += event.which.toString();\n",
       "\n",
       "    this._key_event_extra(event, name);\n",
       "\n",
       "    this.send_message(name, {key: value,\n",
       "                             guiEvent: simpleKeys(event)});\n",
       "    return false;\n",
       "}\n",
       "\n",
       "mpl.figure.prototype.toolbar_button_onclick = function(name) {\n",
       "    if (name == 'download') {\n",
       "        this.handle_save(this, null);\n",
       "    } else {\n",
       "        this.send_message(\"toolbar_button\", {name: name});\n",
       "    }\n",
       "};\n",
       "\n",
       "mpl.figure.prototype.toolbar_button_onmouseover = function(tooltip) {\n",
       "    this.message.textContent = tooltip;\n",
       "};\n",
       "mpl.toolbar_items = [[\"Home\", \"Reset original view\", \"fa fa-home icon-home\", \"home\"], [\"Back\", \"Back to previous view\", \"fa fa-arrow-left icon-arrow-left\", \"back\"], [\"Forward\", \"Forward to next view\", \"fa fa-arrow-right icon-arrow-right\", \"forward\"], [\"\", \"\", \"\", \"\"], [\"Pan\", \"Pan axes with left mouse, zoom with right\", \"fa fa-arrows icon-move\", \"pan\"], [\"Zoom\", \"Zoom to rectangle\", \"fa fa-square-o icon-check-empty\", \"zoom\"], [\"\", \"\", \"\", \"\"], [\"Download\", \"Download plot\", \"fa fa-floppy-o icon-save\", \"download\"]];\n",
       "\n",
       "mpl.extensions = [\"eps\", \"jpeg\", \"pdf\", \"png\", \"ps\", \"raw\", \"svg\", \"tif\"];\n",
       "\n",
       "mpl.default_extension = \"png\";var comm_websocket_adapter = function(comm) {\n",
       "    // Create a \"websocket\"-like object which calls the given IPython comm\n",
       "    // object with the appropriate methods. Currently this is a non binary\n",
       "    // socket, so there is still some room for performance tuning.\n",
       "    var ws = {};\n",
       "\n",
       "    ws.close = function() {\n",
       "        comm.close()\n",
       "    };\n",
       "    ws.send = function(m) {\n",
       "        //console.log('sending', m);\n",
       "        comm.send(m);\n",
       "    };\n",
       "    // Register the callback with on_msg.\n",
       "    comm.on_msg(function(msg) {\n",
       "        //console.log('receiving', msg['content']['data'], msg);\n",
       "        // Pass the mpl event to the overridden (by mpl) onmessage function.\n",
       "        ws.onmessage(msg['content']['data'])\n",
       "    });\n",
       "    return ws;\n",
       "}\n",
       "\n",
       "mpl.mpl_figure_comm = function(comm, msg) {\n",
       "    // This is the function which gets called when the mpl process\n",
       "    // starts-up an IPython Comm through the \"matplotlib\" channel.\n",
       "\n",
       "    var id = msg.content.data.id;\n",
       "    // Get hold of the div created by the display call when the Comm\n",
       "    // socket was opened in Python.\n",
       "    var element = $(\"#\" + id);\n",
       "    var ws_proxy = comm_websocket_adapter(comm)\n",
       "\n",
       "    function ondownload(figure, format) {\n",
       "        window.open(figure.imageObj.src);\n",
       "    }\n",
       "\n",
       "    var fig = new mpl.figure(id, ws_proxy,\n",
       "                           ondownload,\n",
       "                           element.get(0));\n",
       "\n",
       "    // Call onopen now - mpl needs it, as it is assuming we've passed it a real\n",
       "    // web socket which is closed, not our websocket->open comm proxy.\n",
       "    ws_proxy.onopen();\n",
       "\n",
       "    fig.parent_element = element.get(0);\n",
       "    fig.cell_info = mpl.find_output_cell(\"<div id='\" + id + \"'></div>\");\n",
       "    if (!fig.cell_info) {\n",
       "        console.error(\"Failed to find cell for figure\", id, fig);\n",
       "        return;\n",
       "    }\n",
       "\n",
       "    var output_index = fig.cell_info[2]\n",
       "    var cell = fig.cell_info[0];\n",
       "\n",
       "};\n",
       "\n",
       "mpl.figure.prototype.handle_close = function(fig, msg) {\n",
       "    var width = fig.canvas.width/mpl.ratio\n",
       "    fig.root.unbind('remove')\n",
       "\n",
       "    // Update the output cell to use the data from the current canvas.\n",
       "    fig.push_to_output();\n",
       "    var dataURL = fig.canvas.toDataURL();\n",
       "    // Re-enable the keyboard manager in IPython - without this line, in FF,\n",
       "    // the notebook keyboard shortcuts fail.\n",
       "    IPython.keyboard_manager.enable()\n",
       "    $(fig.parent_element).html('<img src=\"' + dataURL + '\" width=\"' + width + '\">');\n",
       "    fig.close_ws(fig, msg);\n",
       "}\n",
       "\n",
       "mpl.figure.prototype.close_ws = function(fig, msg){\n",
       "    fig.send_message('closing', msg);\n",
       "    // fig.ws.close()\n",
       "}\n",
       "\n",
       "mpl.figure.prototype.push_to_output = function(remove_interactive) {\n",
       "    // Turn the data on the canvas into data in the output cell.\n",
       "    var width = this.canvas.width/mpl.ratio\n",
       "    var dataURL = this.canvas.toDataURL();\n",
       "    this.cell_info[1]['text/html'] = '<img src=\"' + dataURL + '\" width=\"' + width + '\">';\n",
       "}\n",
       "\n",
       "mpl.figure.prototype.updated_canvas_event = function() {\n",
       "    // Tell IPython that the notebook contents must change.\n",
       "    IPython.notebook.set_dirty(true);\n",
       "    this.send_message(\"ack\", {});\n",
       "    var fig = this;\n",
       "    // Wait a second, then push the new image to the DOM so\n",
       "    // that it is saved nicely (might be nice to debounce this).\n",
       "    setTimeout(function () { fig.push_to_output() }, 1000);\n",
       "}\n",
       "\n",
       "mpl.figure.prototype._init_toolbar = function() {\n",
       "    var fig = this;\n",
       "\n",
       "    var nav_element = $('<div/>')\n",
       "    nav_element.attr('style', 'width: 100%');\n",
       "    this.root.append(nav_element);\n",
       "\n",
       "    // Define a callback function for later on.\n",
       "    function toolbar_event(event) {\n",
       "        return fig.toolbar_button_onclick(event['data']);\n",
       "    }\n",
       "    function toolbar_mouse_event(event) {\n",
       "        return fig.toolbar_button_onmouseover(event['data']);\n",
       "    }\n",
       "\n",
       "    for(var toolbar_ind in mpl.toolbar_items){\n",
       "        var name = mpl.toolbar_items[toolbar_ind][0];\n",
       "        var tooltip = mpl.toolbar_items[toolbar_ind][1];\n",
       "        var image = mpl.toolbar_items[toolbar_ind][2];\n",
       "        var method_name = mpl.toolbar_items[toolbar_ind][3];\n",
       "\n",
       "        if (!name) { continue; };\n",
       "\n",
       "        var button = $('<button class=\"btn btn-default\" href=\"#\" title=\"' + name + '\"><i class=\"fa ' + image + ' fa-lg\"></i></button>');\n",
       "        button.click(method_name, toolbar_event);\n",
       "        button.mouseover(tooltip, toolbar_mouse_event);\n",
       "        nav_element.append(button);\n",
       "    }\n",
       "\n",
       "    // Add the status bar.\n",
       "    var status_bar = $('<span class=\"mpl-message\" style=\"text-align:right; float: right;\"/>');\n",
       "    nav_element.append(status_bar);\n",
       "    this.message = status_bar[0];\n",
       "\n",
       "    // Add the close button to the window.\n",
       "    var buttongrp = $('<div class=\"btn-group inline pull-right\"></div>');\n",
       "    var button = $('<button class=\"btn btn-mini btn-primary\" href=\"#\" title=\"Stop Interaction\"><i class=\"fa fa-power-off icon-remove icon-large\"></i></button>');\n",
       "    button.click(function (evt) { fig.handle_close(fig, {}); } );\n",
       "    button.mouseover('Stop Interaction', toolbar_mouse_event);\n",
       "    buttongrp.append(button);\n",
       "    var titlebar = this.root.find($('.ui-dialog-titlebar'));\n",
       "    titlebar.prepend(buttongrp);\n",
       "}\n",
       "\n",
       "mpl.figure.prototype._root_extra_style = function(el){\n",
       "    var fig = this\n",
       "    el.on(\"remove\", function(){\n",
       "\tfig.close_ws(fig, {});\n",
       "    });\n",
       "}\n",
       "\n",
       "mpl.figure.prototype._canvas_extra_style = function(el){\n",
       "    // this is important to make the div 'focusable\n",
       "    el.attr('tabindex', 0)\n",
       "    // reach out to IPython and tell the keyboard manager to turn it's self\n",
       "    // off when our div gets focus\n",
       "\n",
       "    // location in version 3\n",
       "    if (IPython.notebook.keyboard_manager) {\n",
       "        IPython.notebook.keyboard_manager.register_events(el);\n",
       "    }\n",
       "    else {\n",
       "        // location in version 2\n",
       "        IPython.keyboard_manager.register_events(el);\n",
       "    }\n",
       "\n",
       "}\n",
       "\n",
       "mpl.figure.prototype._key_event_extra = function(event, name) {\n",
       "    var manager = IPython.notebook.keyboard_manager;\n",
       "    if (!manager)\n",
       "        manager = IPython.keyboard_manager;\n",
       "\n",
       "    // Check for shift+enter\n",
       "    if (event.shiftKey && event.which == 13) {\n",
       "        this.canvas_div.blur();\n",
       "        event.shiftKey = false;\n",
       "        // Send a \"J\" for go to next cell\n",
       "        event.which = 74;\n",
       "        event.keyCode = 74;\n",
       "        manager.command_mode();\n",
       "        manager.handle_keydown(event);\n",
       "    }\n",
       "}\n",
       "\n",
       "mpl.figure.prototype.handle_save = function(fig, msg) {\n",
       "    fig.ondownload(fig, null);\n",
       "}\n",
       "\n",
       "\n",
       "mpl.find_output_cell = function(html_output) {\n",
       "    // Return the cell and output element which can be found *uniquely* in the notebook.\n",
       "    // Note - this is a bit hacky, but it is done because the \"notebook_saving.Notebook\"\n",
       "    // IPython event is triggered only after the cells have been serialised, which for\n",
       "    // our purposes (turning an active figure into a static one), is too late.\n",
       "    var cells = IPython.notebook.get_cells();\n",
       "    var ncells = cells.length;\n",
       "    for (var i=0; i<ncells; i++) {\n",
       "        var cell = cells[i];\n",
       "        if (cell.cell_type === 'code'){\n",
       "            for (var j=0; j<cell.output_area.outputs.length; j++) {\n",
       "                var data = cell.output_area.outputs[j];\n",
       "                if (data.data) {\n",
       "                    // IPython >= 3 moved mimebundle to data attribute of output\n",
       "                    data = data.data;\n",
       "                }\n",
       "                if (data['text/html'] == html_output) {\n",
       "                    return [cell, data, j];\n",
       "                }\n",
       "            }\n",
       "        }\n",
       "    }\n",
       "}\n",
       "\n",
       "// Register the function which deals with the matplotlib target/channel.\n",
       "// The kernel may be null if the page has been refreshed.\n",
       "if (IPython.notebook.kernel != null) {\n",
       "    IPython.notebook.kernel.comm_manager.register_target('matplotlib', mpl.mpl_figure_comm);\n",
       "}\n"
      ],
      "text/plain": [
       "<IPython.core.display.Javascript object>"
      ]
     },
     "metadata": {},
     "output_type": "display_data"
    },
    {
     "data": {
      "text/html": [
       "<img src=\"data:image/png;base64,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\" width=\"576\">"
      ],
      "text/plain": [
       "<IPython.core.display.HTML object>"
      ]
     },
     "metadata": {},
     "output_type": "display_data"
    }
   ],
   "source": [
    "# Plot le déplacement d'un device en fonction du temps (graphique dynamique)\n",
    "%matplotlib notebook\n",
    "n=100 # nombre de time series\n",
    "n_device= 476212.0 # choix du device\n",
    "\n",
    "dev = df_train[df_train.did== n_device]\n",
    "dev = dev.sort_values('time_ux')\n",
    "fig = plt.figure(figsize=(8,4))\n",
    "plt.title(f'Trajets du device n°{n_device}')\n",
    "for i in np.arange(n):\n",
    "    plt.scatter(dev.lat.iloc[i],dev.lng.iloc[i])\n",
    "    fig.canvas.draw()"
   ]
  },
  {
   "cell_type": "markdown",
   "metadata": {
    "hidden": true
   },
   "source": [
    "==============================================================================================================="
   ]
  },
  {
   "cell_type": "markdown",
   "metadata": {},
   "source": [
    "## Transformation des features"
   ]
  },
  {
   "cell_type": "markdown",
   "metadata": {},
   "source": [
    "De nombreux essais ont été faits pour le feature engineering et création de matrice pour l'entrainement de modèles. L'historique de ces tests se trouve dans la partie **Annexes** en fin de notebook."
   ]
  },
  {
   "cell_type": "markdown",
   "metadata": {},
   "source": [
    "La fonction de transformation est implémentée dans la partie 1.1 en haut du notebook\n",
    "<br><br>\n",
    "Transformation des features de la matrice:\n",
    "\n",
    "1. Séparation en latitude et longitude des coordonnées des stations et OneHotencoding \n",
    "2. Pondération par l'inverse de la distance calculée à partir des RSSI\n",
    "3. Pondération moyennées\n",
    "4. Groupby Messid"
   ]
  },
  {
   "cell_type": "markdown",
   "metadata": {},
   "source": [
    "def feat2(train,test) : \n",
    "<br>\n",
    "   \n",
    "    # Garde l'index de séparation entre le test et le train\n",
    "    split = train.groupby('messid').max().shape[0]\n",
    "    \n",
    "    # Conversion du RSSI en distance et concaténation du test et du train\n",
    "    train['rssi_conversion'] = [rssi_conversion(train.rssi.values[i]) for i in range(train.shape[0])]\n",
    "    test['rssi_conversion'] = [rssi_conversion(test.rssi.values[i]) for i in range(test.shape[0])]\n",
    "    concat = pd.concat([train,test], sort=False, copy=True)\n",
    "\n",
    "    # Transformation des Latitudes des bases HotEncoded et pondérées par l'inverse de la distance RSSI\n",
    "    oh_lat = pd.get_dummies(concat.bs_lat)\n",
    "    weights = oh_lat.multiply((concat.rssi_conversion.values+concat.nseq.values)**-1, axis='index')\n",
    "    oh_lat_weighted = weights#.multiply(oh_lat.columns.values)\n",
    "    weights['messid'] = concat.messid\n",
    "    oh_lat_weighted['messid'] = concat.messid\n",
    "    numerateur_lat = oh_lat_weighted.groupby('messid',sort=False).sum()\n",
    "    denom_lat = weights.groupby('messid',sort=False).sum().sum(axis=1)\n",
    "    matrix_weighted_lat = numerateur_lat.multiply(denom_lat**-1, axis='index')\n",
    "\n",
    "    # Transformation des Latitudes des bases hotencodées et pondérées par l'inverse de la distance RSSI\n",
    "    oh_lng = pd.get_dummies(concat.bs_lng)\n",
    "    weights = oh_lng.multiply((concat.rssi_conversion.values+concat.nseq.values)**-1, axis='index')\n",
    "    oh_lng_weighted = weights#.multiply(oh_lng.columns.values)\n",
    "    weights['messid'] = concat.messid\n",
    "    oh_lng_weighted['messid'] = concat.messid\n",
    "    numerateur_lng = oh_lng_weighted.groupby('messid',sort=False).sum()\n",
    "    denom_lng = weights.groupby('messid',sort=False).sum().sum(axis=1)\n",
    "    matrix_weighted_lng = numerateur_lng.multiply(denom_lng**-1, axis='index')\n",
    "\n",
    "    # Concaténation des latitudes et longitudes HotEnconded\n",
    "    output = pd.concat(axis=1, objs=[matrix_weighted_lat, matrix_weighted_lng], sort=False, copy=True)\n",
    "    output_train = output.iloc[:split,:]\n",
    "    output_test = output.iloc[split:,:]\n",
    "    \n",
    "    return output_train, output_test\n"
   ]
  },
  {
   "cell_type": "markdown",
   "metadata": {},
   "source": [
    "## Leave One Device Out (LODO)"
   ]
  },
  {
   "cell_type": "markdown",
   "metadata": {},
   "source": [
    "La fonction LODO est implémentée dans la partie 1.1 du notebook. Elle prend en entrée (X_train, y_train, X_test, model) et renvoie les résultats de la cross-validation par device. Chaque score est le percentile à 80% de la distance qui sépare le y_true de la prédiction. \n",
    "<br><i>(La fonction LODO fait appelle à la fonction feat2 décrite précédemment, c'est pourquoi elle prend aussi en entrée X_test même si elle ne l'utilise pas directement.)</i>"
   ]
  },
  {
   "cell_type": "markdown",
   "metadata": {},
   "source": [
    "def lodo(X_train, y_train, X_test, model):\n",
    "    \n",
    "    df_concat = pd.concat(axis=1, objs=[X_train,y_train], sort=False, copy=True)\n",
    "    X_train_new, X_test_new = feat2(X_train, X_test)\n",
    "    y_train_new = pd.concat(axis=1,objs=[X_train.messid,y_train],sort=False, copy=True)\n",
    "    y_train_new = y_train_new.groupby('messid', sort=False).mean()\n",
    "\n",
    "    list_did = df_concat.did.unique()\n",
    "    df_score = pd.DataFrame()\n",
    "    \n",
    "    # Fit le model sur tous les devices sauf 1 :\n",
    "    for i in range (len(list_did)):\n",
    "        \n",
    "        # split en train et test: \n",
    "        train_msg_list = df_concat[df_concat['did'] != list_did[i]]['messid'].unique()\n",
    "        test_msg_list = df_concat[df_concat['did'] == list_did[i]]['messid'].unique()\n",
    "        train_set = X_train_new.loc[train_msg_list]\n",
    "        train_y = y_train_new.loc[train_msg_list]\n",
    "        test_set = X_train_new.loc[test_msg_list]\n",
    "        test_y = y_train_new.loc[test_msg_list]\n",
    "        \n",
    "        # Model\n",
    "        md = model.fit(train_set.values, train_y.values)\n",
    "        \n",
    "        # Prediction\n",
    "        prediction = md.predict(test_set.values)\n",
    "        score_lodo = score(md,test_set.values,test_y.values)*-1\n",
    "        \n",
    "        # Output\n",
    "        a= pd.DataFrame(np.repeat(a=list_did[i],axis=0,repeats=test_set.shape[0]))\n",
    "        b= pd.DataFrame(test_set.index.values)\n",
    "        c= pd.DataFrame(np.repeat(a=score_lodo, axis=0, repeats=test_set.shape[0]))\n",
    "        d= pd.DataFrame(prediction)\n",
    "        e= test_y.reset_index(drop=True)\n",
    "        f= pd.concat(axis=1, objs=[a,b,c,d,e], sort= False)\n",
    "        df_score = df_score.append(f)   \n",
    "    df_score = pd.DataFrame(data=df_score.values,\n",
    "                            columns=['did','messid','dist_error','lat_pred','lng_pred','lat_true','lng_true'],\n",
    "                            copy=True)\n",
    "        \n",
    "    return df_score"
   ]
  },
  {
   "cell_type": "markdown",
   "metadata": {},
   "source": [
    "## Choix du model"
   ]
  },
  {
   "cell_type": "code",
   "execution_count": 4,
   "metadata": {
    "ExecuteTime": {
     "end_time": "2019-01-12T10:01:40.657153Z",
     "start_time": "2019-01-12T10:01:40.524508Z"
    }
   },
   "outputs": [],
   "source": [
    "# Par prudence, relancer cette cellule pour réinitialiser les variables et avoir les bons data set :\n",
    "df_train = pd.concat(axis=1, objs=[df_mess_train,pos_train])\n",
    "to_drop = df_train[(df_train.bs_lat > 43) & (df_train.bs_lat <46)].index\n",
    "df_train = df_train.drop(index=to_drop)\n",
    "df_train_bad, df_train_avg, df_train_good, df_train_excel = split_set(df_train)\n",
    "X_test_bad, X_test_avg, X_test_good, X_test_excel = split_set(df_mess_test)\n",
    "X_train_bad, y_train_bad = split_Xy(df_train_bad)\n",
    "X_train_avg, y_train_avg = split_Xy(df_train_avg)\n",
    "X_train_good, y_train_good = split_Xy(df_train_good)\n",
    "X_train_excl, y_train_excel = split_Xy(df_train_excel)"
   ]
  },
  {
   "cell_type": "markdown",
   "metadata": {},
   "source": [
    "Afin de choisir le modèle le plus performent nous allons tester différents algorithmes avec un LODO que l'en entraine sur l'ensemble du train set séparé en 4 (bon, mauvais, moyen excellent):\n",
    "\n",
    "**Ce procédé prend énormément de temps !**\n",
    "\n",
    "> 113 devices x 4 models x 4 jeux de données = 1808 prédictions\n",
    "\n",
    "Pour cette raison ici nous n'avons pas testé sur de grandes profondeurs d'arbres ou de grands nombres d'estimateurs. Cela sert seulement à voir quel model de régression réagit le mieux aux données. Cepandant, nous optimisons les hyper-paramètres du model retenu par la suite."
   ]
  },
  {
   "cell_type": "code",
   "execution_count": 5,
   "metadata": {
    "ExecuteTime": {
     "end_time": "2019-01-12T10:03:55.248914Z",
     "start_time": "2019-01-12T10:03:55.244925Z"
    }
   },
   "outputs": [],
   "source": [
    "Xtrain, Xtest, ytrain, ytest = train_test_split(Xnew, ygroup, test_size=0.2, random_state=42)\n",
    "Xtrain=Xtrain.reset_index(drop=True)\n",
    "Xtest=Xtest.reset_index(drop=True)\n",
    "print(Xtrain.shape, ytrain.shape)\n",
    "\n",
    "knn = KNeighborsRegressor(n_neighbors=5, n_jobs=8)\n",
    "knn.fit(Xtrain.values, ytrain.values) \n",
    "\n",
    "\n",
    "ext = ExtraTreesRegressor(max_depth=1000, n_estimators=1000,n_jobs=8,random_state=42)\n",
    "ext.fit()"
   ]
  },
  {
   "cell_type": "code",
   "execution_count": 12,
   "metadata": {
    "ExecuteTime": {
     "end_time": "2019-01-11T16:24:05.866314Z",
     "start_time": "2019-01-11T16:24:05.860320Z"
    }
   },
   "outputs": [],
   "source": [
    "# modèle à tester : \n",
    "model_1 = ExtraTreesRegressor(n_estimators=10, n_jobs=8, random_state=42)\n",
    "model_2 = KNeighborsRegressor(n_jobs=8, n_neighbors=5, weights='distance', p=2)\n",
    "model_3 = MultiOutputRegressor(XGBRegressor(n_estimators=10, n_jobs=8, learning_rate=0.8, random_state=42))\n",
    "model_4 = RandomForestRegressor(n_estimators=10, n_jobs=8, random_state=42)\n",
    "\n",
    "list_score = []\n",
    "# Boucle sur les 4 modèles à tester :\n",
    "for i in np.arange(4):\n",
    "    \n",
    "    # Boucles sur les 4 jeux de données mauvais, moyen, bon et excellent : \n",
    "    for X_train, y_train, X_test in [('X_train_excel', 'y_train_excel', 'X_test_excel'),\n",
    "                                     ('X_train_good', 'y_train_good', 'X_test_good'),\n",
    "                                     ('X_train_avg', 'y_train_avg', 'X_test_avg'),\n",
    "                                     ('X_train_bad', 'y_train_bad', 'X_test_bad')]:\n",
    "        \n",
    "        df_score = lodo(X_train=X_train, y_train=y_train, X_test=X_test, model=eval(f'model_{i+1}'))\n",
    "        list_score.append(df_score)"
   ]
  },
  {
   "cell_type": "markdown",
   "metadata": {},
   "source": [
    "**Le model retenu est l'ExtraTrees qui donne de meilleurs résultats en moyenne.**\n",
    "\n",
    "Ici pour des raisons de simplicité nous n'affichons les résultats que du jeu de données \"mauvais\" :"
   ]
  },
  {
   "cell_type": "code",
   "execution_count": 299,
   "metadata": {
    "ExecuteTime": {
     "end_time": "2019-01-11T15:38:02.087252Z",
     "start_time": "2019-01-11T15:37:59.379470Z"
    }
   },
   "outputs": [
    {
     "data": {
      "text/html": [
       "<div>\n",
       "<style scoped>\n",
       "    .dataframe tbody tr th:only-of-type {\n",
       "        vertical-align: middle;\n",
       "    }\n",
       "\n",
       "    .dataframe tbody tr th {\n",
       "        vertical-align: top;\n",
       "    }\n",
       "\n",
       "    .dataframe thead th {\n",
       "        text-align: right;\n",
       "    }\n",
       "</style>\n",
       "<table border=\"1\" class=\"dataframe\">\n",
       "  <thead>\n",
       "    <tr style=\"text-align: right;\">\n",
       "      <th></th>\n",
       "      <th>dist_error</th>\n",
       "    </tr>\n",
       "  </thead>\n",
       "  <tbody>\n",
       "    <tr>\n",
       "      <th>count</th>\n",
       "      <td>104.000000</td>\n",
       "    </tr>\n",
       "    <tr>\n",
       "      <th>mean</th>\n",
       "      <td>6564.354252</td>\n",
       "    </tr>\n",
       "    <tr>\n",
       "      <th>std</th>\n",
       "      <td>16975.476900</td>\n",
       "    </tr>\n",
       "    <tr>\n",
       "      <th>min</th>\n",
       "      <td>18.630391</td>\n",
       "    </tr>\n",
       "    <tr>\n",
       "      <th>50%</th>\n",
       "      <td>4085.411884</td>\n",
       "    </tr>\n",
       "    <tr>\n",
       "      <th>80%</th>\n",
       "      <td>6344.570983</td>\n",
       "    </tr>\n",
       "    <tr>\n",
       "      <th>max</th>\n",
       "      <td>168796.100314</td>\n",
       "    </tr>\n",
       "  </tbody>\n",
       "</table>\n",
       "</div>"
      ],
      "text/plain": [
       "          dist_error\n",
       "count     104.000000\n",
       "mean     6564.354252\n",
       "std     16975.476900\n",
       "min        18.630391\n",
       "50%      4085.411884\n",
       "80%      6344.570983\n",
       "max    168796.100314"
      ]
     },
     "execution_count": 299,
     "metadata": {},
     "output_type": "execute_result"
    }
   ],
   "source": [
    "m = 1 # numéro du modèle selectionné\n",
    "j = 4 # numéro du jeu de donné\n",
    "did_error_describe = list_score[m][j].groupby('did', sort=False).max().iloc[:,1:2].describe(percentiles=[.8])\n",
    "did_error_describe"
   ]
  },
  {
   "cell_type": "code",
   "execution_count": 305,
   "metadata": {
    "ExecuteTime": {
     "end_time": "2019-01-11T15:39:54.649628Z",
     "start_time": "2019-01-11T15:39:53.830796Z"
    }
   },
   "outputs": [
    {
     "data": {
      "text/plain": [
       "<Figure size 1080x576 with 0 Axes>"
      ]
     },
     "metadata": {},
     "output_type": "display_data"
    },
    {
     "data": {
      "image/png": "[encoded data removed]",
      "text/plain": [
       "<Figure size 720x360 with 1 Axes>"
      ]
     },
     "metadata": {
      "needs_background": "light"
     },
     "output_type": "display_data"
    }
   ],
   "source": [
    "# Plot de la courbe d'erreur :\n",
    "\n",
    "%matplotlib inline\n",
    "plt.figure(figsize=(15,8))\n",
    "y_pred = X_train_bad.set_index('messid').join(list_score[m].set_index('messid').iloc[:,2:4]).iloc[:,-2:]\n",
    "plot_resultat(ypred=y_pred.values, ytest=y_train_bad.values)"
   ]
  },
  {
   "cell_type": "code",
   "execution_count": 302,
   "metadata": {
    "ExecuteTime": {
     "end_time": "2019-01-11T15:38:35.527721Z",
     "start_time": "2019-01-11T15:38:33.810298Z"
    }
   },
   "outputs": [
    {
     "data": {
      "image/png": "[encoded data removed]",
      "text/plain": [
       "<Figure size 1080x864 with 9 Axes>"
      ]
     },
     "metadata": {
      "needs_background": "light"
     },
     "output_type": "display_data"
    }
   ],
   "source": [
    "# Plot les coordonnées prédites et vraies des messages des 9 devices qui ont la plus grande erreur : \n",
    "\n",
    "%matplotlib inline\n",
    "fig = plt.figure(figsize=(15,12))\n",
    "for n in range(9):\n",
    "    plt.subplot(3,3,n+1)\n",
    "    n_dev = did_error.index[n]\n",
    "    dev_i = mess_pred[mess_pred.did==n_dev]\n",
    "#     plt.scatter(df_train.bs_lat,df_train.bs_lng, alpha=0.1)\n",
    "    plt.scatter(dev_i.lat_true,dev_i.lng_true, alpha=0.2)\n",
    "    plt.scatter(dev_i.lat_pred, dev_i.lng_pred, alpha=0.2)\n",
    "    plt.legend([f'err: {did_error.iloc[n]:.0f}m'], markerscale=0)\n",
    "    plt.title(f'Trajets du device n°{n_dev}')\n",
    "plt.tight_layout()"
   ]
  },
  {
   "cell_type": "markdown",
   "metadata": {},
   "source": [
    "## Optimisation du meilleur model"
   ]
  },
  {
   "cell_type": "markdown",
   "metadata": {},
   "source": [
    "Pour l'optimisation du model nous nous sommes séparé les tâches et avons testé différents hyper-paramètres de notres côtés. Un GridSearch + LODO sur le même notebook prenait trop de temps. \n",
    "\n",
    "Les hyper-paramètres retenus sont les suivants :"
   ]
  },
  {
   "cell_type": "markdown",
   "metadata": {},
   "source": [
    "## Résultat"
   ]
  },
  {
   "cell_type": "raw",
   "metadata": {},
   "source": [
    "On commence par séparer de nouveau les jeux de données selon les quatre catégories déterminées par le niveau de RSSI."
   ]
  },
  {
   "cell_type": "code",
   "execution_count": 5,
   "metadata": {
    "ExecuteTime": {
     "end_time": "2019-01-11T21:33:15.758811Z",
     "start_time": "2019-01-11T21:33:15.489861Z"
    }
   },
   "outputs": [
    {
     "name": "stdout",
     "output_type": "stream",
     "text": [
      "(21015, 10) (3803, 10) (12998, 10) (1434, 10)\n",
      "(15262, 8) (3685, 8) (9720, 8) (619, 8)\n"
     ]
    }
   ],
   "source": [
    "df_train = pd.concat(axis=1, objs=[df_mess_train,pos_train])\n",
    "to_drop = df_train[(df_train.bs_lat > 43) & (df_train.bs_lat <46)].index\n",
    "df_train = df_train.drop(index=to_drop)\n",
    "df_train = pd.concat(axis=1, objs=[df_mess_train,pos_train])\n",
    "\n",
    "def split_Xy (df) :\n",
    "    X = df.iloc[:,:-2]\n",
    "    y = df.iloc[:,-2:]\n",
    "    return X, y\n",
    "\n",
    "def number_of_base_station(df):\n",
    "    mess_bsid_inf3 = df.groupby(['messid']).bsid.nunique()[df.groupby(['messid']).bsid.nunique()<3].index\n",
    "    df_bsid_sup3 = df.set_index('messid').drop(mess_bsid_inf3)\n",
    "\n",
    "    mess_bsid_sup3 = df.groupby(['messid']).bsid.nunique()[df.groupby(['messid']).bsid.nunique()>=3].index\n",
    "    df_bsid_inf3 = df.set_index('messid').drop(mess_bsid_sup3)\n",
    "    \n",
    "    return df_bsid_sup3.reset_index(), df_bsid_inf3.reset_index()\n",
    "\n",
    "def split_set(df):\n",
    "    # Signal mauvais : \n",
    "    df_train_bad = df[df.rssi<=-127]\n",
    "\n",
    "    # Signal moyen et bon1 : \n",
    "    df_train_rssi_sup127 = df[df.rssi>-127]\n",
    "    df_test_rssi_sup127_inf114 = df_train_rssi_sup127[df_train_rssi_sup127.rssi<=-114]\n",
    "    df_train_good1 , df_train_avg = number_of_base_station(df_test_rssi_sup127_inf114)\n",
    "\n",
    "    # Signal bon2 et excellent :\n",
    "    df_train_sup114 = df[df.rssi>-114]\n",
    "    df_train_excel , df_train_good2 = number_of_base_station(df_train_sup114)\n",
    "\n",
    "    # signal bon:\n",
    "    df_train_good = pd.concat(objs=[df_train_good1, df_train_good2], copy=True, sort=False)\n",
    "    \n",
    "    return df_train_bad, df_train_avg, df_train_good, df_train_excel\n",
    "\n",
    "df_train_bad, df_train_avg, df_train_good, df_train_excel = split_set(df_train)\n",
    "X_test_bad, X_test_avg, X_test_good, X_test_excel = split_set(df_mess_test)\n",
    "\n",
    "print(df_train_bad.shape, df_train_avg.shape, df_train_good.shape, df_train_excel.shape)\n",
    "print(X_test_bad.shape, X_test_avg.shape, X_test_good.shape, X_test_excel.shape)\n",
    "\n",
    "X_train_bad, y_train_bad = split_Xy(df_train_bad)\n",
    "X_train_avg, y_train_avg = split_Xy(df_train_avg)\n",
    "X_train_good, y_train_good = split_Xy(df_train_good)\n",
    "X_train_excel, y_train_excel = split_Xy(df_train_excel)\n",
    "\n",
    "y_train_bad = pd.concat(axis=1,objs=[X_train_bad.messid,y_train_bad],sort=False, copy=True)\n",
    "y_train_bad = y_train_bad.groupby('messid', sort=False).mean()\n",
    "\n",
    "y_train_avg = pd.concat(axis=1,objs=[X_train_avg.messid,y_train_avg],sort=False, copy=True)\n",
    "y_train_avg = y_train_avg.groupby('messid', sort=False).mean()\n",
    "\n",
    "y_train_good = pd.concat(axis=1,objs=[X_train_good.messid,y_train_good],sort=False, copy=True)\n",
    "y_train_good = y_train_good.groupby('messid', sort=False).mean()\n",
    "\n",
    "y_train_excel = pd.concat(axis=1,objs=[X_train_excel.messid,y_train_excel],sort=False, copy=True)\n",
    "y_train_excel = y_train_excel.groupby('messid', sort=False).mean()\n"
   ]
  },
  {
   "cell_type": "code",
   "execution_count": 6,
   "metadata": {
    "ExecuteTime": {
     "end_time": "2019-01-11T21:33:16.976694Z",
     "start_time": "2019-01-11T21:33:16.963213Z"
    }
   },
   "outputs": [],
   "source": [
    "#Modèle choisi\n",
    "Xtratrees = ExtraTreesRegressor(n_estimators = 1000,random_state = 2, n_jobs = -1, oob_score=True, bootstrap=True)"
   ]
  },
  {
   "cell_type": "markdown",
   "metadata": {},
   "source": [
    "On entraîne par la suite les 4 modèles, sur le test set splitté. Les prédictions sont recueillies et concaténées."
   ]
  },
  {
   "cell_type": "code",
   "execution_count": 7,
   "metadata": {
    "ExecuteTime": {
     "end_time": "2019-01-11T21:35:26.775865Z",
     "start_time": "2019-01-11T21:33:18.530993Z"
    }
   },
   "outputs": [],
   "source": [
    "# Model bad\n",
    "X_train_bad_feat, X_test_bad_feat = feat2(X_train_bad, X_test_bad) \n",
    "Xtratrees.fit(X_train_bad_feat, y_train_bad)\n",
    "Xtratrees.score(X_train_bad_feat, y_train_bad)\n",
    "# Predict\n",
    "predictions_1 = Xtratrees.predict(X_test_bad_feat)\n",
    "predictions_1 = pd.DataFrame(predictions_1)\n",
    "ypred = pd.concat(axis=1, objs=[X_test_bad.groupby('messid',as_index=False).max().messid,predictions_1], sort=False,copy=False)\n",
    "pred = X_test_bad.set_index('messid').join(ypred.set_index('messid')[0])\n",
    "pred = pred.join(ypred.set_index('messid')[1])\n",
    "\n",
    "y_pred_bad_short = ypred.set_index(ypred['messid'])\n",
    "y_pred_bad_short = y_pred_bad_short.drop('messid', axis = 1)\n",
    "y_pred_bad_short.columns = ['lat', 'lng']\n",
    "\n",
    "y_pred_bad_full = pred.iloc[:,-2:]"
   ]
  },
  {
   "cell_type": "code",
   "execution_count": 8,
   "metadata": {
    "ExecuteTime": {
     "end_time": "2019-01-11T21:35:53.609310Z",
     "start_time": "2019-01-11T21:35:27.314003Z"
    }
   },
   "outputs": [
    {
     "name": "stdout",
     "output_type": "stream",
     "text": [
      "0.9809940172599447\n"
     ]
    }
   ],
   "source": [
    "X_train_avg_feat, X_test_avg_feat = feat2(X_train_avg, X_test_avg) \n",
    "Xtratrees.fit(X_train_avg_feat, y_train_avg)\n",
    "print(Xtratrees.score(X_train_avg_feat, y_train_avg))\n",
    "# Predict\n",
    "predictions_2 = Xtratrees.predict(X_test_avg_feat)\n",
    "predictions_2 = pd.DataFrame(predictions_2)\n",
    "ypred = pd.concat(axis=1, objs=[X_test_avg.groupby('messid',as_index=False).max().messid,predictions_2], sort=False,copy=False)\n",
    "pred = X_test_avg.set_index('messid').join(ypred.set_index('messid')[0])\n",
    "pred = pred.join(ypred.set_index('messid')[1])\n",
    "\n",
    "y_pred_avg_short = ypred.set_index(ypred['messid'])\n",
    "y_pred_avg_short = y_pred_avg_short.drop('messid', axis = 1)\n",
    "y_pred_avg_short.columns = ['lat', 'lng']\n",
    "\n",
    "y_pred_avg_full = pred.iloc[:,-2:]"
   ]
  },
  {
   "cell_type": "code",
   "execution_count": 9,
   "metadata": {
    "ExecuteTime": {
     "end_time": "2019-01-11T21:36:25.521121Z",
     "start_time": "2019-01-11T21:35:54.214571Z"
    }
   },
   "outputs": [
    {
     "name": "stdout",
     "output_type": "stream",
     "text": [
      "0.9964643382604879\n"
     ]
    }
   ],
   "source": [
    "X_train_good_feat, X_test_good_feat = feat2(X_train_good, X_test_good) \n",
    "Xtratrees.fit(X_train_good_feat, y_train_good)\n",
    "print(Xtratrees.score(X_train_good_feat, y_train_good))\n",
    "# Predict\n",
    "predictions_3 = Xtratrees.predict(X_test_good_feat)\n",
    "predictions_3 = pd.DataFrame(predictions_3)\n",
    "ypred = pd.concat(axis=1, objs=[X_test_good.groupby('messid',as_index=False).max().messid,predictions_3], sort=False,copy=False)\n",
    "pred = X_test_good.set_index('messid').join(ypred.set_index('messid')[0])\n",
    "pred = pred.join(ypred.set_index('messid')[1])\n",
    "\n",
    "y_pred_good_short = ypred.set_index(ypred['messid'])\n",
    "y_pred_good_short = y_pred_good_short.drop('messid', axis = 1)\n",
    "y_pred_good_short.columns = ['lat', 'lng']\n",
    "\n",
    "y_pred_good_full = pred.iloc[:,-2:]"
   ]
  },
  {
   "cell_type": "code",
   "execution_count": 10,
   "metadata": {
    "ExecuteTime": {
     "end_time": "2019-01-11T21:36:28.821160Z",
     "start_time": "2019-01-11T21:36:26.208252Z"
    }
   },
   "outputs": [
    {
     "name": "stdout",
     "output_type": "stream",
     "text": [
      "0.9963128050480907\n"
     ]
    }
   ],
   "source": [
    "X_train_excel_feat, X_test_excel_feat = feat2(X_train_excel, X_test_excel) \n",
    "Xtratrees.fit(X_train_excel_feat, y_train_excel)\n",
    "print(Xtratrees.score(X_train_excel_feat, y_train_excel))\n",
    "# Predict\n",
    "predictions_4 = Xtratrees.predict(X_test_excel_feat)\n",
    "predictions_4 = pd.DataFrame(predictions_4)\n",
    "ypred = pd.concat(axis=1, objs=[X_test_excel.groupby('messid',as_index=False).max().messid,predictions_4], sort=False,copy=False)\n",
    "pred = X_test_excel.set_index('messid').join(ypred.set_index('messid')[0])\n",
    "pred = pred.join(ypred.set_index('messid')[1])\n",
    "\n",
    "y_pred_excel_short = ypred.set_index(ypred['messid'])\n",
    "y_pred_excel_short = y_pred_excel_short.drop('messid', axis = 1)\n",
    "y_pred_excel_short.columns = ['lat', 'lng']\n",
    "\n",
    "y_pred_excel_full = pred.iloc[:,-2:]"
   ]
  },
  {
   "cell_type": "code",
   "execution_count": 16,
   "metadata": {
    "ExecuteTime": {
     "end_time": "2019-01-11T21:45:08.894623Z",
     "start_time": "2019-01-11T21:44:29.535440Z"
    }
   },
   "outputs": [],
   "source": [
    "# Construction des prédictions\n",
    "predictions_full = pd.concat([y_pred_bad_full, y_pred_avg_full, y_pred_good_full, y_pred_excel_full], axis = 0)\n",
    "predictions_full.columns = ['lat', 'lng']\n",
    "df_mess_test['id'] = df_mess_test.index\n",
    "u = df_mess_test.join(predictions_full, on = 'messid').groupby('id').max()\n",
    "\n",
    "predictions_in_order_full = u[['lat', 'lng', 'messid']]\n",
    "predictions_in_order_full.to_csv('pred_pos_test_list_full.csv', index=False)\n",
    "\n",
    "predictions_short = pd.concat([y_pred_bad_short, y_pred_avg_short, y_pred_good_short, y_pred_excel_short], axis = 0)\n",
    "predictions_short.columns = ['lat', 'lng']\n",
    "# au cas où un message appartienne à plusieurs catégories, on choisit de prendre la prédiction donnée par le modèle de la meilleure qualité de rssi\n",
    "predictions_short['messid'] = predictions_short.index\n",
    "predictions_short = predictions_short.drop_duplicates(subset = 'messid', keep='last')\n",
    "predictions_short = predictions_short.reset_index(drop = True)\n",
    "predictions_short.to_csv('pred_pos_test_list.csv', index=False)"
   ]
  },
  {
   "cell_type": "code",
   "execution_count": 17,
   "metadata": {
    "ExecuteTime": {
     "end_time": "2019-01-11T21:45:27.983440Z",
     "start_time": "2019-01-11T21:45:27.966769Z"
    }
   },
   "outputs": [
    {
     "data": {
      "text/html": [
       "<div>\n",
       "<style scoped>\n",
       "    .dataframe tbody tr th:only-of-type {\n",
       "        vertical-align: middle;\n",
       "    }\n",
       "\n",
       "    .dataframe tbody tr th {\n",
       "        vertical-align: top;\n",
       "    }\n",
       "\n",
       "    .dataframe thead th {\n",
       "        text-align: right;\n",
       "    }\n",
       "</style>\n",
       "<table border=\"1\" class=\"dataframe\">\n",
       "  <thead>\n",
       "    <tr style=\"text-align: right;\">\n",
       "      <th></th>\n",
       "      <th>lat</th>\n",
       "      <th>lng</th>\n",
       "      <th>messid</th>\n",
       "    </tr>\n",
       "  </thead>\n",
       "  <tbody>\n",
       "    <tr>\n",
       "      <th>0</th>\n",
       "      <td>39.784134</td>\n",
       "      <td>-105.039595</td>\n",
       "      <td>573c2d133e952e19128e5fc9</td>\n",
       "    </tr>\n",
       "    <tr>\n",
       "      <th>1</th>\n",
       "      <td>39.783963</td>\n",
       "      <td>-105.136514</td>\n",
       "      <td>573c5200864fce1a9a38329a</td>\n",
       "    </tr>\n",
       "    <tr>\n",
       "      <th>2</th>\n",
       "      <td>39.788386</td>\n",
       "      <td>-105.056118</td>\n",
       "      <td>573c6ab1f0fe6e735aa9801f</td>\n",
       "    </tr>\n",
       "    <tr>\n",
       "      <th>3</th>\n",
       "      <td>39.788386</td>\n",
       "      <td>-105.056118</td>\n",
       "      <td>573c9063864fce1a9a60d02e</td>\n",
       "    </tr>\n",
       "    <tr>\n",
       "      <th>4</th>\n",
       "      <td>39.699556</td>\n",
       "      <td>-105.010517</td>\n",
       "      <td>573c983a3e952e1912d6c5ce</td>\n",
       "    </tr>\n",
       "  </tbody>\n",
       "</table>\n",
       "</div>"
      ],
      "text/plain": [
       "         lat         lng                    messid\n",
       "0  39.784134 -105.039595  573c2d133e952e19128e5fc9\n",
       "1  39.783963 -105.136514  573c5200864fce1a9a38329a\n",
       "2  39.788386 -105.056118  573c6ab1f0fe6e735aa9801f\n",
       "3  39.788386 -105.056118  573c9063864fce1a9a60d02e\n",
       "4  39.699556 -105.010517  573c983a3e952e1912d6c5ce"
      ]
     },
     "execution_count": 17,
     "metadata": {},
     "output_type": "execute_result"
    }
   ],
   "source": [
    "predictions_short.head()"
   ]
  },
  {
   "cell_type": "code",
   "execution_count": 18,
   "metadata": {
    "ExecuteTime": {
     "end_time": "2019-01-11T21:45:29.371539Z",
     "start_time": "2019-01-11T21:45:29.356611Z"
    }
   },
   "outputs": [
    {
     "data": {
      "text/plain": [
       "(5294, 3)"
      ]
     },
     "execution_count": 18,
     "metadata": {},
     "output_type": "execute_result"
    }
   ],
   "source": [
    "predictions_short.shape"
   ]
  },
  {
   "cell_type": "code",
   "execution_count": 19,
   "metadata": {
    "ExecuteTime": {
     "end_time": "2019-01-11T21:45:30.534801Z",
     "start_time": "2019-01-11T21:45:30.528039Z"
    }
   },
   "outputs": [
    {
     "data": {
      "text/plain": [
       "(29286, 3)"
      ]
     },
     "execution_count": 19,
     "metadata": {},
     "output_type": "execute_result"
    }
   ],
   "source": [
    "predictions_in_order_full.shape"
   ]
  },
  {
   "cell_type": "code",
   "execution_count": 20,
   "metadata": {
    "ExecuteTime": {
     "end_time": "2019-01-11T21:45:31.910226Z",
     "start_time": "2019-01-11T21:45:31.894954Z"
    }
   },
   "outputs": [
    {
     "data": {
      "text/html": [
       "<div>\n",
       "<style scoped>\n",
       "    .dataframe tbody tr th:only-of-type {\n",
       "        vertical-align: middle;\n",
       "    }\n",
       "\n",
       "    .dataframe tbody tr th {\n",
       "        vertical-align: top;\n",
       "    }\n",
       "\n",
       "    .dataframe thead th {\n",
       "        text-align: right;\n",
       "    }\n",
       "</style>\n",
       "<table border=\"1\" class=\"dataframe\">\n",
       "  <thead>\n",
       "    <tr style=\"text-align: right;\">\n",
       "      <th></th>\n",
       "      <th>lat</th>\n",
       "      <th>lng</th>\n",
       "      <th>messid</th>\n",
       "    </tr>\n",
       "    <tr>\n",
       "      <th>id</th>\n",
       "      <th></th>\n",
       "      <th></th>\n",
       "      <th></th>\n",
       "    </tr>\n",
       "  </thead>\n",
       "  <tbody>\n",
       "    <tr>\n",
       "      <th>0</th>\n",
       "      <td>39.737239</td>\n",
       "      <td>-105.067334</td>\n",
       "      <td>573be2503e952e191262c351</td>\n",
       "    </tr>\n",
       "    <tr>\n",
       "      <th>1</th>\n",
       "      <td>39.783942</td>\n",
       "      <td>-105.072265</td>\n",
       "      <td>573c05f83e952e1912758013</td>\n",
       "    </tr>\n",
       "    <tr>\n",
       "      <th>2</th>\n",
       "      <td>39.783942</td>\n",
       "      <td>-105.072265</td>\n",
       "      <td>573c05f83e952e1912758013</td>\n",
       "    </tr>\n",
       "    <tr>\n",
       "      <th>3</th>\n",
       "      <td>39.783942</td>\n",
       "      <td>-105.072265</td>\n",
       "      <td>573c05f83e952e1912758013</td>\n",
       "    </tr>\n",
       "    <tr>\n",
       "      <th>4</th>\n",
       "      <td>39.783942</td>\n",
       "      <td>-105.072265</td>\n",
       "      <td>573c05f83e952e1912758013</td>\n",
       "    </tr>\n",
       "  </tbody>\n",
       "</table>\n",
       "</div>"
      ],
      "text/plain": [
       "          lat         lng                    messid\n",
       "id                                                 \n",
       "0   39.737239 -105.067334  573be2503e952e191262c351\n",
       "1   39.783942 -105.072265  573c05f83e952e1912758013\n",
       "2   39.783942 -105.072265  573c05f83e952e1912758013\n",
       "3   39.783942 -105.072265  573c05f83e952e1912758013\n",
       "4   39.783942 -105.072265  573c05f83e952e1912758013"
      ]
     },
     "execution_count": 20,
     "metadata": {},
     "output_type": "execute_result"
    }
   ],
   "source": [
    "predictions_in_order_full.head()"
   ]
  },
  {
   "cell_type": "markdown",
   "metadata": {},
   "source": [
    "## Annexes : Anciennes transformations et models testés (INUTILE)"
   ]
  },
  {
   "cell_type": "markdown",
   "metadata": {},
   "source": [
    "### Préparation des données"
   ]
  },
  {
   "cell_type": "code",
   "execution_count": 177,
   "metadata": {
    "ExecuteTime": {
     "end_time": "2019-01-11T18:29:02.948887Z",
     "start_time": "2019-01-11T18:29:02.793337Z"
    }
   },
   "outputs": [
    {
     "name": "stdout",
     "output_type": "stream",
     "text": [
      "X : (20269, 8), y : (20269, 2), ygroup : (3143, 2)\n",
      "X_test : (18981, 8), y_test : (18981, 2), ygroup_test : (2925, 2)\n"
     ]
    }
   ],
   "source": [
    "# Séparation du train set en train + test\n",
    "dftrain_complet = pd.concat(axis=1, objs=[df_mess_train,pos_train],copy=True)\n",
    "listOf_did = dftrain_complet.groupby('did', as_index=False).max().did\n",
    "random.Random(1000).shuffle(listOf_did)\n",
    "\n",
    "df_train = dftrain_complet[dftrain_complet.did.isin(listOf_did[:65])]\n",
    "df_test = dftrain_complet[dftrain_complet.did.isin(listOf_did[65:])]\n",
    "\n",
    "# Séparation du train  en X et y \n",
    "X = df_train.iloc[:,:-2]\n",
    "y = df_train.iloc[:,-2:]\n",
    "\n",
    "# Groupement des y par Messid, utile par la suite\n",
    "ygroup = pd.concat(axis=1,objs=[X.messid,y],sort=False, copy=True)\n",
    "ygroup = ygroup.groupby('messid',sort=False).mean()\n",
    "ygroup = ygroup.reset_index(drop=True)\n",
    "\n",
    "# Séparation du test en X_test et y_test\n",
    "X_test = df_test.iloc[:,:-2]\n",
    "y_test = df_test.iloc[:,-2:]\n",
    "\n",
    "# Groupement des y_test par Messid, utile par la suite\n",
    "ygroup_test = pd.concat(axis=1,objs=[X_test.messid,y_test],sort=False, copy=True)\n",
    "ygroup_test = ygroup_test.groupby('messid',sort=False).mean()\n",
    "ygroup_test = ygroup_test.reset_index(drop=True)\n",
    "print(f'X : {X.shape}, y : {y.shape}, ygroup : {ygroup.shape}')\n",
    "print(f'X_test : {X_test.shape}, y_test : {y_test.shape}, ygroup_test : {ygroup_test.shape}')"
   ]
  },
  {
   "cell_type": "markdown",
   "metadata": {},
   "source": [
    "### Baseline - RandomForest "
   ]
  },
  {
   "cell_type": "code",
   "execution_count": 35,
   "metadata": {
    "ExecuteTime": {
     "end_time": "2019-01-09T11:28:19.792516Z",
     "start_time": "2019-01-09T11:28:18.001255Z"
    }
   },
   "outputs": [
    {
     "name": "stdout",
     "output_type": "stream",
     "text": [
      "Score prédiction : 7985.891301333702\n"
     ]
    }
   ],
   "source": [
    "# Xtrain, Xtest, ytrain, ytest = train_test_split(X_0, pos_train, test_size=0.2, random_state=42)\n",
    "# print(Xtrain.shape, ytrain.shape)\n",
    "\n",
    "X_0 = X.drop(columns=['messid','did','time_ux'])\n",
    "X_0_test = X_test.drop(columns=['messid','did','time_ux'])\n",
    "\n",
    "rf = RandomForestRegressor(n_estimators=128, n_jobs=8, random_state=42)\n",
    "rf.fit(X_0.values, y.values)\n",
    "baseline = score(rf,X_0_test.values,y_test.values)*-1\n",
    "print(f'Score prédiction : {baseline}')"
   ]
  },
  {
   "cell_type": "code",
   "execution_count": 36,
   "metadata": {
    "ExecuteTime": {
     "end_time": "2019-01-09T11:28:19.796460Z",
     "start_time": "2019-01-09T11:28:19.793469Z"
    }
   },
   "outputs": [],
   "source": [
    "# df_score = lodo(X_0,pos_train,df_mess_train, RandomForestRegressor(n_jobs=8))\n",
    "# y_pred = df_score.sort_values('messid')[['lat_pred', 'lng_pred']]\n",
    "# baseline = my_score(ypred=y_pred.values,ytest=pos_train.values)\n",
    "# baseline"
   ]
  },
  {
   "cell_type": "markdown",
   "metadata": {},
   "source": [
    "### Model-0 : RandomForest + cleaning sans Transformation"
   ]
  },
  {
   "cell_type": "code",
   "execution_count": 123,
   "metadata": {
    "ExecuteTime": {
     "end_time": "2019-01-09T16:50:07.067202Z",
     "start_time": "2019-01-09T16:50:07.047229Z"
    }
   },
   "outputs": [
    {
     "name": "stdout",
     "output_type": "stream",
     "text": [
      "X : (17652, 8), y : (17652, 2), ygroup : (3053, 2)\n"
     ]
    }
   ],
   "source": [
    "# Cleaning du dataframe, suppression des Outlayers :\n",
    "df = df_train\n",
    "df_train_clean = df.drop(index=df[df.bs_lng==-68.5].index)\n",
    "df_train_clean2 = df_train_clean.drop(index=df_train_clean[df_train_clean.bs_lat>43].index)\n",
    "df = df_train_clean2\n",
    "\n",
    "# Séparation du train \"clean\" en X et y \n",
    "X = df.iloc[:,:-2]\n",
    "y = df.iloc[:,-2:]\n",
    "\n",
    "# Groupement des y par Messid, utile par la suite\n",
    "ygroup = pd.concat(axis=1,objs=[X.messid,y],sort=False,copy=True)\n",
    "ygroup = ygroup.groupby('messid',sort=False).mean()\n",
    "ygroup = ygroup.reset_index(drop=True)\n",
    "\n",
    "print(f'X : {X.shape}, y : {y.shape}, ygroup : {ygroup.shape}')"
   ]
  },
  {
   "cell_type": "code",
   "execution_count": 64,
   "metadata": {
    "ExecuteTime": {
     "end_time": "2019-01-09T11:43:17.222553Z",
     "start_time": "2019-01-09T11:43:15.652762Z"
    }
   },
   "outputs": [
    {
     "name": "stdout",
     "output_type": "stream",
     "text": [
      "Score prédiction : 10647.32505606602\n"
     ]
    }
   ],
   "source": [
    "# Xtrain, Xtest, ytrain, ytest = train_test_split(X_pre, y, test_size=0.2, random_state=42)\n",
    "# print(Xtrain.shape, ytrain.shape)\n",
    "X_pre = X.drop(columns=['messid','did','time_ux'])\n",
    "X_pre_test = X_test.drop(columns=['messid','did','time_ux'])\n",
    "\n",
    "rf = RandomForestRegressor(n_estimators=128, n_jobs=8, random_state=42)\n",
    "rf.fit(X_pre.values, y.values)\n",
    "Model_0 = score(rf,X_pre_test.values,y_test.values)*-1\n",
    "print(f'Score prédiction : {Model_0}')"
   ]
  },
  {
   "cell_type": "code",
   "execution_count": 39,
   "metadata": {
    "ExecuteTime": {
     "end_time": "2019-01-09T11:28:21.520857Z",
     "start_time": "2019-01-09T11:28:21.517865Z"
    }
   },
   "outputs": [],
   "source": [
    "# X_pre = X.drop(columns=['messid','did','time_ux'])\n",
    "# df_score = lodo(X_pre,y,df, RandomForestRegressor(n_jobs=8))\n",
    "# y_pred = df_score.sort_values('messid')[['lat_pred', 'lng_pred']]\n",
    "# model_0 = my_score(ypred=y_pred.values,ytest=y.values)\n",
    "# model_0"
   ]
  },
  {
   "cell_type": "markdown",
   "metadata": {},
   "source": [
    "Ici l'objectif est de créer plusieurs transformations différentes et comparer leurs résultas en les testant sur un Random Forest"
   ]
  },
  {
   "cell_type": "markdown",
   "metadata": {},
   "source": [
    "Transformation 1 : une colonne par bs_lat et bs_lng. Chaque colonne est pondérée par le rssi et le nseq associé au messid"
   ]
  },
  {
   "cell_type": "code",
   "execution_count": 124,
   "metadata": {
    "ExecuteTime": {
     "end_time": "2019-01-09T16:50:14.284096Z",
     "start_time": "2019-01-09T16:50:13.667769Z"
    }
   },
   "outputs": [
    {
     "data": {
      "text/html": [
       "<div>\n",
       "<style scoped>\n",
       "    .dataframe tbody tr th:only-of-type {\n",
       "        vertical-align: middle;\n",
       "    }\n",
       "\n",
       "    .dataframe tbody tr th {\n",
       "        vertical-align: top;\n",
       "    }\n",
       "\n",
       "    .dataframe thead th {\n",
       "        text-align: right;\n",
       "    }\n",
       "</style>\n",
       "<table border=\"1\" class=\"dataframe\">\n",
       "  <thead>\n",
       "    <tr style=\"text-align: right;\">\n",
       "      <th></th>\n",
       "      <th>messid</th>\n",
       "      <th>36.0533936861</th>\n",
       "      <th>36.187011678800005</th>\n",
       "      <th>36.4343876437</th>\n",
       "      <th>36.5287044515</th>\n",
       "      <th>36.5559381931</th>\n",
       "      <th>37.5382053103</th>\n",
       "      <th>37.9637853398</th>\n",
       "      <th>37.9673102044</th>\n",
       "      <th>38.0404365429</th>\n",
       "      <th>...</th>\n",
       "      <th>-103.671045026</th>\n",
       "      <th>-103.63315728399999</th>\n",
       "      <th>-103.540996981</th>\n",
       "      <th>-103.046811979</th>\n",
       "      <th>-102.631195011</th>\n",
       "      <th>-102.548383841</th>\n",
       "      <th>-102.297175809</th>\n",
       "      <th>-102.208966477</th>\n",
       "      <th>-102.011461391</th>\n",
       "      <th>-68.5</th>\n",
       "    </tr>\n",
       "  </thead>\n",
       "  <tbody>\n",
       "    <tr>\n",
       "      <th>0</th>\n",
       "      <td>573bf1d9864fce1a9af8c5c9</td>\n",
       "      <td>0.0</td>\n",
       "      <td>0.0</td>\n",
       "      <td>0.0</td>\n",
       "      <td>0.0</td>\n",
       "      <td>0.0</td>\n",
       "      <td>0.0</td>\n",
       "      <td>0.0</td>\n",
       "      <td>0.0</td>\n",
       "      <td>0.0</td>\n",
       "      <td>...</td>\n",
       "      <td>-0.0</td>\n",
       "      <td>-0.0</td>\n",
       "      <td>-0.0</td>\n",
       "      <td>-0.0</td>\n",
       "      <td>-0.0</td>\n",
       "      <td>-0.0</td>\n",
       "      <td>-0.0</td>\n",
       "      <td>-0.0</td>\n",
       "      <td>-0.0</td>\n",
       "      <td>-0.0</td>\n",
       "    </tr>\n",
       "    <tr>\n",
       "      <th>1</th>\n",
       "      <td>573bf1d9864fce1a9af8c5c9</td>\n",
       "      <td>0.0</td>\n",
       "      <td>0.0</td>\n",
       "      <td>0.0</td>\n",
       "      <td>0.0</td>\n",
       "      <td>0.0</td>\n",
       "      <td>0.0</td>\n",
       "      <td>0.0</td>\n",
       "      <td>0.0</td>\n",
       "      <td>0.0</td>\n",
       "      <td>...</td>\n",
       "      <td>-0.0</td>\n",
       "      <td>-0.0</td>\n",
       "      <td>-0.0</td>\n",
       "      <td>-0.0</td>\n",
       "      <td>-0.0</td>\n",
       "      <td>-0.0</td>\n",
       "      <td>-0.0</td>\n",
       "      <td>-0.0</td>\n",
       "      <td>-0.0</td>\n",
       "      <td>-0.0</td>\n",
       "    </tr>\n",
       "    <tr>\n",
       "      <th>2</th>\n",
       "      <td>573bf3533e952e19126b256a</td>\n",
       "      <td>0.0</td>\n",
       "      <td>0.0</td>\n",
       "      <td>0.0</td>\n",
       "      <td>0.0</td>\n",
       "      <td>0.0</td>\n",
       "      <td>0.0</td>\n",
       "      <td>0.0</td>\n",
       "      <td>0.0</td>\n",
       "      <td>0.0</td>\n",
       "      <td>...</td>\n",
       "      <td>-0.0</td>\n",
       "      <td>-0.0</td>\n",
       "      <td>-0.0</td>\n",
       "      <td>-0.0</td>\n",
       "      <td>-0.0</td>\n",
       "      <td>-0.0</td>\n",
       "      <td>-0.0</td>\n",
       "      <td>-0.0</td>\n",
       "      <td>-0.0</td>\n",
       "      <td>-0.0</td>\n",
       "    </tr>\n",
       "    <tr>\n",
       "      <th>3</th>\n",
       "      <td>573c0cd0f0fe6e735a699b93</td>\n",
       "      <td>0.0</td>\n",
       "      <td>0.0</td>\n",
       "      <td>0.0</td>\n",
       "      <td>0.0</td>\n",
       "      <td>0.0</td>\n",
       "      <td>0.0</td>\n",
       "      <td>0.0</td>\n",
       "      <td>0.0</td>\n",
       "      <td>0.0</td>\n",
       "      <td>...</td>\n",
       "      <td>-0.0</td>\n",
       "      <td>-0.0</td>\n",
       "      <td>-0.0</td>\n",
       "      <td>-0.0</td>\n",
       "      <td>-0.0</td>\n",
       "      <td>-0.0</td>\n",
       "      <td>-0.0</td>\n",
       "      <td>-0.0</td>\n",
       "      <td>-0.0</td>\n",
       "      <td>-0.0</td>\n",
       "    </tr>\n",
       "    <tr>\n",
       "      <th>4</th>\n",
       "      <td>573c0cd0f0fe6e735a699b93</td>\n",
       "      <td>0.0</td>\n",
       "      <td>0.0</td>\n",
       "      <td>0.0</td>\n",
       "      <td>0.0</td>\n",
       "      <td>0.0</td>\n",
       "      <td>0.0</td>\n",
       "      <td>0.0</td>\n",
       "      <td>0.0</td>\n",
       "      <td>0.0</td>\n",
       "      <td>...</td>\n",
       "      <td>-0.0</td>\n",
       "      <td>-0.0</td>\n",
       "      <td>-0.0</td>\n",
       "      <td>-0.0</td>\n",
       "      <td>-0.0</td>\n",
       "      <td>-0.0</td>\n",
       "      <td>-0.0</td>\n",
       "      <td>-0.0</td>\n",
       "      <td>-0.0</td>\n",
       "      <td>-0.0</td>\n",
       "    </tr>\n",
       "  </tbody>\n",
       "</table>\n",
       "<p>5 rows × 443 columns</p>\n",
       "</div>"
      ],
      "text/plain": [
       "                     messid  36.0533936861  36.187011678800005  36.4343876437  \\\n",
       "0  573bf1d9864fce1a9af8c5c9            0.0                 0.0            0.0   \n",
       "1  573bf1d9864fce1a9af8c5c9            0.0                 0.0            0.0   \n",
       "2  573bf3533e952e19126b256a            0.0                 0.0            0.0   \n",
       "3  573c0cd0f0fe6e735a699b93            0.0                 0.0            0.0   \n",
       "4  573c0cd0f0fe6e735a699b93            0.0                 0.0            0.0   \n",
       "\n",
       "   36.5287044515  36.5559381931  37.5382053103  37.9637853398  37.9673102044  \\\n",
       "0            0.0            0.0            0.0            0.0            0.0   \n",
       "1            0.0            0.0            0.0            0.0            0.0   \n",
       "2            0.0            0.0            0.0            0.0            0.0   \n",
       "3            0.0            0.0            0.0            0.0            0.0   \n",
       "4            0.0            0.0            0.0            0.0            0.0   \n",
       "\n",
       "   38.0404365429  ...    -103.671045026  -103.63315728399999  -103.540996981  \\\n",
       "0            0.0  ...              -0.0                 -0.0            -0.0   \n",
       "1            0.0  ...              -0.0                 -0.0            -0.0   \n",
       "2            0.0  ...              -0.0                 -0.0            -0.0   \n",
       "3            0.0  ...              -0.0                 -0.0            -0.0   \n",
       "4            0.0  ...              -0.0                 -0.0            -0.0   \n",
       "\n",
       "   -103.046811979  -102.631195011  -102.548383841  -102.297175809  \\\n",
       "0            -0.0            -0.0            -0.0            -0.0   \n",
       "1            -0.0            -0.0            -0.0            -0.0   \n",
       "2            -0.0            -0.0            -0.0            -0.0   \n",
       "3            -0.0            -0.0            -0.0            -0.0   \n",
       "4            -0.0            -0.0            -0.0            -0.0   \n",
       "\n",
       "   -102.208966477  -102.011461391  -68.5  \n",
       "0            -0.0            -0.0   -0.0  \n",
       "1            -0.0            -0.0   -0.0  \n",
       "2            -0.0            -0.0   -0.0  \n",
       "3            -0.0            -0.0   -0.0  \n",
       "4            -0.0            -0.0   -0.0  \n",
       "\n",
       "[5 rows x 443 columns]"
      ]
     },
     "execution_count": 124,
     "metadata": {},
     "output_type": "execute_result"
    }
   ],
   "source": [
    "# Concaténation du train et du test pour avoir les mêmes transformations sur les 2 sets\n",
    "concat = pd.concat([X, X_test], sort=False, copy=True)\n",
    "\n",
    "# Application de la transformation 1\n",
    "df_oh = feat(concat)\n",
    "df_oh.head()"
   ]
  },
  {
   "cell_type": "code",
   "execution_count": 125,
   "metadata": {
    "ExecuteTime": {
     "end_time": "2019-01-09T16:50:16.539065Z",
     "start_time": "2019-01-09T16:50:15.002177Z"
    }
   },
   "outputs": [
    {
     "data": {
      "text/html": [
       "<div>\n",
       "<style scoped>\n",
       "    .dataframe tbody tr th:only-of-type {\n",
       "        vertical-align: middle;\n",
       "    }\n",
       "\n",
       "    .dataframe tbody tr th {\n",
       "        vertical-align: top;\n",
       "    }\n",
       "\n",
       "    .dataframe thead th {\n",
       "        text-align: right;\n",
       "    }\n",
       "</style>\n",
       "<table border=\"1\" class=\"dataframe\">\n",
       "  <thead>\n",
       "    <tr style=\"text-align: right;\">\n",
       "      <th></th>\n",
       "      <th>36.0533936861</th>\n",
       "      <th>36.187011678800005</th>\n",
       "      <th>36.4343876437</th>\n",
       "      <th>36.5287044515</th>\n",
       "      <th>36.5559381931</th>\n",
       "      <th>37.5382053103</th>\n",
       "      <th>37.9637853398</th>\n",
       "      <th>37.9673102044</th>\n",
       "      <th>38.0404365429</th>\n",
       "      <th>38.1535335179</th>\n",
       "      <th>...</th>\n",
       "      <th>-103.671045026</th>\n",
       "      <th>-103.63315728399999</th>\n",
       "      <th>-103.540996981</th>\n",
       "      <th>-103.046811979</th>\n",
       "      <th>-102.631195011</th>\n",
       "      <th>-102.548383841</th>\n",
       "      <th>-102.297175809</th>\n",
       "      <th>-102.208966477</th>\n",
       "      <th>-102.011461391</th>\n",
       "      <th>-68.5</th>\n",
       "    </tr>\n",
       "  </thead>\n",
       "  <tbody>\n",
       "    <tr>\n",
       "      <th>count</th>\n",
       "      <td>36633.000000</td>\n",
       "      <td>36633.000000</td>\n",
       "      <td>36633.000000</td>\n",
       "      <td>36633.000000</td>\n",
       "      <td>36633.000000</td>\n",
       "      <td>36633.000000</td>\n",
       "      <td>36633.000000</td>\n",
       "      <td>36633.000000</td>\n",
       "      <td>36633.000000</td>\n",
       "      <td>36633.000000</td>\n",
       "      <td>...</td>\n",
       "      <td>36633.000000</td>\n",
       "      <td>36633.000000</td>\n",
       "      <td>36633.000000</td>\n",
       "      <td>36633.000000</td>\n",
       "      <td>36633.000000</td>\n",
       "      <td>36633.000000</td>\n",
       "      <td>36633.000000</td>\n",
       "      <td>36633.000000</td>\n",
       "      <td>36633.000000</td>\n",
       "      <td>36633.000000</td>\n",
       "    </tr>\n",
       "    <tr>\n",
       "      <th>mean</th>\n",
       "      <td>0.000002</td>\n",
       "      <td>0.000030</td>\n",
       "      <td>0.000007</td>\n",
       "      <td>0.000022</td>\n",
       "      <td>0.000005</td>\n",
       "      <td>0.000003</td>\n",
       "      <td>0.000006</td>\n",
       "      <td>0.000003</td>\n",
       "      <td>0.000002</td>\n",
       "      <td>0.000003</td>\n",
       "      <td>...</td>\n",
       "      <td>-0.000004</td>\n",
       "      <td>-0.000007</td>\n",
       "      <td>-0.000005</td>\n",
       "      <td>-0.000006</td>\n",
       "      <td>-0.000061</td>\n",
       "      <td>-0.000013</td>\n",
       "      <td>-0.000019</td>\n",
       "      <td>-0.000085</td>\n",
       "      <td>-0.000005</td>\n",
       "      <td>-0.016897</td>\n",
       "    </tr>\n",
       "    <tr>\n",
       "      <th>std</th>\n",
       "      <td>0.000340</td>\n",
       "      <td>0.001784</td>\n",
       "      <td>0.000769</td>\n",
       "      <td>0.001514</td>\n",
       "      <td>0.000647</td>\n",
       "      <td>0.000499</td>\n",
       "      <td>0.000921</td>\n",
       "      <td>0.000505</td>\n",
       "      <td>0.000366</td>\n",
       "      <td>0.000479</td>\n",
       "      <td>...</td>\n",
       "      <td>0.000785</td>\n",
       "      <td>0.001378</td>\n",
       "      <td>0.000996</td>\n",
       "      <td>0.001089</td>\n",
       "      <td>0.004254</td>\n",
       "      <td>0.001814</td>\n",
       "      <td>0.002160</td>\n",
       "      <td>0.005039</td>\n",
       "      <td>0.000963</td>\n",
       "      <td>0.159952</td>\n",
       "    </tr>\n",
       "    <tr>\n",
       "      <th>min</th>\n",
       "      <td>0.000000</td>\n",
       "      <td>0.000000</td>\n",
       "      <td>0.000000</td>\n",
       "      <td>0.000000</td>\n",
       "      <td>0.000000</td>\n",
       "      <td>0.000000</td>\n",
       "      <td>0.000000</td>\n",
       "      <td>0.000000</td>\n",
       "      <td>0.000000</td>\n",
       "      <td>0.000000</td>\n",
       "      <td>...</td>\n",
       "      <td>-0.150332</td>\n",
       "      <td>-0.263841</td>\n",
       "      <td>-0.190657</td>\n",
       "      <td>-0.208425</td>\n",
       "      <td>-0.397645</td>\n",
       "      <td>-0.293680</td>\n",
       "      <td>-0.284420</td>\n",
       "      <td>-0.396009</td>\n",
       "      <td>-0.184372</td>\n",
       "      <td>-24.002104</td>\n",
       "    </tr>\n",
       "    <tr>\n",
       "      <th>25%</th>\n",
       "      <td>0.000000</td>\n",
       "      <td>0.000000</td>\n",
       "      <td>0.000000</td>\n",
       "      <td>0.000000</td>\n",
       "      <td>0.000000</td>\n",
       "      <td>0.000000</td>\n",
       "      <td>0.000000</td>\n",
       "      <td>0.000000</td>\n",
       "      <td>0.000000</td>\n",
       "      <td>0.000000</td>\n",
       "      <td>...</td>\n",
       "      <td>-0.000000</td>\n",
       "      <td>-0.000000</td>\n",
       "      <td>-0.000000</td>\n",
       "      <td>-0.000000</td>\n",
       "      <td>-0.000000</td>\n",
       "      <td>-0.000000</td>\n",
       "      <td>-0.000000</td>\n",
       "      <td>-0.000000</td>\n",
       "      <td>-0.000000</td>\n",
       "      <td>-0.000000</td>\n",
       "    </tr>\n",
       "    <tr>\n",
       "      <th>50%</th>\n",
       "      <td>0.000000</td>\n",
       "      <td>0.000000</td>\n",
       "      <td>0.000000</td>\n",
       "      <td>0.000000</td>\n",
       "      <td>0.000000</td>\n",
       "      <td>0.000000</td>\n",
       "      <td>0.000000</td>\n",
       "      <td>0.000000</td>\n",
       "      <td>0.000000</td>\n",
       "      <td>0.000000</td>\n",
       "      <td>...</td>\n",
       "      <td>-0.000000</td>\n",
       "      <td>-0.000000</td>\n",
       "      <td>-0.000000</td>\n",
       "      <td>-0.000000</td>\n",
       "      <td>-0.000000</td>\n",
       "      <td>-0.000000</td>\n",
       "      <td>-0.000000</td>\n",
       "      <td>-0.000000</td>\n",
       "      <td>-0.000000</td>\n",
       "      <td>-0.000000</td>\n",
       "    </tr>\n",
       "    <tr>\n",
       "      <th>75%</th>\n",
       "      <td>0.000000</td>\n",
       "      <td>0.000000</td>\n",
       "      <td>0.000000</td>\n",
       "      <td>0.000000</td>\n",
       "      <td>0.000000</td>\n",
       "      <td>0.000000</td>\n",
       "      <td>0.000000</td>\n",
       "      <td>0.000000</td>\n",
       "      <td>0.000000</td>\n",
       "      <td>0.000000</td>\n",
       "      <td>...</td>\n",
       "      <td>-0.000000</td>\n",
       "      <td>-0.000000</td>\n",
       "      <td>-0.000000</td>\n",
       "      <td>-0.000000</td>\n",
       "      <td>-0.000000</td>\n",
       "      <td>-0.000000</td>\n",
       "      <td>-0.000000</td>\n",
       "      <td>-0.000000</td>\n",
       "      <td>-0.000000</td>\n",
       "      <td>-0.000000</td>\n",
       "    </tr>\n",
       "    <tr>\n",
       "      <th>max</th>\n",
       "      <td>0.065162</td>\n",
       "      <td>0.140207</td>\n",
       "      <td>0.101300</td>\n",
       "      <td>0.141531</td>\n",
       "      <td>0.104690</td>\n",
       "      <td>0.095569</td>\n",
       "      <td>0.156483</td>\n",
       "      <td>0.096661</td>\n",
       "      <td>0.070047</td>\n",
       "      <td>0.091646</td>\n",
       "      <td>...</td>\n",
       "      <td>-0.000000</td>\n",
       "      <td>-0.000000</td>\n",
       "      <td>-0.000000</td>\n",
       "      <td>-0.000000</td>\n",
       "      <td>-0.000000</td>\n",
       "      <td>-0.000000</td>\n",
       "      <td>-0.000000</td>\n",
       "      <td>-0.000000</td>\n",
       "      <td>-0.000000</td>\n",
       "      <td>-0.000000</td>\n",
       "    </tr>\n",
       "  </tbody>\n",
       "</table>\n",
       "<p>8 rows × 442 columns</p>\n",
       "</div>"
      ],
      "text/plain": [
       "         36.053394     36.187012     36.434388     36.528704     36.555938   \\\n",
       "count  36633.000000  36633.000000  36633.000000  36633.000000  36633.000000   \n",
       "mean       0.000002      0.000030      0.000007      0.000022      0.000005   \n",
       "std        0.000340      0.001784      0.000769      0.001514      0.000647   \n",
       "min        0.000000      0.000000      0.000000      0.000000      0.000000   \n",
       "25%        0.000000      0.000000      0.000000      0.000000      0.000000   \n",
       "50%        0.000000      0.000000      0.000000      0.000000      0.000000   \n",
       "75%        0.000000      0.000000      0.000000      0.000000      0.000000   \n",
       "max        0.065162      0.140207      0.101300      0.141531      0.104690   \n",
       "\n",
       "         37.538205     37.963785     37.967310     38.040437     38.153534   \\\n",
       "count  36633.000000  36633.000000  36633.000000  36633.000000  36633.000000   \n",
       "mean       0.000003      0.000006      0.000003      0.000002      0.000003   \n",
       "std        0.000499      0.000921      0.000505      0.000366      0.000479   \n",
       "min        0.000000      0.000000      0.000000      0.000000      0.000000   \n",
       "25%        0.000000      0.000000      0.000000      0.000000      0.000000   \n",
       "50%        0.000000      0.000000      0.000000      0.000000      0.000000   \n",
       "75%        0.000000      0.000000      0.000000      0.000000      0.000000   \n",
       "max        0.095569      0.156483      0.096661      0.070047      0.091646   \n",
       "\n",
       "           ...        -103.671045   -103.633157   -103.540997   -103.046812  \\\n",
       "count      ...       36633.000000  36633.000000  36633.000000  36633.000000   \n",
       "mean       ...          -0.000004     -0.000007     -0.000005     -0.000006   \n",
       "std        ...           0.000785      0.001378      0.000996      0.001089   \n",
       "min        ...          -0.150332     -0.263841     -0.190657     -0.208425   \n",
       "25%        ...          -0.000000     -0.000000     -0.000000     -0.000000   \n",
       "50%        ...          -0.000000     -0.000000     -0.000000     -0.000000   \n",
       "75%        ...          -0.000000     -0.000000     -0.000000     -0.000000   \n",
       "max        ...          -0.000000     -0.000000     -0.000000     -0.000000   \n",
       "\n",
       "        -102.631195   -102.548384   -102.297176   -102.208966   -102.011461  \\\n",
       "count  36633.000000  36633.000000  36633.000000  36633.000000  36633.000000   \n",
       "mean      -0.000061     -0.000013     -0.000019     -0.000085     -0.000005   \n",
       "std        0.004254      0.001814      0.002160      0.005039      0.000963   \n",
       "min       -0.397645     -0.293680     -0.284420     -0.396009     -0.184372   \n",
       "25%       -0.000000     -0.000000     -0.000000     -0.000000     -0.000000   \n",
       "50%       -0.000000     -0.000000     -0.000000     -0.000000     -0.000000   \n",
       "75%       -0.000000     -0.000000     -0.000000     -0.000000     -0.000000   \n",
       "max       -0.000000     -0.000000     -0.000000     -0.000000     -0.000000   \n",
       "\n",
       "        -68.500000   \n",
       "count  36633.000000  \n",
       "mean      -0.016897  \n",
       "std        0.159952  \n",
       "min      -24.002104  \n",
       "25%       -0.000000  \n",
       "50%       -0.000000  \n",
       "75%       -0.000000  \n",
       "max       -0.000000  \n",
       "\n",
       "[8 rows x 442 columns]"
      ]
     },
     "execution_count": 125,
     "metadata": {},
     "output_type": "execute_result"
    }
   ],
   "source": [
    "df_oh.describe()"
   ]
  },
  {
   "cell_type": "code",
   "execution_count": 126,
   "metadata": {
    "ExecuteTime": {
     "end_time": "2019-01-09T16:50:17.202291Z",
     "start_time": "2019-01-09T16:50:17.196308Z"
    }
   },
   "outputs": [
    {
     "name": "stdout",
     "output_type": "stream",
     "text": [
      "(17652, 443)\n",
      "(18981, 443)\n"
     ]
    }
   ],
   "source": [
    "# Séparation de nouveau en train et test après transformation des features\n",
    "X_oh = df_oh.iloc[:X.shape[0],:]\n",
    "test_oh = df_oh.iloc[X.shape[0]:,:]\n",
    "print(X_oh.shape)\n",
    "print(test_oh.shape)"
   ]
  },
  {
   "cell_type": "markdown",
   "metadata": {},
   "source": [
    "Transformation 2  = Transformation 1 + Ajout des features nseq par ligne de messid"
   ]
  },
  {
   "cell_type": "code",
   "execution_count": 127,
   "metadata": {
    "ExecuteTime": {
     "end_time": "2019-01-09T16:50:18.135806Z",
     "start_time": "2019-01-09T16:50:17.959267Z"
    }
   },
   "outputs": [
    {
     "data": {
      "text/plain": [
       "(17652, 447)"
      ]
     },
     "execution_count": 127,
     "metadata": {},
     "output_type": "execute_result"
    }
   ],
   "source": [
    "X_oh_full = pd.DataFrame(data=pd.concat(axis=1,objs=[X_oh.iloc[:,1:],pd.get_dummies(X.nseq)],sort=False, copy=True).values,\n",
    "                         columns=pd.concat(axis=1,objs=[X_oh.iloc[:,1:],pd.get_dummies(X.nseq)],sort=False, copy=True).columns,index=X_oh.messid)\n",
    "X_oh_full.shape"
   ]
  },
  {
   "cell_type": "markdown",
   "metadata": {},
   "source": [
    "Transformation 3  = Transformation 1 + Groupage par messid"
   ]
  },
  {
   "cell_type": "code",
   "execution_count": 128,
   "metadata": {
    "ExecuteTime": {
     "end_time": "2019-01-09T16:50:19.010480Z",
     "start_time": "2019-01-09T16:50:18.910722Z"
    }
   },
   "outputs": [
    {
     "name": "stdout",
     "output_type": "stream",
     "text": [
      "(3053, 442)\n"
     ]
    }
   ],
   "source": [
    "X_oh_group = X_oh.groupby('messid',sort=False).mean()\n",
    "print(X_oh_group.shape)"
   ]
  },
  {
   "cell_type": "markdown",
   "metadata": {},
   "source": [
    "Transformation 4  = Transformation 1 + Ajout des features nseq par ligne de messid + groupage par messid"
   ]
  },
  {
   "cell_type": "code",
   "execution_count": 129,
   "metadata": {
    "ExecuteTime": {
     "end_time": "2019-01-09T16:50:19.905062Z",
     "start_time": "2019-01-09T16:50:19.834252Z"
    },
    "scrolled": true
   },
   "outputs": [
    {
     "data": {
      "text/plain": [
       "(3053, 447)"
      ]
     },
     "execution_count": 129,
     "metadata": {},
     "output_type": "execute_result"
    }
   ],
   "source": [
    "X_oh_full_group = X_oh_full.groupby('messid',sort=False).sum()\n",
    "X_oh_full_group.shape"
   ]
  },
  {
   "cell_type": "markdown",
   "metadata": {},
   "source": [
    "Transformation 5 = OneHotEncoder API"
   ]
  },
  {
   "cell_type": "code",
   "execution_count": 133,
   "metadata": {
    "ExecuteTime": {
     "end_time": "2019-01-09T16:52:01.654889Z",
     "start_time": "2019-01-09T16:52:01.638929Z"
    }
   },
   "outputs": [
    {
     "name": "stdout",
     "output_type": "stream",
     "text": [
      "Shape du Xtrain transformé par ohe : (17652, 362)\n",
      "\n",
      "  (0, 45)\t1.0\n",
      "  (0, 311)\t1.0\n"
     ]
    }
   ],
   "source": [
    "ohe = OneHotEncoder(handle_unknown='ignore')\n",
    "X_pre = X.drop(columns=['messid','did','time_ux'])\n",
    "X_pre = X_pre[['bs_lat','bs_lng']]\n",
    "X_ohe = ohe.fit_transform(X_pre) \n",
    "print(f'Shape du Xtrain transformé par ohe : {X_ohe.shape}\\n')\n",
    "print(X_ohe[1])"
   ]
  },
  {
   "cell_type": "code",
   "execution_count": 138,
   "metadata": {
    "ExecuteTime": {
     "end_time": "2019-01-09T16:52:52.262169Z",
     "start_time": "2019-01-09T16:52:52.254203Z"
    }
   },
   "outputs": [
    {
     "data": {
      "text/plain": [
       "bs_lat    181\n",
       "bs_lng    181\n",
       "dtype: int64"
      ]
     },
     "execution_count": 138,
     "metadata": {},
     "output_type": "execute_result"
    }
   ],
   "source": [
    "X_pre.nunique()"
   ]
  },
  {
   "cell_type": "code",
   "execution_count": 139,
   "metadata": {
    "ExecuteTime": {
     "end_time": "2019-01-09T16:53:07.058820Z",
     "start_time": "2019-01-09T16:53:07.029869Z"
    }
   },
   "outputs": [
    {
     "data": {
      "text/plain": [
       "(17652, 362)"
      ]
     },
     "execution_count": 139,
     "metadata": {},
     "output_type": "execute_result"
    }
   ],
   "source": [
    "X_ohe.todense().shape"
   ]
  },
  {
   "cell_type": "markdown",
   "metadata": {},
   "source": [
    "Transformation 6 = Transformation 1 + ajout time_ux + groupage par messid"
   ]
  },
  {
   "cell_type": "code",
   "execution_count": 47,
   "metadata": {
    "ExecuteTime": {
     "end_time": "2019-01-09T11:28:24.420139Z",
     "start_time": "2019-01-09T11:28:24.118920Z"
    }
   },
   "outputs": [
    {
     "data": {
      "text/html": [
       "<div>\n",
       "<style scoped>\n",
       "    .dataframe tbody tr th:only-of-type {\n",
       "        vertical-align: middle;\n",
       "    }\n",
       "\n",
       "    .dataframe tbody tr th {\n",
       "        vertical-align: top;\n",
       "    }\n",
       "\n",
       "    .dataframe thead th {\n",
       "        text-align: right;\n",
       "    }\n",
       "</style>\n",
       "<table border=\"1\" class=\"dataframe\">\n",
       "  <thead>\n",
       "    <tr style=\"text-align: right;\">\n",
       "      <th></th>\n",
       "      <th>36.0533936861</th>\n",
       "      <th>36.187011678800005</th>\n",
       "      <th>36.4343876437</th>\n",
       "      <th>36.5287044515</th>\n",
       "      <th>36.5559381931</th>\n",
       "      <th>37.5382053103</th>\n",
       "      <th>37.9637853398</th>\n",
       "      <th>37.9673102044</th>\n",
       "      <th>38.0404365429</th>\n",
       "      <th>38.1535335179</th>\n",
       "      <th>...</th>\n",
       "      <th>-103.63315728399999</th>\n",
       "      <th>-103.540996981</th>\n",
       "      <th>-103.046811979</th>\n",
       "      <th>-102.631195011</th>\n",
       "      <th>-102.548383841</th>\n",
       "      <th>-102.297175809</th>\n",
       "      <th>-102.208966477</th>\n",
       "      <th>-102.011461391</th>\n",
       "      <th>-68.5</th>\n",
       "      <th>time_ux</th>\n",
       "    </tr>\n",
       "    <tr>\n",
       "      <th>messid</th>\n",
       "      <th></th>\n",
       "      <th></th>\n",
       "      <th></th>\n",
       "      <th></th>\n",
       "      <th></th>\n",
       "      <th></th>\n",
       "      <th></th>\n",
       "      <th></th>\n",
       "      <th></th>\n",
       "      <th></th>\n",
       "      <th></th>\n",
       "      <th></th>\n",
       "      <th></th>\n",
       "      <th></th>\n",
       "      <th></th>\n",
       "      <th></th>\n",
       "      <th></th>\n",
       "      <th></th>\n",
       "      <th></th>\n",
       "      <th></th>\n",
       "      <th></th>\n",
       "    </tr>\n",
       "  </thead>\n",
       "  <tbody>\n",
       "    <tr>\n",
       "      <th>573bf1d9864fce1a9af8c5c9</th>\n",
       "      <td>0.0</td>\n",
       "      <td>0.0</td>\n",
       "      <td>0.0</td>\n",
       "      <td>0.0</td>\n",
       "      <td>0.0</td>\n",
       "      <td>0.0</td>\n",
       "      <td>0.0</td>\n",
       "      <td>0.0</td>\n",
       "      <td>0.0</td>\n",
       "      <td>0.0</td>\n",
       "      <td>...</td>\n",
       "      <td>0.0</td>\n",
       "      <td>0.0</td>\n",
       "      <td>0.0</td>\n",
       "      <td>0.0</td>\n",
       "      <td>0.0</td>\n",
       "      <td>0.0</td>\n",
       "      <td>0.0</td>\n",
       "      <td>0.0</td>\n",
       "      <td>0.0</td>\n",
       "      <td>1.463546e+12</td>\n",
       "    </tr>\n",
       "    <tr>\n",
       "      <th>573bf3533e952e19126b256a</th>\n",
       "      <td>0.0</td>\n",
       "      <td>0.0</td>\n",
       "      <td>0.0</td>\n",
       "      <td>0.0</td>\n",
       "      <td>0.0</td>\n",
       "      <td>0.0</td>\n",
       "      <td>0.0</td>\n",
       "      <td>0.0</td>\n",
       "      <td>0.0</td>\n",
       "      <td>0.0</td>\n",
       "      <td>...</td>\n",
       "      <td>0.0</td>\n",
       "      <td>0.0</td>\n",
       "      <td>0.0</td>\n",
       "      <td>0.0</td>\n",
       "      <td>0.0</td>\n",
       "      <td>0.0</td>\n",
       "      <td>0.0</td>\n",
       "      <td>0.0</td>\n",
       "      <td>0.0</td>\n",
       "      <td>1.463547e+12</td>\n",
       "    </tr>\n",
       "    <tr>\n",
       "      <th>573c0cd0f0fe6e735a699b93</th>\n",
       "      <td>0.0</td>\n",
       "      <td>0.0</td>\n",
       "      <td>0.0</td>\n",
       "      <td>0.0</td>\n",
       "      <td>0.0</td>\n",
       "      <td>0.0</td>\n",
       "      <td>0.0</td>\n",
       "      <td>0.0</td>\n",
       "      <td>0.0</td>\n",
       "      <td>0.0</td>\n",
       "      <td>...</td>\n",
       "      <td>0.0</td>\n",
       "      <td>0.0</td>\n",
       "      <td>0.0</td>\n",
       "      <td>0.0</td>\n",
       "      <td>0.0</td>\n",
       "      <td>0.0</td>\n",
       "      <td>0.0</td>\n",
       "      <td>0.0</td>\n",
       "      <td>0.0</td>\n",
       "      <td>1.463553e+12</td>\n",
       "    </tr>\n",
       "    <tr>\n",
       "      <th>573c1272f0fe6e735a6cb8bd</th>\n",
       "      <td>0.0</td>\n",
       "      <td>0.0</td>\n",
       "      <td>0.0</td>\n",
       "      <td>0.0</td>\n",
       "      <td>0.0</td>\n",
       "      <td>0.0</td>\n",
       "      <td>0.0</td>\n",
       "      <td>0.0</td>\n",
       "      <td>0.0</td>\n",
       "      <td>0.0</td>\n",
       "      <td>...</td>\n",
       "      <td>0.0</td>\n",
       "      <td>0.0</td>\n",
       "      <td>0.0</td>\n",
       "      <td>0.0</td>\n",
       "      <td>0.0</td>\n",
       "      <td>0.0</td>\n",
       "      <td>0.0</td>\n",
       "      <td>0.0</td>\n",
       "      <td>0.0</td>\n",
       "      <td>1.463555e+12</td>\n",
       "    </tr>\n",
       "    <tr>\n",
       "      <th>573c8ea8864fce1a9a5fbf7a</th>\n",
       "      <td>0.0</td>\n",
       "      <td>0.0</td>\n",
       "      <td>0.0</td>\n",
       "      <td>0.0</td>\n",
       "      <td>0.0</td>\n",
       "      <td>0.0</td>\n",
       "      <td>0.0</td>\n",
       "      <td>0.0</td>\n",
       "      <td>0.0</td>\n",
       "      <td>0.0</td>\n",
       "      <td>...</td>\n",
       "      <td>0.0</td>\n",
       "      <td>0.0</td>\n",
       "      <td>0.0</td>\n",
       "      <td>0.0</td>\n",
       "      <td>0.0</td>\n",
       "      <td>0.0</td>\n",
       "      <td>0.0</td>\n",
       "      <td>0.0</td>\n",
       "      <td>0.0</td>\n",
       "      <td>1.463586e+12</td>\n",
       "    </tr>\n",
       "  </tbody>\n",
       "</table>\n",
       "<p>5 rows × 443 columns</p>\n",
       "</div>"
      ],
      "text/plain": [
       "                          36.0533936861  36.187011678800005  36.4343876437  \\\n",
       "messid                                                                       \n",
       "573bf1d9864fce1a9af8c5c9            0.0                 0.0            0.0   \n",
       "573bf3533e952e19126b256a            0.0                 0.0            0.0   \n",
       "573c0cd0f0fe6e735a699b93            0.0                 0.0            0.0   \n",
       "573c1272f0fe6e735a6cb8bd            0.0                 0.0            0.0   \n",
       "573c8ea8864fce1a9a5fbf7a            0.0                 0.0            0.0   \n",
       "\n",
       "                          36.5287044515  36.5559381931  37.5382053103  \\\n",
       "messid                                                                  \n",
       "573bf1d9864fce1a9af8c5c9            0.0            0.0            0.0   \n",
       "573bf3533e952e19126b256a            0.0            0.0            0.0   \n",
       "573c0cd0f0fe6e735a699b93            0.0            0.0            0.0   \n",
       "573c1272f0fe6e735a6cb8bd            0.0            0.0            0.0   \n",
       "573c8ea8864fce1a9a5fbf7a            0.0            0.0            0.0   \n",
       "\n",
       "                          37.9637853398  37.9673102044  38.0404365429  \\\n",
       "messid                                                                  \n",
       "573bf1d9864fce1a9af8c5c9            0.0            0.0            0.0   \n",
       "573bf3533e952e19126b256a            0.0            0.0            0.0   \n",
       "573c0cd0f0fe6e735a699b93            0.0            0.0            0.0   \n",
       "573c1272f0fe6e735a6cb8bd            0.0            0.0            0.0   \n",
       "573c8ea8864fce1a9a5fbf7a            0.0            0.0            0.0   \n",
       "\n",
       "                          38.1535335179      ...       -103.63315728399999  \\\n",
       "messid                                       ...                             \n",
       "573bf1d9864fce1a9af8c5c9            0.0      ...                       0.0   \n",
       "573bf3533e952e19126b256a            0.0      ...                       0.0   \n",
       "573c0cd0f0fe6e735a699b93            0.0      ...                       0.0   \n",
       "573c1272f0fe6e735a6cb8bd            0.0      ...                       0.0   \n",
       "573c8ea8864fce1a9a5fbf7a            0.0      ...                       0.0   \n",
       "\n",
       "                          -103.540996981  -103.046811979  -102.631195011  \\\n",
       "messid                                                                     \n",
       "573bf1d9864fce1a9af8c5c9             0.0             0.0             0.0   \n",
       "573bf3533e952e19126b256a             0.0             0.0             0.0   \n",
       "573c0cd0f0fe6e735a699b93             0.0             0.0             0.0   \n",
       "573c1272f0fe6e735a6cb8bd             0.0             0.0             0.0   \n",
       "573c8ea8864fce1a9a5fbf7a             0.0             0.0             0.0   \n",
       "\n",
       "                          -102.548383841  -102.297175809  -102.208966477  \\\n",
       "messid                                                                     \n",
       "573bf1d9864fce1a9af8c5c9             0.0             0.0             0.0   \n",
       "573bf3533e952e19126b256a             0.0             0.0             0.0   \n",
       "573c0cd0f0fe6e735a699b93             0.0             0.0             0.0   \n",
       "573c1272f0fe6e735a6cb8bd             0.0             0.0             0.0   \n",
       "573c8ea8864fce1a9a5fbf7a             0.0             0.0             0.0   \n",
       "\n",
       "                          -102.011461391  -68.5       time_ux  \n",
       "messid                                                         \n",
       "573bf1d9864fce1a9af8c5c9             0.0    0.0  1.463546e+12  \n",
       "573bf3533e952e19126b256a             0.0    0.0  1.463547e+12  \n",
       "573c0cd0f0fe6e735a699b93             0.0    0.0  1.463553e+12  \n",
       "573c1272f0fe6e735a6cb8bd             0.0    0.0  1.463555e+12  \n",
       "573c8ea8864fce1a9a5fbf7a             0.0    0.0  1.463586e+12  \n",
       "\n",
       "[5 rows x 443 columns]"
      ]
     },
     "execution_count": 47,
     "metadata": {},
     "output_type": "execute_result"
    }
   ],
   "source": [
    "X_oh_gr_time = pd.DataFrame(data=pd.concat(axis=1,objs=[X_oh.iloc[:,1:],X.time_ux],sort=False, copy=True).values,\n",
    "                            columns=pd.concat(axis=1,objs=[X_oh.iloc[:,1:],X.time_ux],sort=False,copy=True).columns,index=X_oh.messid)\n",
    "X_oh_gr_time = X_oh_gr_time.groupby('messid',sort=False).mean()\n",
    "X_oh_gr_time.head()"
   ]
  },
  {
   "cell_type": "markdown",
   "metadata": {
    "ExecuteTime": {
     "end_time": "2019-01-02T23:18:37.805470Z",
     "start_time": "2019-01-02T23:18:37.796494Z"
    }
   },
   "source": [
    "Transformation 7 = cleaning + encod (cf.fonction)"
   ]
  },
  {
   "cell_type": "code",
   "execution_count": 48,
   "metadata": {
    "ExecuteTime": {
     "end_time": "2019-01-09T11:28:25.297797Z",
     "start_time": "2019-01-09T11:28:24.423109Z"
    }
   },
   "outputs": [
    {
     "data": {
      "text/html": [
       "<div>\n",
       "<style scoped>\n",
       "    .dataframe tbody tr th:only-of-type {\n",
       "        vertical-align: middle;\n",
       "    }\n",
       "\n",
       "    .dataframe tbody tr th {\n",
       "        vertical-align: top;\n",
       "    }\n",
       "\n",
       "    .dataframe thead th {\n",
       "        text-align: right;\n",
       "    }\n",
       "</style>\n",
       "<table border=\"1\" class=\"dataframe\">\n",
       "  <thead>\n",
       "    <tr style=\"text-align: right;\">\n",
       "      <th></th>\n",
       "      <th>36.0533936861</th>\n",
       "      <th>36.187011678800005</th>\n",
       "      <th>36.4343876437</th>\n",
       "      <th>36.5287044515</th>\n",
       "      <th>36.5559381931</th>\n",
       "      <th>37.5382053103</th>\n",
       "      <th>37.9637853398</th>\n",
       "      <th>37.9673102044</th>\n",
       "      <th>38.0404365429</th>\n",
       "      <th>38.1535335179</th>\n",
       "      <th>...</th>\n",
       "      <th>-103.671045026</th>\n",
       "      <th>-103.63315728399999</th>\n",
       "      <th>-103.540996981</th>\n",
       "      <th>-103.046811979</th>\n",
       "      <th>-102.631195011</th>\n",
       "      <th>-102.548383841</th>\n",
       "      <th>-102.297175809</th>\n",
       "      <th>-102.208966477</th>\n",
       "      <th>-102.011461391</th>\n",
       "      <th>-68.5</th>\n",
       "    </tr>\n",
       "    <tr>\n",
       "      <th>messid</th>\n",
       "      <th></th>\n",
       "      <th></th>\n",
       "      <th></th>\n",
       "      <th></th>\n",
       "      <th></th>\n",
       "      <th></th>\n",
       "      <th></th>\n",
       "      <th></th>\n",
       "      <th></th>\n",
       "      <th></th>\n",
       "      <th></th>\n",
       "      <th></th>\n",
       "      <th></th>\n",
       "      <th></th>\n",
       "      <th></th>\n",
       "      <th></th>\n",
       "      <th></th>\n",
       "      <th></th>\n",
       "      <th></th>\n",
       "      <th></th>\n",
       "      <th></th>\n",
       "    </tr>\n",
       "  </thead>\n",
       "  <tbody>\n",
       "    <tr>\n",
       "      <th>573bf1d9864fce1a9af8c5c9</th>\n",
       "      <td>0.0</td>\n",
       "      <td>0.0</td>\n",
       "      <td>0.0</td>\n",
       "      <td>0.0</td>\n",
       "      <td>0.0</td>\n",
       "      <td>0.0</td>\n",
       "      <td>0.0</td>\n",
       "      <td>0.0</td>\n",
       "      <td>0.0</td>\n",
       "      <td>0.0</td>\n",
       "      <td>...</td>\n",
       "      <td>0.0</td>\n",
       "      <td>0.0</td>\n",
       "      <td>0.0</td>\n",
       "      <td>0.0</td>\n",
       "      <td>0.0</td>\n",
       "      <td>0.0</td>\n",
       "      <td>0.0</td>\n",
       "      <td>0.0</td>\n",
       "      <td>0.0</td>\n",
       "      <td>0.0</td>\n",
       "    </tr>\n",
       "    <tr>\n",
       "      <th>573bf3533e952e19126b256a</th>\n",
       "      <td>0.0</td>\n",
       "      <td>0.0</td>\n",
       "      <td>0.0</td>\n",
       "      <td>0.0</td>\n",
       "      <td>0.0</td>\n",
       "      <td>0.0</td>\n",
       "      <td>0.0</td>\n",
       "      <td>0.0</td>\n",
       "      <td>0.0</td>\n",
       "      <td>0.0</td>\n",
       "      <td>...</td>\n",
       "      <td>0.0</td>\n",
       "      <td>0.0</td>\n",
       "      <td>0.0</td>\n",
       "      <td>0.0</td>\n",
       "      <td>0.0</td>\n",
       "      <td>0.0</td>\n",
       "      <td>0.0</td>\n",
       "      <td>0.0</td>\n",
       "      <td>0.0</td>\n",
       "      <td>0.0</td>\n",
       "    </tr>\n",
       "    <tr>\n",
       "      <th>573c0cd0f0fe6e735a699b93</th>\n",
       "      <td>0.0</td>\n",
       "      <td>0.0</td>\n",
       "      <td>0.0</td>\n",
       "      <td>0.0</td>\n",
       "      <td>0.0</td>\n",
       "      <td>0.0</td>\n",
       "      <td>0.0</td>\n",
       "      <td>0.0</td>\n",
       "      <td>0.0</td>\n",
       "      <td>0.0</td>\n",
       "      <td>...</td>\n",
       "      <td>0.0</td>\n",
       "      <td>0.0</td>\n",
       "      <td>0.0</td>\n",
       "      <td>0.0</td>\n",
       "      <td>0.0</td>\n",
       "      <td>0.0</td>\n",
       "      <td>0.0</td>\n",
       "      <td>0.0</td>\n",
       "      <td>0.0</td>\n",
       "      <td>0.0</td>\n",
       "    </tr>\n",
       "    <tr>\n",
       "      <th>573c1272f0fe6e735a6cb8bd</th>\n",
       "      <td>0.0</td>\n",
       "      <td>0.0</td>\n",
       "      <td>0.0</td>\n",
       "      <td>0.0</td>\n",
       "      <td>0.0</td>\n",
       "      <td>0.0</td>\n",
       "      <td>0.0</td>\n",
       "      <td>0.0</td>\n",
       "      <td>0.0</td>\n",
       "      <td>0.0</td>\n",
       "      <td>...</td>\n",
       "      <td>0.0</td>\n",
       "      <td>0.0</td>\n",
       "      <td>0.0</td>\n",
       "      <td>0.0</td>\n",
       "      <td>0.0</td>\n",
       "      <td>0.0</td>\n",
       "      <td>0.0</td>\n",
       "      <td>0.0</td>\n",
       "      <td>0.0</td>\n",
       "      <td>0.0</td>\n",
       "    </tr>\n",
       "    <tr>\n",
       "      <th>573c8ea8864fce1a9a5fbf7a</th>\n",
       "      <td>0.0</td>\n",
       "      <td>0.0</td>\n",
       "      <td>0.0</td>\n",
       "      <td>0.0</td>\n",
       "      <td>0.0</td>\n",
       "      <td>0.0</td>\n",
       "      <td>0.0</td>\n",
       "      <td>0.0</td>\n",
       "      <td>0.0</td>\n",
       "      <td>0.0</td>\n",
       "      <td>...</td>\n",
       "      <td>0.0</td>\n",
       "      <td>0.0</td>\n",
       "      <td>0.0</td>\n",
       "      <td>0.0</td>\n",
       "      <td>0.0</td>\n",
       "      <td>0.0</td>\n",
       "      <td>0.0</td>\n",
       "      <td>0.0</td>\n",
       "      <td>0.0</td>\n",
       "      <td>0.0</td>\n",
       "    </tr>\n",
       "  </tbody>\n",
       "</table>\n",
       "<p>5 rows × 442 columns</p>\n",
       "</div>"
      ],
      "text/plain": [
       "                           36.053394    36.187012    36.434388    36.528704   \\\n",
       "messid                                                                         \n",
       "573bf1d9864fce1a9af8c5c9          0.0          0.0          0.0          0.0   \n",
       "573bf3533e952e19126b256a          0.0          0.0          0.0          0.0   \n",
       "573c0cd0f0fe6e735a699b93          0.0          0.0          0.0          0.0   \n",
       "573c1272f0fe6e735a6cb8bd          0.0          0.0          0.0          0.0   \n",
       "573c8ea8864fce1a9a5fbf7a          0.0          0.0          0.0          0.0   \n",
       "\n",
       "                           36.555938    37.538205    37.963785    37.967310   \\\n",
       "messid                                                                         \n",
       "573bf1d9864fce1a9af8c5c9          0.0          0.0          0.0          0.0   \n",
       "573bf3533e952e19126b256a          0.0          0.0          0.0          0.0   \n",
       "573c0cd0f0fe6e735a699b93          0.0          0.0          0.0          0.0   \n",
       "573c1272f0fe6e735a6cb8bd          0.0          0.0          0.0          0.0   \n",
       "573c8ea8864fce1a9a5fbf7a          0.0          0.0          0.0          0.0   \n",
       "\n",
       "                           38.040437    38.153534      ...       -103.671045  \\\n",
       "messid                                                 ...                     \n",
       "573bf1d9864fce1a9af8c5c9          0.0          0.0     ...               0.0   \n",
       "573bf3533e952e19126b256a          0.0          0.0     ...               0.0   \n",
       "573c0cd0f0fe6e735a699b93          0.0          0.0     ...               0.0   \n",
       "573c1272f0fe6e735a6cb8bd          0.0          0.0     ...               0.0   \n",
       "573c8ea8864fce1a9a5fbf7a          0.0          0.0     ...               0.0   \n",
       "\n",
       "                          -103.633157  -103.540997  -103.046812  -102.631195  \\\n",
       "messid                                                                         \n",
       "573bf1d9864fce1a9af8c5c9          0.0          0.0          0.0          0.0   \n",
       "573bf3533e952e19126b256a          0.0          0.0          0.0          0.0   \n",
       "573c0cd0f0fe6e735a699b93          0.0          0.0          0.0          0.0   \n",
       "573c1272f0fe6e735a6cb8bd          0.0          0.0          0.0          0.0   \n",
       "573c8ea8864fce1a9a5fbf7a          0.0          0.0          0.0          0.0   \n",
       "\n",
       "                          -102.548384  -102.297176  -102.208966  -102.011461  \\\n",
       "messid                                                                         \n",
       "573bf1d9864fce1a9af8c5c9          0.0          0.0          0.0          0.0   \n",
       "573bf3533e952e19126b256a          0.0          0.0          0.0          0.0   \n",
       "573c0cd0f0fe6e735a699b93          0.0          0.0          0.0          0.0   \n",
       "573c1272f0fe6e735a6cb8bd          0.0          0.0          0.0          0.0   \n",
       "573c8ea8864fce1a9a5fbf7a          0.0          0.0          0.0          0.0   \n",
       "\n",
       "                          -68.500000   \n",
       "messid                                 \n",
       "573bf1d9864fce1a9af8c5c9          0.0  \n",
       "573bf3533e952e19126b256a          0.0  \n",
       "573c0cd0f0fe6e735a699b93          0.0  \n",
       "573c1272f0fe6e735a6cb8bd          0.0  \n",
       "573c8ea8864fce1a9a5fbf7a          0.0  \n",
       "\n",
       "[5 rows x 442 columns]"
      ]
     },
     "execution_count": 48,
     "metadata": {},
     "output_type": "execute_result"
    }
   ],
   "source": [
    "Xnew, X_test = feat2(X,X_test)\n",
    "Xnew.head()"
   ]
  },
  {
   "cell_type": "markdown",
   "metadata": {},
   "source": [
    "### Model-1 : RandomForest + Transformation 2"
   ]
  },
  {
   "cell_type": "code",
   "execution_count": 49,
   "metadata": {
    "ExecuteTime": {
     "end_time": "2019-01-09T11:28:51.799041Z",
     "start_time": "2019-01-09T11:28:25.299768Z"
    }
   },
   "outputs": [
    {
     "name": "stdout",
     "output_type": "stream",
     "text": [
      "(14121, 447) (14121, 2)\n",
      "6125.338624210429\n"
     ]
    }
   ],
   "source": [
    "Xtrain, Xtest, ytrain, ytest = train_test_split(X_oh_full, y, test_size=0.2, random_state=42)\n",
    "Xtrain=Xtrain.reset_index(drop=True)\n",
    "Xtest=Xtest.reset_index(drop=True)\n",
    "print(Xtrain.shape, ytrain.shape)\n",
    "\n",
    "rf = RandomForestRegressor(n_estimators=128, n_jobs=8, random_state=42)\n",
    "rf.fit(Xtrain.values, ytrain.values)\n",
    "\n",
    "Model_1 = score(rf,Xtest.values,ytest.values)*-1\n",
    "print(Model_1)"
   ]
  },
  {
   "cell_type": "markdown",
   "metadata": {},
   "source": [
    "### Model-2 : RandomForest + Transformation 3"
   ]
  },
  {
   "cell_type": "code",
   "execution_count": 50,
   "metadata": {
    "ExecuteTime": {
     "end_time": "2019-01-09T11:28:54.292390Z",
     "start_time": "2019-01-09T11:28:51.801018Z"
    }
   },
   "outputs": [
    {
     "name": "stdout",
     "output_type": "stream",
     "text": [
      "(2442, 442) (2442, 2)\n",
      "3381.1226670563788\n"
     ]
    }
   ],
   "source": [
    "Xtrain, Xtest, ytrain, ytest = train_test_split(X_oh_group, ygroup, test_size=0.2, random_state=42)\n",
    "Xtrain=Xtrain.reset_index(drop=True)\n",
    "Xtest=Xtest.reset_index(drop=True)\n",
    "print(Xtrain.shape, ytrain.shape)\n",
    "\n",
    "rf = RandomForestRegressor(n_estimators=128, n_jobs=8, random_state=42)\n",
    "rf.fit(Xtrain.values, ytrain.values)\n",
    "\n",
    "Model_2 = score(rf,Xtest.values,ytest.values)*-1\n",
    "print(Model_2)"
   ]
  },
  {
   "cell_type": "markdown",
   "metadata": {},
   "source": [
    "### Model-3 : RandomForest + Transformation 4"
   ]
  },
  {
   "cell_type": "code",
   "execution_count": 51,
   "metadata": {
    "ExecuteTime": {
     "end_time": "2019-01-09T11:28:56.567882Z",
     "start_time": "2019-01-09T11:28:54.293357Z"
    }
   },
   "outputs": [
    {
     "name": "stdout",
     "output_type": "stream",
     "text": [
      "(2442, 447) (2442, 2)\n",
      "3269.3885293943185\n"
     ]
    }
   ],
   "source": [
    "Xtrain, Xtest, ytrain, ytest = train_test_split(X_oh_full_group, ygroup, test_size=0.2, random_state=42)\n",
    "Xtrain=Xtrain.reset_index(drop=True)\n",
    "Xtest=Xtest.reset_index(drop=True)\n",
    "print(Xtrain.shape, ytrain.shape)\n",
    "\n",
    "rf = RandomForestRegressor(n_estimators=128, n_jobs=8, random_state=42)\n",
    "rf.fit(Xtrain.values, ytrain.values)\n",
    "\n",
    "Model_3 = score(rf,Xtest.values,ytest.values)*-1\n",
    "print(Model_3)"
   ]
  },
  {
   "cell_type": "markdown",
   "metadata": {},
   "source": [
    "### Model-4 : RandomForest + Transformation 5"
   ]
  },
  {
   "cell_type": "code",
   "execution_count": 52,
   "metadata": {
    "ExecuteTime": {
     "end_time": "2019-01-09T11:29:05.930849Z",
     "start_time": "2019-01-09T11:28:56.568847Z"
    }
   },
   "outputs": [
    {
     "name": "stdout",
     "output_type": "stream",
     "text": [
      "(14121, 810) (14121, 2)\n",
      "error\n"
     ]
    }
   ],
   "source": [
    "Xtrain, Xtest, ytrain, ytest = train_test_split(X_ohe, y, test_size=0.2, random_state=42)\n",
    "print(Xtrain.shape, ytrain.shape)\n",
    "\n",
    "from sklearn.ensemble import RandomForestRegressor\n",
    "rf = RandomForestRegressor(n_estimators=128, n_jobs=8, random_state=42)\n",
    "rf.fit(Xtrain, ytrain)\n",
    "\n",
    "# Model_4 = score(rf,Xtest.values,ytest.values)*-1\n",
    "Model_4 = 'error'\n",
    "print(Model_4)"
   ]
  },
  {
   "cell_type": "markdown",
   "metadata": {},
   "source": [
    "### Model-5 : RandomForest + Transformation 7"
   ]
  },
  {
   "cell_type": "code",
   "execution_count": 53,
   "metadata": {
    "ExecuteTime": {
     "end_time": "2019-01-09T11:29:08.385154Z",
     "start_time": "2019-01-09T11:29:05.931849Z"
    }
   },
   "outputs": [
    {
     "name": "stdout",
     "output_type": "stream",
     "text": [
      "(2442, 442) (2442, 2)\n",
      "3011.5178955201245\n"
     ]
    }
   ],
   "source": [
    "Xtrain, Xtest, ytrain, ytest = train_test_split(Xnew, ygroup, test_size=0.2, random_state=42)\n",
    "Xtrain=Xtrain.reset_index(drop=True)\n",
    "Xtest=Xtest.reset_index(drop=True)\n",
    "print(Xtrain.shape, ytrain.shape)\n",
    "\n",
    "rf = RandomForestRegressor(n_estimators=128, n_jobs=8, random_state=42)\n",
    "rf.fit(Xtrain.values, ytrain.values)\n",
    "\n",
    "Model_5 = score(rf,Xtest.values,ytest.values)*-1\n",
    "print(Model_5)"
   ]
  },
  {
   "cell_type": "markdown",
   "metadata": {},
   "source": [
    "#### Features Selection"
   ]
  },
  {
   "cell_type": "code",
   "execution_count": 175,
   "metadata": {
    "ExecuteTime": {
     "end_time": "2019-01-11T18:25:57.312831Z",
     "start_time": "2019-01-11T18:25:57.309863Z"
    }
   },
   "outputs": [],
   "source": [
    "# %matplotlib inline\n",
    "# feat_imp = pd.DataFrame(data=rf.feature_importances_.reshape(1,-1), columns=X_oh_group.columns).T\n",
    "# feat_imp.sort_values(0, ascending=False).cumsum().iloc[:50,:].plot(kind='bar',figsize=(10,5))\n",
    "# plt.hlines(y=0.95,xmin=0,xmax=50,linestyles='--')\n",
    "# plt.title('Importance des features à 95%')\n",
    "# plt.show()\n",
    "\n",
    "# feat_95 = feat_imp.sort_values(0, ascending=False).cumsum().iloc[:50,:].index\n",
    "# X_oh_group_reduced = X_oh_group[feat_95]"
   ]
  },
  {
   "cell_type": "markdown",
   "metadata": {},
   "source": [
    "### Model-6 : GradientBoosting + Transfomation 7"
   ]
  },
  {
   "cell_type": "code",
   "execution_count": 55,
   "metadata": {
    "ExecuteTime": {
     "end_time": "2019-01-09T11:29:31.264484Z",
     "start_time": "2019-01-09T11:29:08.602958Z"
    }
   },
   "outputs": [
    {
     "name": "stdout",
     "output_type": "stream",
     "text": [
      "(2442, 442) (2442, 2)\n",
      "4234.765186378992\n"
     ]
    }
   ],
   "source": [
    "Xtrain, Xtest, ytrain, ytest = train_test_split(Xnew, ygroup, test_size=0.2, random_state=42)\n",
    "Xtrain=Xtrain.reset_index(drop=True)\n",
    "Xtest=Xtest.reset_index(drop=True)\n",
    "print(Xtrain.shape, ytrain.shape)\n",
    "\n",
    "mo_gb = MultiOutputRegressor(GradientBoostingRegressor(learning_rate=0.8,n_estimators=1280,verbose=False,random_state=42))\n",
    "mo_gb.fit(Xtrain.values,ytrain.values)\n",
    "\n",
    "Model_6 = score(mo_gb,Xtest.values,ytest.values)*-1\n",
    "print(Model_6)"
   ]
  },
  {
   "cell_type": "markdown",
   "metadata": {},
   "source": [
    "### Model-7 : KNN + Transfomation 7"
   ]
  },
  {
   "cell_type": "code",
   "execution_count": 56,
   "metadata": {
    "ExecuteTime": {
     "end_time": "2019-01-09T11:29:31.579823Z",
     "start_time": "2019-01-09T11:29:31.266484Z"
    }
   },
   "outputs": [
    {
     "name": "stdout",
     "output_type": "stream",
     "text": [
      "(2442, 442) (2442, 2)\n",
      "3118.1430795488536\n"
     ]
    }
   ],
   "source": [
    "Xtrain, Xtest, ytrain, ytest = train_test_split(Xnew, ygroup, test_size=0.2, random_state=42)\n",
    "Xtrain=Xtrain.reset_index(drop=True)\n",
    "Xtest=Xtest.reset_index(drop=True)\n",
    "print(Xtrain.shape, ytrain.shape)\n",
    "\n",
    "knn = KNeighborsRegressor(n_neighbors=5, n_jobs=8)\n",
    "knn.fit(Xtrain.values, ytrain.values) \n",
    "\n",
    "Model_7 = score(knn,Xtest.values,ytest.values)*-1\n",
    "print(Model_7)"
   ]
  },
  {
   "cell_type": "markdown",
   "metadata": {},
   "source": [
    "### Model-8 : SVM + Transfomation 7"
   ]
  },
  {
   "cell_type": "code",
   "execution_count": 57,
   "metadata": {
    "ExecuteTime": {
     "end_time": "2019-01-09T11:29:32.318872Z",
     "start_time": "2019-01-09T11:29:31.581816Z"
    }
   },
   "outputs": [
    {
     "name": "stdout",
     "output_type": "stream",
     "text": [
      "(2442, 442) (2442, 2)\n",
      "11766.86535615466\n"
     ]
    }
   ],
   "source": [
    "Xtrain, Xtest, ytrain, ytest = train_test_split(Xnew, ygroup, test_size=0.2, random_state=42)\n",
    "Xtrain=Xtrain.reset_index(drop=True)\n",
    "Xtest=Xtest.reset_index(drop=True)\n",
    "print(Xtrain.shape, ytrain.shape)\n",
    "\n",
    "svr = MultiOutputRegressor(svm.SVR(gamma='scale'))\n",
    "svr.fit(Xtrain.values, ytrain.values)\n",
    "\n",
    "Model_8 = score(svr,Xtest.values,ytest.values)*-1\n",
    "print(Model_8)"
   ]
  },
  {
   "cell_type": "markdown",
   "metadata": {},
   "source": [
    "### Model-9 : MLP Reg (for Fun)"
   ]
  },
  {
   "cell_type": "code",
   "execution_count": 58,
   "metadata": {
    "ExecuteTime": {
     "end_time": "2019-01-09T11:29:37.813179Z",
     "start_time": "2019-01-09T11:29:32.320845Z"
    }
   },
   "outputs": [
    {
     "name": "stdout",
     "output_type": "stream",
     "text": [
      "(14121, 4) (14121, 2)\n",
      "10012.127478318556\n"
     ]
    }
   ],
   "source": [
    "Xtrain, Xtest, ytrain, ytest = train_test_split(X, y, test_size=0.2, random_state=42)\n",
    "Xtrain=Xtrain.reset_index(drop=True)\n",
    "Xtest=Xtest.reset_index(drop=True)\n",
    "Xtrain = Xtrain.loc[:,['nseq','rssi','bs_lat','bs_lng']]\n",
    "Xtest = Xtest.loc[:,['nseq','rssi','bs_lat','bs_lng']]\n",
    "print(Xtrain.shape, ytrain.shape)\n",
    "\n",
    "mlp = MLPRegressor(max_iter=200,hidden_layer_sizes=(1000,))\n",
    "mlp.fit(Xtrain.values,ytrain.values)\n",
    "\n",
    "Model_9 = score(mlp,Xtest.values,ytest.values)*-1\n",
    "print(Model_9)"
   ]
  },
  {
   "cell_type": "markdown",
   "metadata": {},
   "source": [
    "### Model Summary"
   ]
  },
  {
   "cell_type": "code",
   "execution_count": 65,
   "metadata": {
    "ExecuteTime": {
     "end_time": "2019-01-09T11:43:22.357193Z",
     "start_time": "2019-01-09T11:43:22.345226Z"
    }
   },
   "outputs": [
    {
     "data": {
      "text/html": [
       "<div>\n",
       "<style scoped>\n",
       "    .dataframe tbody tr th:only-of-type {\n",
       "        vertical-align: middle;\n",
       "    }\n",
       "\n",
       "    .dataframe tbody tr th {\n",
       "        vertical-align: top;\n",
       "    }\n",
       "\n",
       "    .dataframe thead th {\n",
       "        text-align: right;\n",
       "    }\n",
       "</style>\n",
       "<table border=\"1\" class=\"dataframe\">\n",
       "  <thead>\n",
       "    <tr style=\"text-align: right;\">\n",
       "      <th></th>\n",
       "      <th>Distance à 80%</th>\n",
       "    </tr>\n",
       "  </thead>\n",
       "  <tbody>\n",
       "    <tr>\n",
       "      <th>Model_5</th>\n",
       "      <td>3011.52</td>\n",
       "    </tr>\n",
       "    <tr>\n",
       "      <th>Model_7</th>\n",
       "      <td>3118.14</td>\n",
       "    </tr>\n",
       "    <tr>\n",
       "      <th>Model_3</th>\n",
       "      <td>3269.39</td>\n",
       "    </tr>\n",
       "    <tr>\n",
       "      <th>Model_2</th>\n",
       "      <td>3381.12</td>\n",
       "    </tr>\n",
       "    <tr>\n",
       "      <th>Model_6</th>\n",
       "      <td>4234.77</td>\n",
       "    </tr>\n",
       "    <tr>\n",
       "      <th>Model_1</th>\n",
       "      <td>6125.34</td>\n",
       "    </tr>\n",
       "    <tr>\n",
       "      <th>baseline</th>\n",
       "      <td>7985.89</td>\n",
       "    </tr>\n",
       "    <tr>\n",
       "      <th>Model_9</th>\n",
       "      <td>10012.1</td>\n",
       "    </tr>\n",
       "    <tr>\n",
       "      <th>Model_0</th>\n",
       "      <td>10647.3</td>\n",
       "    </tr>\n",
       "    <tr>\n",
       "      <th>Model_8</th>\n",
       "      <td>11766.9</td>\n",
       "    </tr>\n",
       "  </tbody>\n",
       "</table>\n",
       "</div>"
      ],
      "text/plain": [
       "         Distance à 80%\n",
       "Model_5         3011.52\n",
       "Model_7         3118.14\n",
       "Model_3         3269.39\n",
       "Model_2         3381.12\n",
       "Model_6         4234.77\n",
       "Model_1         6125.34\n",
       "baseline        7985.89\n",
       "Model_9         10012.1\n",
       "Model_0         10647.3\n",
       "Model_8         11766.9"
      ]
     },
     "execution_count": 65,
     "metadata": {},
     "output_type": "execute_result"
    }
   ],
   "source": [
    "n_model = 10\n",
    "list_model = [eval(f'Model_{i}') for i in np.arange(n_model)]\n",
    "list_model.append(baseline)\n",
    "index = [f'Model_{i}' for i in np.arange(n_model)]\n",
    "index.append('baseline')\n",
    "summary = pd.DataFrame(data=list_model,columns=['Distance à 80%'],index=index)\n",
    "summary.drop('Model_4').sort_values('Distance à 80%')"
   ]
  }
 ],
 "metadata": {
  "hide_input": false,
  "kernelspec": {
   "display_name": "Python 3",
   "language": "python",
   "name": "python3"
  },
  "language_info": {
   "codemirror_mode": {
    "name": "ipython",
    "version": 3
   },
   "file_extension": ".py",
   "mimetype": "text/x-python",
   "name": "python",
   "nbconvert_exporter": "python",
   "pygments_lexer": "ipython3",
   "version": "3.6.7"
  },
  "toc": {
   "base_numbering": 1,
   "nav_menu": {
    "height": "500px",
    "width": "358px"
   },
   "number_sections": true,
   "sideBar": true,
   "skip_h1_title": false,
   "title_cell": "Table of Contents",
   "title_sidebar": "Contents",
   "toc_cell": false,
   "toc_position": {
    "height": "calc(100% - 180px)",
    "left": "10px",
    "top": "150px",
    "width": "294.825px"
   },
   "toc_section_display": true,
   "toc_window_display": true
  },
  "varInspector": {
   "cols": {
    "lenName": 16,
    "lenType": 16,
    "lenVar": 40
   },
   "kernels_config": {
    "python": {
     "delete_cmd_postfix": "",
     "delete_cmd_prefix": "del ",
     "library": "var_list.py",
     "varRefreshCmd": "print(var_dic_list())"
    },
    "r": {
     "delete_cmd_postfix": ") ",
     "delete_cmd_prefix": "rm(",
     "library": "var_list.r",
     "varRefreshCmd": "cat(var_dic_list()) "
    }
   },
   "types_to_exclude": [
    "module",
    "function",
    "builtin_function_or_method",
    "instance",
    "_Feature"
   ],
   "window_display": false
  }
 },
 "nbformat": 4,
 "nbformat_minor": 1
}
