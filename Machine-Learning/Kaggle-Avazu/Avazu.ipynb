{
 "cells": [
  {
   "cell_type": "markdown",
   "metadata": {},
   "source": [
    "<h1><center>MDI343 / MDI724 - TP1 Avazu<center></h1>"
   ]
  },
  {
   "cell_type": "markdown",
   "metadata": {},
   "source": [
    "<font color=\"red\">**Question 0:**\n",
    "    Import the needed packages: numpy, pandas etc..\n",
    "</font>"
   ]
  },
  {
   "cell_type": "code",
   "execution_count": 111,
   "metadata": {
    "ExecuteTime": {
     "end_time": "2019-01-14T18:12:52.021055Z",
     "start_time": "2019-01-14T18:12:52.009393Z"
    }
   },
   "outputs": [],
   "source": [
    "import numpy as np\n",
    "import pandas as pd\n",
    "import matplotlib.pyplot as plt\n",
    "import seaborn as sns\n",
    "import datetime\n",
    "import warnings\n",
    "from joblib import dump, load\n",
    "warnings.filterwarnings(action='ignore')\n",
    "%matplotlib inline"
   ]
  },
  {
   "cell_type": "markdown",
   "metadata": {},
   "source": [
    "# The dataset"
   ]
  },
  {
   "cell_type": "markdown",
   "metadata": {},
   "source": [
    "<font color=\"red\">**Question 1:**\n",
    "    Load the data into a pandas DataFrame and display the first lines with the \".head()\" method.\n",
    "    <br>\n",
    "</font>\n",
    "**Remark**: the features meaning is available at https://www.kaggle.com/c/avazu-ctr-prediction/data"
   ]
  },
  {
   "cell_type": "code",
   "execution_count": 161,
   "metadata": {
    "ExecuteTime": {
     "end_time": "2019-01-14T18:26:26.836844Z",
     "start_time": "2019-01-14T18:26:21.133494Z"
    }
   },
   "outputs": [],
   "source": [
    "df = pd.read_csv('train-1000000')"
   ]
  },
  {
   "cell_type": "code",
   "execution_count": 113,
   "metadata": {
    "ExecuteTime": {
     "end_time": "2019-01-14T18:12:58.248670Z",
     "start_time": "2019-01-14T18:12:58.195560Z"
    }
   },
   "outputs": [
    {
     "data": {
      "text/html": [
       "<div>\n",
       "<style scoped>\n",
       "    .dataframe tbody tr th:only-of-type {\n",
       "        vertical-align: middle;\n",
       "    }\n",
       "\n",
       "    .dataframe tbody tr th {\n",
       "        vertical-align: top;\n",
       "    }\n",
       "\n",
       "    .dataframe thead th {\n",
       "        text-align: right;\n",
       "    }\n",
       "</style>\n",
       "<table border=\"1\" class=\"dataframe\">\n",
       "  <thead>\n",
       "    <tr style=\"text-align: right;\">\n",
       "      <th></th>\n",
       "      <th>id</th>\n",
       "      <th>click</th>\n",
       "      <th>hour</th>\n",
       "      <th>C1</th>\n",
       "      <th>banner_pos</th>\n",
       "      <th>site_id</th>\n",
       "      <th>site_domain</th>\n",
       "      <th>site_category</th>\n",
       "      <th>app_id</th>\n",
       "      <th>app_domain</th>\n",
       "      <th>...</th>\n",
       "      <th>device_type</th>\n",
       "      <th>device_conn_type</th>\n",
       "      <th>C14</th>\n",
       "      <th>C15</th>\n",
       "      <th>C16</th>\n",
       "      <th>C17</th>\n",
       "      <th>C18</th>\n",
       "      <th>C19</th>\n",
       "      <th>C20</th>\n",
       "      <th>C21</th>\n",
       "    </tr>\n",
       "  </thead>\n",
       "  <tbody>\n",
       "    <tr>\n",
       "      <th>0</th>\n",
       "      <td>3.983206e+18</td>\n",
       "      <td>0</td>\n",
       "      <td>14102915</td>\n",
       "      <td>1005</td>\n",
       "      <td>1</td>\n",
       "      <td>e151e245</td>\n",
       "      <td>7e091613</td>\n",
       "      <td>f028772b</td>\n",
       "      <td>ecad2386</td>\n",
       "      <td>7801e8d9</td>\n",
       "      <td>...</td>\n",
       "      <td>1</td>\n",
       "      <td>2</td>\n",
       "      <td>4687</td>\n",
       "      <td>320</td>\n",
       "      <td>50</td>\n",
       "      <td>423</td>\n",
       "      <td>2</td>\n",
       "      <td>39</td>\n",
       "      <td>100148</td>\n",
       "      <td>32</td>\n",
       "    </tr>\n",
       "    <tr>\n",
       "      <th>1</th>\n",
       "      <td>7.756884e+18</td>\n",
       "      <td>0</td>\n",
       "      <td>14103007</td>\n",
       "      <td>1002</td>\n",
       "      <td>0</td>\n",
       "      <td>cb809abf</td>\n",
       "      <td>74acf31a</td>\n",
       "      <td>50e219e0</td>\n",
       "      <td>ecad2386</td>\n",
       "      <td>7801e8d9</td>\n",
       "      <td>...</td>\n",
       "      <td>0</td>\n",
       "      <td>0</td>\n",
       "      <td>17894</td>\n",
       "      <td>320</td>\n",
       "      <td>50</td>\n",
       "      <td>2039</td>\n",
       "      <td>2</td>\n",
       "      <td>39</td>\n",
       "      <td>100077</td>\n",
       "      <td>32</td>\n",
       "    </tr>\n",
       "    <tr>\n",
       "      <th>2</th>\n",
       "      <td>6.941774e+17</td>\n",
       "      <td>0</td>\n",
       "      <td>14102711</td>\n",
       "      <td>1005</td>\n",
       "      <td>0</td>\n",
       "      <td>85f751fd</td>\n",
       "      <td>c4e18dd6</td>\n",
       "      <td>50e219e0</td>\n",
       "      <td>e9739828</td>\n",
       "      <td>df32afa9</td>\n",
       "      <td>...</td>\n",
       "      <td>1</td>\n",
       "      <td>0</td>\n",
       "      <td>22684</td>\n",
       "      <td>320</td>\n",
       "      <td>50</td>\n",
       "      <td>2619</td>\n",
       "      <td>1</td>\n",
       "      <td>163</td>\n",
       "      <td>100055</td>\n",
       "      <td>71</td>\n",
       "    </tr>\n",
       "    <tr>\n",
       "      <th>3</th>\n",
       "      <td>2.664154e+18</td>\n",
       "      <td>1</td>\n",
       "      <td>14102903</td>\n",
       "      <td>1005</td>\n",
       "      <td>0</td>\n",
       "      <td>85f751fd</td>\n",
       "      <td>c4e18dd6</td>\n",
       "      <td>50e219e0</td>\n",
       "      <td>a5184c22</td>\n",
       "      <td>b8d325c3</td>\n",
       "      <td>...</td>\n",
       "      <td>1</td>\n",
       "      <td>0</td>\n",
       "      <td>23222</td>\n",
       "      <td>320</td>\n",
       "      <td>50</td>\n",
       "      <td>2676</td>\n",
       "      <td>0</td>\n",
       "      <td>35</td>\n",
       "      <td>100176</td>\n",
       "      <td>221</td>\n",
       "    </tr>\n",
       "    <tr>\n",
       "      <th>4</th>\n",
       "      <td>1.480510e+19</td>\n",
       "      <td>0</td>\n",
       "      <td>14102902</td>\n",
       "      <td>1005</td>\n",
       "      <td>1</td>\n",
       "      <td>791b5571</td>\n",
       "      <td>fd13bc73</td>\n",
       "      <td>f028772b</td>\n",
       "      <td>ecad2386</td>\n",
       "      <td>7801e8d9</td>\n",
       "      <td>...</td>\n",
       "      <td>1</td>\n",
       "      <td>0</td>\n",
       "      <td>8330</td>\n",
       "      <td>320</td>\n",
       "      <td>50</td>\n",
       "      <td>761</td>\n",
       "      <td>3</td>\n",
       "      <td>175</td>\n",
       "      <td>100081</td>\n",
       "      <td>23</td>\n",
       "    </tr>\n",
       "    <tr>\n",
       "      <th>5</th>\n",
       "      <td>1.591127e+19</td>\n",
       "      <td>0</td>\n",
       "      <td>14102700</td>\n",
       "      <td>1005</td>\n",
       "      <td>0</td>\n",
       "      <td>85f751fd</td>\n",
       "      <td>c4e18dd6</td>\n",
       "      <td>50e219e0</td>\n",
       "      <td>febd1138</td>\n",
       "      <td>82e27996</td>\n",
       "      <td>...</td>\n",
       "      <td>1</td>\n",
       "      <td>0</td>\n",
       "      <td>21611</td>\n",
       "      <td>320</td>\n",
       "      <td>50</td>\n",
       "      <td>2480</td>\n",
       "      <td>3</td>\n",
       "      <td>297</td>\n",
       "      <td>100111</td>\n",
       "      <td>61</td>\n",
       "    </tr>\n",
       "    <tr>\n",
       "      <th>6</th>\n",
       "      <td>4.149473e+18</td>\n",
       "      <td>0</td>\n",
       "      <td>14102408</td>\n",
       "      <td>1010</td>\n",
       "      <td>1</td>\n",
       "      <td>85f751fd</td>\n",
       "      <td>c4e18dd6</td>\n",
       "      <td>50e219e0</td>\n",
       "      <td>03a08c3f</td>\n",
       "      <td>7801e8d9</td>\n",
       "      <td>...</td>\n",
       "      <td>4</td>\n",
       "      <td>3</td>\n",
       "      <td>15704</td>\n",
       "      <td>320</td>\n",
       "      <td>50</td>\n",
       "      <td>1722</td>\n",
       "      <td>0</td>\n",
       "      <td>35</td>\n",
       "      <td>100084</td>\n",
       "      <td>79</td>\n",
       "    </tr>\n",
       "    <tr>\n",
       "      <th>7</th>\n",
       "      <td>1.085379e+19</td>\n",
       "      <td>0</td>\n",
       "      <td>14102904</td>\n",
       "      <td>1005</td>\n",
       "      <td>0</td>\n",
       "      <td>85f751fd</td>\n",
       "      <td>c4e18dd6</td>\n",
       "      <td>50e219e0</td>\n",
       "      <td>a5184c22</td>\n",
       "      <td>b8d325c3</td>\n",
       "      <td>...</td>\n",
       "      <td>1</td>\n",
       "      <td>0</td>\n",
       "      <td>23224</td>\n",
       "      <td>320</td>\n",
       "      <td>50</td>\n",
       "      <td>2676</td>\n",
       "      <td>0</td>\n",
       "      <td>35</td>\n",
       "      <td>100176</td>\n",
       "      <td>221</td>\n",
       "    </tr>\n",
       "    <tr>\n",
       "      <th>8</th>\n",
       "      <td>2.629918e+18</td>\n",
       "      <td>0</td>\n",
       "      <td>14102513</td>\n",
       "      <td>1010</td>\n",
       "      <td>1</td>\n",
       "      <td>85f751fd</td>\n",
       "      <td>c4e18dd6</td>\n",
       "      <td>50e219e0</td>\n",
       "      <td>8486dd4e</td>\n",
       "      <td>7801e8d9</td>\n",
       "      <td>...</td>\n",
       "      <td>4</td>\n",
       "      <td>0</td>\n",
       "      <td>17875</td>\n",
       "      <td>320</td>\n",
       "      <td>50</td>\n",
       "      <td>2036</td>\n",
       "      <td>3</td>\n",
       "      <td>47</td>\n",
       "      <td>-1</td>\n",
       "      <td>156</td>\n",
       "    </tr>\n",
       "    <tr>\n",
       "      <th>9</th>\n",
       "      <td>1.419062e+19</td>\n",
       "      <td>0</td>\n",
       "      <td>14102600</td>\n",
       "      <td>1010</td>\n",
       "      <td>1</td>\n",
       "      <td>85f751fd</td>\n",
       "      <td>c4e18dd6</td>\n",
       "      <td>50e219e0</td>\n",
       "      <td>04f2be5f</td>\n",
       "      <td>7801e8d9</td>\n",
       "      <td>...</td>\n",
       "      <td>4</td>\n",
       "      <td>3</td>\n",
       "      <td>22552</td>\n",
       "      <td>320</td>\n",
       "      <td>50</td>\n",
       "      <td>2602</td>\n",
       "      <td>0</td>\n",
       "      <td>163</td>\n",
       "      <td>100084</td>\n",
       "      <td>182</td>\n",
       "    </tr>\n",
       "  </tbody>\n",
       "</table>\n",
       "<p>10 rows × 24 columns</p>\n",
       "</div>"
      ],
      "text/plain": [
       "             id  click      hour    C1  banner_pos   site_id site_domain  \\\n",
       "0  3.983206e+18      0  14102915  1005           1  e151e245    7e091613   \n",
       "1  7.756884e+18      0  14103007  1002           0  cb809abf    74acf31a   \n",
       "2  6.941774e+17      0  14102711  1005           0  85f751fd    c4e18dd6   \n",
       "3  2.664154e+18      1  14102903  1005           0  85f751fd    c4e18dd6   \n",
       "4  1.480510e+19      0  14102902  1005           1  791b5571    fd13bc73   \n",
       "5  1.591127e+19      0  14102700  1005           0  85f751fd    c4e18dd6   \n",
       "6  4.149473e+18      0  14102408  1010           1  85f751fd    c4e18dd6   \n",
       "7  1.085379e+19      0  14102904  1005           0  85f751fd    c4e18dd6   \n",
       "8  2.629918e+18      0  14102513  1010           1  85f751fd    c4e18dd6   \n",
       "9  1.419062e+19      0  14102600  1010           1  85f751fd    c4e18dd6   \n",
       "\n",
       "  site_category    app_id app_domain ...  device_type device_conn_type    C14  \\\n",
       "0      f028772b  ecad2386   7801e8d9 ...            1                2   4687   \n",
       "1      50e219e0  ecad2386   7801e8d9 ...            0                0  17894   \n",
       "2      50e219e0  e9739828   df32afa9 ...            1                0  22684   \n",
       "3      50e219e0  a5184c22   b8d325c3 ...            1                0  23222   \n",
       "4      f028772b  ecad2386   7801e8d9 ...            1                0   8330   \n",
       "5      50e219e0  febd1138   82e27996 ...            1                0  21611   \n",
       "6      50e219e0  03a08c3f   7801e8d9 ...            4                3  15704   \n",
       "7      50e219e0  a5184c22   b8d325c3 ...            1                0  23224   \n",
       "8      50e219e0  8486dd4e   7801e8d9 ...            4                0  17875   \n",
       "9      50e219e0  04f2be5f   7801e8d9 ...            4                3  22552   \n",
       "\n",
       "   C15  C16   C17  C18  C19     C20  C21  \n",
       "0  320   50   423    2   39  100148   32  \n",
       "1  320   50  2039    2   39  100077   32  \n",
       "2  320   50  2619    1  163  100055   71  \n",
       "3  320   50  2676    0   35  100176  221  \n",
       "4  320   50   761    3  175  100081   23  \n",
       "5  320   50  2480    3  297  100111   61  \n",
       "6  320   50  1722    0   35  100084   79  \n",
       "7  320   50  2676    0   35  100176  221  \n",
       "8  320   50  2036    3   47      -1  156  \n",
       "9  320   50  2602    0  163  100084  182  \n",
       "\n",
       "[10 rows x 24 columns]"
      ]
     },
     "execution_count": 113,
     "metadata": {},
     "output_type": "execute_result"
    }
   ],
   "source": [
    "df.head(10)"
   ]
  },
  {
   "cell_type": "markdown",
   "metadata": {},
   "source": [
    "<font color=\"red\">**Question 2:**\n",
    "    What is the 'click' frequency in the dataset?\n",
    "    <br>\n",
    "</font>"
   ]
  },
  {
   "cell_type": "code",
   "execution_count": 114,
   "metadata": {
    "ExecuteTime": {
     "end_time": "2019-01-14T18:12:58.264029Z",
     "start_time": "2019-01-14T18:12:58.253948Z"
    }
   },
   "outputs": [
    {
     "name": "stdout",
     "output_type": "stream",
     "text": [
      "La frequence moyenne de click est 0.16997\n"
     ]
    }
   ],
   "source": [
    "freq = df.click.mean()\n",
    "print(f'La frequence moyenne de click est {freq:.5f}')\n"
   ]
  },
  {
   "cell_type": "markdown",
   "metadata": {},
   "source": [
    "We note that the Avazu dataset is very unbalanced. The 'click' class represents less than a fifth of the whole database. We already know that a classifier always predicting 'click'=0 will have good preformances in terms of error rate (around 0.17). The ROC and lift curves will be better performance metrics."
   ]
  },
  {
   "cell_type": "markdown",
   "metadata": {},
   "source": [
    "<font color=\"red\">**Question 3:**\n",
    "    What are the categorical features? Using the 'df.dtypes' method, compute the number of distincts values for each of these features.\n",
    "</font>"
   ]
  },
  {
   "cell_type": "code",
   "execution_count": 115,
   "metadata": {
    "ExecuteTime": {
     "end_time": "2019-01-14T18:12:58.276837Z",
     "start_time": "2019-01-14T18:12:58.267418Z"
    }
   },
   "outputs": [
    {
     "name": "stdout",
     "output_type": "stream",
     "text": [
      "id                  float64\n",
      "click                 int64\n",
      "hour                  int64\n",
      "C1                    int64\n",
      "banner_pos            int64\n",
      "site_id              object\n",
      "site_domain          object\n",
      "site_category        object\n",
      "app_id               object\n",
      "app_domain           object\n",
      "app_category         object\n",
      "device_id            object\n",
      "device_ip            object\n",
      "device_model         object\n",
      "device_type           int64\n",
      "device_conn_type      int64\n",
      "C14                   int64\n",
      "C15                   int64\n",
      "C16                   int64\n",
      "C17                   int64\n",
      "C18                   int64\n",
      "C19                   int64\n",
      "C20                   int64\n",
      "C21                   int64\n",
      "dtype: object\n"
     ]
    }
   ],
   "source": [
    "print(df.dtypes)"
   ]
  },
  {
   "cell_type": "code",
   "execution_count": 116,
   "metadata": {
    "ExecuteTime": {
     "end_time": "2019-01-14T18:13:05.570292Z",
     "start_time": "2019-01-14T18:12:58.281891Z"
    },
    "scrolled": true
   },
   "outputs": [
    {
     "data": {
      "text/plain": [
       "id                  1000000\n",
       "click                     2\n",
       "hour                    240\n",
       "C1                        7\n",
       "banner_pos                7\n",
       "site_id                2651\n",
       "site_domain            2871\n",
       "site_category            22\n",
       "app_id                 3157\n",
       "app_domain              198\n",
       "app_category             26\n",
       "device_id            150501\n",
       "device_ip            555248\n",
       "device_model           5168\n",
       "device_type               5\n",
       "device_conn_type          4\n",
       "C14                    2243\n",
       "C15                       8\n",
       "C16                       9\n",
       "C17                     420\n",
       "C18                       4\n",
       "C19                      66\n",
       "C20                     163\n",
       "C21                      60\n",
       "dtype: int64"
      ]
     },
     "execution_count": 116,
     "metadata": {},
     "output_type": "execute_result"
    }
   ],
   "source": [
    "df.nunique()"
   ]
  },
  {
   "cell_type": "code",
   "execution_count": 117,
   "metadata": {
    "ExecuteTime": {
     "end_time": "2019-01-14T18:13:06.564133Z",
     "start_time": "2019-01-14T18:13:05.574288Z"
    }
   },
   "outputs": [
    {
     "name": "stdout",
     "output_type": "stream",
     "text": [
      "id 1000000\n",
      "click 2\n",
      "hour 240\n",
      "C1 7\n",
      "banner_pos 7\n",
      "site_id 2651\n",
      "site_domain 2871\n",
      "site_category 22\n",
      "app_id 3157\n",
      "app_domain 198\n",
      "app_category 26\n",
      "device_id 150501\n",
      "device_ip 555248\n",
      "device_model 5168\n",
      "device_type 5\n",
      "device_conn_type 4\n",
      "C14 2243\n",
      "C15 8\n",
      "C16 9\n",
      "C17 420\n",
      "C18 4\n",
      "C19 66\n",
      "C20 163\n",
      "C21 60\n"
     ]
    }
   ],
   "source": [
    "# Version plus rapide en temps d'execution\n",
    "for column in df.columns:\n",
    "    print(f\"{column} {len(df[column].unique())}\")"
   ]
  },
  {
   "cell_type": "markdown",
   "metadata": {},
   "source": [
    "Quasiment toutes des features sont catégorielles. Seule l'heure peut être considéré comme continue."
   ]
  },
  {
   "cell_type": "markdown",
   "metadata": {},
   "source": [
    "<font color=\"red\">**Question 4:**\n",
    "    If one does a dummy encoding of all categorical variables, what would be the dimension of the model?\n",
    "    In other words: what would be the dimension of our big feature vector encoded with dummies. \n",
    "    <br>\n",
    "</font>"
   ]
  },
  {
   "cell_type": "code",
   "execution_count": 118,
   "metadata": {
    "ExecuteTime": {
     "end_time": "2019-01-14T18:13:13.969474Z",
     "start_time": "2019-01-14T18:13:06.570321Z"
    }
   },
   "outputs": [
    {
     "name": "stdout",
     "output_type": "stream",
     "text": [
      "The size of the dummy encoding would be 723080, which is a lot of features !\n"
     ]
    }
   ],
   "source": [
    "dummy_size = df.nunique().sum()-df.id.count()\n",
    "print(f'The size of the dummy encoding would be {dummy_size}, which is a lot of features !')"
   ]
  },
  {
   "cell_type": "markdown",
   "metadata": {},
   "source": [
    "<font color=\"red\">**Question 5:**\n",
    "    Analyze the 'hour' column: which format is used? How can we transform/simply this feature?\n",
    "</font>"
   ]
  },
  {
   "cell_type": "code",
   "execution_count": 119,
   "metadata": {
    "ExecuteTime": {
     "end_time": "2019-01-14T18:13:13.986389Z",
     "start_time": "2019-01-14T18:13:13.977336Z"
    },
    "scrolled": false
   },
   "outputs": [
    {
     "name": "stdout",
     "output_type": "stream",
     "text": [
      "0    14102915\n",
      "1    14103007\n",
      "2    14102711\n",
      "3    14102903\n",
      "4    14102902\n",
      "Name: hour, dtype: int64\n",
      "\n",
      "999995    14102602\n",
      "999996    14102101\n",
      "999997    14102318\n",
      "999998    14102908\n",
      "999999    14102600\n",
      "Name: hour, dtype: int64\n"
     ]
    }
   ],
   "source": [
    "print(df['hour'].head()) # Fill here\n",
    "print()\n",
    "print(df['hour'].tail()) # Fill here"
   ]
  },
  {
   "cell_type": "markdown",
   "metadata": {},
   "source": [
    "On pourrait extraire uniquement le jour de la semaine et l'heure à laquelle on observe. Toutes ses observations se déroulent sur le même mois. L'année (2014), et le mois (octobre) ne nous servent qu'à obtenir spécifiquement le jour de la semaine."
   ]
  },
  {
   "cell_type": "markdown",
   "metadata": {},
   "source": [
    "<font color=\"red\">**Question 6:**\n",
    "    Run and understand the following script.\n",
    "</font>"
   ]
  },
  {
   "cell_type": "code",
   "execution_count": 120,
   "metadata": {
    "ExecuteTime": {
     "end_time": "2019-01-14T18:13:14.006330Z",
     "start_time": "2019-01-14T18:13:13.990471Z"
    }
   },
   "outputs": [
    {
     "data": {
      "text/plain": [
       "(2, 15)"
      ]
     },
     "execution_count": 120,
     "metadata": {},
     "output_type": "execute_result"
    }
   ],
   "source": [
    "import datetime\n",
    "def datesplit(originalDate):\n",
    "    originalDate = str(originalDate)\n",
    "    \n",
    "    year = int(\"20\" + originalDate[0:2])\n",
    "    month = int(originalDate[2:4])\n",
    "    day = int(originalDate[4:6])\n",
    "    hour = int(originalDate[6:8])\n",
    "    \n",
    "    return datetime.datetime(year, month, day, hour)\n",
    "\n",
    "# Exemple :\n",
    "datesplit(14102915).weekday(), datesplit(14102915).hour"
   ]
  },
  {
   "cell_type": "code",
   "execution_count": 121,
   "metadata": {
    "ExecuteTime": {
     "end_time": "2019-01-14T18:13:14.022044Z",
     "start_time": "2019-01-14T18:13:14.010683Z"
    }
   },
   "outputs": [
    {
     "data": {
      "text/plain": [
       "6"
      ]
     },
     "execution_count": 121,
     "metadata": {},
     "output_type": "execute_result"
    }
   ],
   "source": [
    "datesplit(19011315).weekday()"
   ]
  },
  {
   "cell_type": "raw",
   "metadata": {},
   "source": [
    "La fonction datesplit va splitter la date donnée en paramètre et appliquer l'API datetime afin de convertir les élements de la date en une forme plus exploitable. ex: : datetime.datetime(14,10,29,15) affiche \"{datesplit(14102915)}\"\n",
    "\n",
    "Cela nous permettra de faire exactement ce que nous avons décrit précedemment."
   ]
  },
  {
   "cell_type": "markdown",
   "metadata": {},
   "source": [
    "<font color=\"red\">**Question 7:**\n",
    "    Using the \".apply( ... )\" method, create a 'weekday' for the day of the week. Then, replace the 'hour' column by the hour.\n",
    "</font>"
   ]
  },
  {
   "cell_type": "markdown",
   "metadata": {},
   "source": [
    "To answer this question you have to understand that applies takes a function as argument\n",
    "<br>\n",
    "\"lambda x: ... \" is used to create local unamed function of x\n",
    "<br>\n",
    "Check the documentation: https://docs.python.org/3/tutorial/controlflow.html#lambda-expressions"
   ]
  },
  {
   "cell_type": "code",
   "execution_count": 162,
   "metadata": {
    "ExecuteTime": {
     "end_time": "2019-01-14T18:26:49.048567Z",
     "start_time": "2019-01-14T18:26:42.597964Z"
    },
    "scrolled": true
   },
   "outputs": [],
   "source": [
    "df['weekday'] = df.hour.apply(lambda x: datesplit(x).weekday())\n",
    "df['hour'] = df.hour.apply(lambda x: datesplit(x).hour)"
   ]
  },
  {
   "cell_type": "code",
   "execution_count": 123,
   "metadata": {
    "ExecuteTime": {
     "end_time": "2019-01-14T18:13:21.422106Z",
     "start_time": "2019-01-14T18:13:21.382545Z"
    }
   },
   "outputs": [
    {
     "data": {
      "text/html": [
       "<div>\n",
       "<style scoped>\n",
       "    .dataframe tbody tr th:only-of-type {\n",
       "        vertical-align: middle;\n",
       "    }\n",
       "\n",
       "    .dataframe tbody tr th {\n",
       "        vertical-align: top;\n",
       "    }\n",
       "\n",
       "    .dataframe thead th {\n",
       "        text-align: right;\n",
       "    }\n",
       "</style>\n",
       "<table border=\"1\" class=\"dataframe\">\n",
       "  <thead>\n",
       "    <tr style=\"text-align: right;\">\n",
       "      <th></th>\n",
       "      <th>id</th>\n",
       "      <th>click</th>\n",
       "      <th>hour</th>\n",
       "      <th>C1</th>\n",
       "      <th>banner_pos</th>\n",
       "      <th>site_id</th>\n",
       "      <th>site_domain</th>\n",
       "      <th>site_category</th>\n",
       "      <th>app_id</th>\n",
       "      <th>app_domain</th>\n",
       "      <th>...</th>\n",
       "      <th>device_conn_type</th>\n",
       "      <th>C14</th>\n",
       "      <th>C15</th>\n",
       "      <th>C16</th>\n",
       "      <th>C17</th>\n",
       "      <th>C18</th>\n",
       "      <th>C19</th>\n",
       "      <th>C20</th>\n",
       "      <th>C21</th>\n",
       "      <th>weekday</th>\n",
       "    </tr>\n",
       "  </thead>\n",
       "  <tbody>\n",
       "    <tr>\n",
       "      <th>0</th>\n",
       "      <td>3.983206e+18</td>\n",
       "      <td>0</td>\n",
       "      <td>15</td>\n",
       "      <td>1005</td>\n",
       "      <td>1</td>\n",
       "      <td>e151e245</td>\n",
       "      <td>7e091613</td>\n",
       "      <td>f028772b</td>\n",
       "      <td>ecad2386</td>\n",
       "      <td>7801e8d9</td>\n",
       "      <td>...</td>\n",
       "      <td>2</td>\n",
       "      <td>4687</td>\n",
       "      <td>320</td>\n",
       "      <td>50</td>\n",
       "      <td>423</td>\n",
       "      <td>2</td>\n",
       "      <td>39</td>\n",
       "      <td>100148</td>\n",
       "      <td>32</td>\n",
       "      <td>2</td>\n",
       "    </tr>\n",
       "    <tr>\n",
       "      <th>1</th>\n",
       "      <td>7.756884e+18</td>\n",
       "      <td>0</td>\n",
       "      <td>7</td>\n",
       "      <td>1002</td>\n",
       "      <td>0</td>\n",
       "      <td>cb809abf</td>\n",
       "      <td>74acf31a</td>\n",
       "      <td>50e219e0</td>\n",
       "      <td>ecad2386</td>\n",
       "      <td>7801e8d9</td>\n",
       "      <td>...</td>\n",
       "      <td>0</td>\n",
       "      <td>17894</td>\n",
       "      <td>320</td>\n",
       "      <td>50</td>\n",
       "      <td>2039</td>\n",
       "      <td>2</td>\n",
       "      <td>39</td>\n",
       "      <td>100077</td>\n",
       "      <td>32</td>\n",
       "      <td>3</td>\n",
       "    </tr>\n",
       "    <tr>\n",
       "      <th>2</th>\n",
       "      <td>6.941774e+17</td>\n",
       "      <td>0</td>\n",
       "      <td>11</td>\n",
       "      <td>1005</td>\n",
       "      <td>0</td>\n",
       "      <td>85f751fd</td>\n",
       "      <td>c4e18dd6</td>\n",
       "      <td>50e219e0</td>\n",
       "      <td>e9739828</td>\n",
       "      <td>df32afa9</td>\n",
       "      <td>...</td>\n",
       "      <td>0</td>\n",
       "      <td>22684</td>\n",
       "      <td>320</td>\n",
       "      <td>50</td>\n",
       "      <td>2619</td>\n",
       "      <td>1</td>\n",
       "      <td>163</td>\n",
       "      <td>100055</td>\n",
       "      <td>71</td>\n",
       "      <td>0</td>\n",
       "    </tr>\n",
       "    <tr>\n",
       "      <th>3</th>\n",
       "      <td>2.664154e+18</td>\n",
       "      <td>1</td>\n",
       "      <td>3</td>\n",
       "      <td>1005</td>\n",
       "      <td>0</td>\n",
       "      <td>85f751fd</td>\n",
       "      <td>c4e18dd6</td>\n",
       "      <td>50e219e0</td>\n",
       "      <td>a5184c22</td>\n",
       "      <td>b8d325c3</td>\n",
       "      <td>...</td>\n",
       "      <td>0</td>\n",
       "      <td>23222</td>\n",
       "      <td>320</td>\n",
       "      <td>50</td>\n",
       "      <td>2676</td>\n",
       "      <td>0</td>\n",
       "      <td>35</td>\n",
       "      <td>100176</td>\n",
       "      <td>221</td>\n",
       "      <td>2</td>\n",
       "    </tr>\n",
       "    <tr>\n",
       "      <th>4</th>\n",
       "      <td>1.480510e+19</td>\n",
       "      <td>0</td>\n",
       "      <td>2</td>\n",
       "      <td>1005</td>\n",
       "      <td>1</td>\n",
       "      <td>791b5571</td>\n",
       "      <td>fd13bc73</td>\n",
       "      <td>f028772b</td>\n",
       "      <td>ecad2386</td>\n",
       "      <td>7801e8d9</td>\n",
       "      <td>...</td>\n",
       "      <td>0</td>\n",
       "      <td>8330</td>\n",
       "      <td>320</td>\n",
       "      <td>50</td>\n",
       "      <td>761</td>\n",
       "      <td>3</td>\n",
       "      <td>175</td>\n",
       "      <td>100081</td>\n",
       "      <td>23</td>\n",
       "      <td>2</td>\n",
       "    </tr>\n",
       "  </tbody>\n",
       "</table>\n",
       "<p>5 rows × 25 columns</p>\n",
       "</div>"
      ],
      "text/plain": [
       "             id  click  hour    C1  banner_pos   site_id site_domain  \\\n",
       "0  3.983206e+18      0    15  1005           1  e151e245    7e091613   \n",
       "1  7.756884e+18      0     7  1002           0  cb809abf    74acf31a   \n",
       "2  6.941774e+17      0    11  1005           0  85f751fd    c4e18dd6   \n",
       "3  2.664154e+18      1     3  1005           0  85f751fd    c4e18dd6   \n",
       "4  1.480510e+19      0     2  1005           1  791b5571    fd13bc73   \n",
       "\n",
       "  site_category    app_id app_domain   ...    device_conn_type    C14  C15  \\\n",
       "0      f028772b  ecad2386   7801e8d9   ...                   2   4687  320   \n",
       "1      50e219e0  ecad2386   7801e8d9   ...                   0  17894  320   \n",
       "2      50e219e0  e9739828   df32afa9   ...                   0  22684  320   \n",
       "3      50e219e0  a5184c22   b8d325c3   ...                   0  23222  320   \n",
       "4      f028772b  ecad2386   7801e8d9   ...                   0   8330  320   \n",
       "\n",
       "  C16   C17  C18  C19     C20  C21  weekday  \n",
       "0  50   423    2   39  100148   32        2  \n",
       "1  50  2039    2   39  100077   32        3  \n",
       "2  50  2619    1  163  100055   71        0  \n",
       "3  50  2676    0   35  100176  221        2  \n",
       "4  50   761    3  175  100081   23        2  \n",
       "\n",
       "[5 rows x 25 columns]"
      ]
     },
     "execution_count": 123,
     "metadata": {},
     "output_type": "execute_result"
    }
   ],
   "source": [
    "df.head()"
   ]
  },
  {
   "cell_type": "markdown",
   "metadata": {},
   "source": [
    "<font color=\"red\">**Question 8:**\n",
    "    Using the \".groupby( ... )\" method, visualize the influence of the hour and of the day on the 'click' frequency. To do so, plot 'click' vs 'hour' and 'click' vs 'weekday' curves.\n",
    "</font>"
   ]
  },
  {
   "cell_type": "code",
   "execution_count": 124,
   "metadata": {
    "ExecuteTime": {
     "end_time": "2019-01-14T18:13:21.668818Z",
     "start_time": "2019-01-14T18:13:21.425584Z"
    }
   },
   "outputs": [
    {
     "name": "stdout",
     "output_type": "stream",
     "text": [
      "hour\n",
      "0     0.182707\n",
      "1     0.185734\n",
      "2     0.175552\n",
      "3     0.175367\n",
      "4     0.159664\n",
      "5     0.162126\n",
      "6     0.169315\n",
      "7     0.177490\n",
      "8     0.163418\n",
      "9     0.159042\n",
      "10    0.162613\n",
      "11    0.171025\n",
      "12    0.171659\n",
      "13    0.168032\n",
      "14    0.178075\n",
      "15    0.183737\n",
      "16    0.180076\n",
      "17    0.173271\n",
      "18    0.164072\n",
      "19    0.165725\n",
      "20    0.158402\n",
      "21    0.162384\n",
      "22    0.166847\n",
      "23    0.170733\n",
      "Name: click, dtype: float64\n",
      "\n",
      "weekday\n",
      "0    0.183143\n",
      "1    0.161577\n",
      "2    0.158675\n",
      "3    0.173795\n",
      "4    0.173392\n",
      "5    0.183995\n",
      "6    0.183105\n",
      "Name: click, dtype: float64\n"
     ]
    }
   ],
   "source": [
    "print(df.groupby('hour')['click'].mean())\n",
    "print()\n",
    "print(df.groupby('weekday')['click'].mean())"
   ]
  },
  {
   "cell_type": "code",
   "execution_count": 125,
   "metadata": {
    "ExecuteTime": {
     "end_time": "2019-01-14T18:13:22.178009Z",
     "start_time": "2019-01-14T18:13:21.672276Z"
    }
   },
   "outputs": [
    {
     "data": {
      "image/png": "[encoded data removed]",
      "text/plain": [
       "<Figure size 432x288 with 1 Axes>"
      ]
     },
     "metadata": {
      "needs_background": "light"
     },
     "output_type": "display_data"
    }
   ],
   "source": [
    "df.groupby('hour')['click'].mean().plot.bar() #Fill here for the influence of the hour\n",
    "plt.xlabel('hour')\n",
    "plt.ylabel('clicks mean')\n",
    "plt.draw()"
   ]
  },
  {
   "cell_type": "code",
   "execution_count": 126,
   "metadata": {
    "ExecuteTime": {
     "end_time": "2019-01-14T18:13:22.542676Z",
     "start_time": "2019-01-14T18:13:22.181262Z"
    }
   },
   "outputs": [
    {
     "data": {
      "image/png": "[encoded data removed]",
      "text/plain": [
       "<Figure size 432x288 with 1 Axes>"
      ]
     },
     "metadata": {
      "needs_background": "light"
     },
     "output_type": "display_data"
    }
   ],
   "source": [
    "df.groupby('weekday')['click'].mean().plot.bar() # Fill here for the influence of the day\n",
    "plt.xlabel('weekday')\n",
    "plt.ylabel('clicks mean')\n",
    "plt.draw()"
   ]
  },
  {
   "cell_type": "markdown",
   "metadata": {},
   "source": [
    "<font color=\"red\">**Question 9:**\n",
    "    Explain what the axes stand for and try to interpret the shape of the obtained curves.\n",
    "</font>"
   ]
  },
  {
   "cell_type": "markdown",
   "metadata": {},
   "source": [
    "L'ordonnée représente la fréquence des clics en fonction de l'abscisse qui est, dasn un premier temps, les différentes heures de la journée, puis les jours de la semaine (0 étant le lundi, 1 : mardi ... 6: dimanche).\n",
    "\n",
    "On constate que les jour où les gens cliquent le plus sont le lundi, le samedi et le dimanche, et mardi et mercredi sont les jours où il y en a moins."
   ]
  },
  {
   "cell_type": "markdown",
   "metadata": {},
   "source": [
    "# Preliminary work and first model"
   ]
  },
  {
   "cell_type": "markdown",
   "metadata": {},
   "source": [
    "Start by understanding the features with few modalities:\n",
    "'hour', 'weekday', 'C1', 'banner_pos', 'site_category', 'app_category', 'device_type', 'device_conn_type', 'C15', 'C16', 'C18', 'C21'."
   ]
  },
  {
   "cell_type": "markdown",
   "metadata": {},
   "source": [
    "<font color=\"red\">**Question 10:**\n",
    "    For instance, inspect the columns 'C15' (dimension of the advert) and 'site_category': visualize the clicks mean.\n",
    "</font>"
   ]
  },
  {
   "cell_type": "code",
   "execution_count": 127,
   "metadata": {
    "ExecuteTime": {
     "end_time": "2019-01-14T18:13:22.869412Z",
     "start_time": "2019-01-14T18:13:22.545928Z"
    }
   },
   "outputs": [
    {
     "data": {
      "image/png": "[encoded data removed]",
      "text/plain": [
       "<Figure size 432x288 with 1 Axes>"
      ]
     },
     "metadata": {
      "needs_background": "light"
     },
     "output_type": "display_data"
    }
   ],
   "source": [
    "df.groupby('C15')['click'].mean().plot.bar() # Fill here: inspect 'C15' using '.groupby'\n",
    "plt.title(\"Click frequency per Advertising Size\")\n",
    "plt.xlabel(\"Advertising size\")\n",
    "plt.show()"
   ]
  },
  {
   "cell_type": "code",
   "execution_count": 128,
   "metadata": {
    "ExecuteTime": {
     "end_time": "2019-01-14T18:13:23.511885Z",
     "start_time": "2019-01-14T18:13:22.873914Z"
    },
    "scrolled": true
   },
   "outputs": [
    {
     "data": {
      "image/png": "[encoded data removed]",
      "text/plain": [
       "<Figure size 432x288 with 1 Axes>"
      ]
     },
     "metadata": {
      "needs_background": "light"
     },
     "output_type": "display_data"
    }
   ],
   "source": [
    "df.groupby('site_category')['click'].mean().plot.bar() # Fill here: inspect 'site_category' using '.groupby'\n",
    "plt.xlabel('site category')\n",
    "plt.ylabel('clicks mean')\n",
    "plt.draw()"
   ]
  },
  {
   "cell_type": "markdown",
   "metadata": {},
   "source": [
    "On remarquera que certaines catégories de site reçoivent beaucoup plus de clics que d'autre. Certains n'ont même pas de clics."
   ]
  },
  {
   "cell_type": "markdown",
   "metadata": {},
   "source": [
    "<font color=\"red\">**Question 11:**\n",
    "    Some site categories have a null click rate. Why? Display the 'count()' of each modality.\n",
    "    <br><br>\n",
    "    Hint: you can use the method \".value_counts()\"\n",
    "</font>"
   ]
  },
  {
   "cell_type": "code",
   "execution_count": 129,
   "metadata": {
    "ExecuteTime": {
     "end_time": "2019-01-14T18:13:23.766579Z",
     "start_time": "2019-01-14T18:13:23.517960Z"
    }
   },
   "outputs": [
    {
     "data": {
      "text/html": [
       "<div>\n",
       "<style scoped>\n",
       "    .dataframe tbody tr th:only-of-type {\n",
       "        vertical-align: middle;\n",
       "    }\n",
       "\n",
       "    .dataframe tbody tr th {\n",
       "        vertical-align: top;\n",
       "    }\n",
       "\n",
       "    .dataframe thead th {\n",
       "        text-align: right;\n",
       "    }\n",
       "</style>\n",
       "<table border=\"1\" class=\"dataframe\">\n",
       "  <thead>\n",
       "    <tr style=\"text-align: right;\">\n",
       "      <th></th>\n",
       "      <th>sum click</th>\n",
       "      <th>sum print</th>\n",
       "    </tr>\n",
       "  </thead>\n",
       "  <tbody>\n",
       "    <tr>\n",
       "      <th>f028772b</th>\n",
       "      <td>56313</td>\n",
       "      <td>313339</td>\n",
       "    </tr>\n",
       "    <tr>\n",
       "      <th>50e219e0</th>\n",
       "      <td>52586</td>\n",
       "      <td>408921</td>\n",
       "    </tr>\n",
       "    <tr>\n",
       "      <th>28905ebd</th>\n",
       "      <td>37874</td>\n",
       "      <td>182020</td>\n",
       "    </tr>\n",
       "    <tr>\n",
       "      <th>3e814130</th>\n",
       "      <td>21508</td>\n",
       "      <td>75667</td>\n",
       "    </tr>\n",
       "    <tr>\n",
       "      <th>75fa27f6</th>\n",
       "      <td>446</td>\n",
       "      <td>4007</td>\n",
       "    </tr>\n",
       "    <tr>\n",
       "      <th>dedf689d</th>\n",
       "      <td>331</td>\n",
       "      <td>624</td>\n",
       "    </tr>\n",
       "    <tr>\n",
       "      <th>335d28a8</th>\n",
       "      <td>301</td>\n",
       "      <td>3351</td>\n",
       "    </tr>\n",
       "    <tr>\n",
       "      <th>f66779e6</th>\n",
       "      <td>220</td>\n",
       "      <td>6365</td>\n",
       "    </tr>\n",
       "    <tr>\n",
       "      <th>c0dd3be3</th>\n",
       "      <td>132</td>\n",
       "      <td>1026</td>\n",
       "    </tr>\n",
       "    <tr>\n",
       "      <th>76b2941d</th>\n",
       "      <td>92</td>\n",
       "      <td>2573</td>\n",
       "    </tr>\n",
       "    <tr>\n",
       "      <th>70fb0e29</th>\n",
       "      <td>88</td>\n",
       "      <td>608</td>\n",
       "    </tr>\n",
       "    <tr>\n",
       "      <th>72722551</th>\n",
       "      <td>40</td>\n",
       "      <td>676</td>\n",
       "    </tr>\n",
       "    <tr>\n",
       "      <th>0569f928</th>\n",
       "      <td>23</td>\n",
       "      <td>429</td>\n",
       "    </tr>\n",
       "    <tr>\n",
       "      <th>42a36e14</th>\n",
       "      <td>14</td>\n",
       "      <td>62</td>\n",
       "    </tr>\n",
       "    <tr>\n",
       "      <th>8fd0aea4</th>\n",
       "      <td>3</td>\n",
       "      <td>189</td>\n",
       "    </tr>\n",
       "    <tr>\n",
       "      <th>9ccfa2ea</th>\n",
       "      <td>0</td>\n",
       "      <td>5</td>\n",
       "    </tr>\n",
       "    <tr>\n",
       "      <th>a818d37a</th>\n",
       "      <td>0</td>\n",
       "      <td>81</td>\n",
       "    </tr>\n",
       "    <tr>\n",
       "      <th>5378d028</th>\n",
       "      <td>0</td>\n",
       "      <td>11</td>\n",
       "    </tr>\n",
       "    <tr>\n",
       "      <th>bcf865d9</th>\n",
       "      <td>0</td>\n",
       "      <td>16</td>\n",
       "    </tr>\n",
       "    <tr>\n",
       "      <th>c706e647</th>\n",
       "      <td>0</td>\n",
       "      <td>1</td>\n",
       "    </tr>\n",
       "    <tr>\n",
       "      <th>da34532e</th>\n",
       "      <td>0</td>\n",
       "      <td>1</td>\n",
       "    </tr>\n",
       "    <tr>\n",
       "      <th>e787de0e</th>\n",
       "      <td>0</td>\n",
       "      <td>28</td>\n",
       "    </tr>\n",
       "  </tbody>\n",
       "</table>\n",
       "</div>"
      ],
      "text/plain": [
       "          sum click  sum print\n",
       "f028772b      56313     313339\n",
       "50e219e0      52586     408921\n",
       "28905ebd      37874     182020\n",
       "3e814130      21508      75667\n",
       "75fa27f6        446       4007\n",
       "dedf689d        331        624\n",
       "335d28a8        301       3351\n",
       "f66779e6        220       6365\n",
       "c0dd3be3        132       1026\n",
       "76b2941d         92       2573\n",
       "70fb0e29         88        608\n",
       "72722551         40        676\n",
       "0569f928         23        429\n",
       "42a36e14         14         62\n",
       "8fd0aea4          3        189\n",
       "9ccfa2ea          0          5\n",
       "a818d37a          0         81\n",
       "5378d028          0         11\n",
       "bcf865d9          0         16\n",
       "c706e647          0          1\n",
       "da34532e          0          1\n",
       "e787de0e          0         28"
      ]
     },
     "execution_count": 129,
     "metadata": {},
     "output_type": "execute_result"
    }
   ],
   "source": [
    "# Affiche le nombre de clicks et le nombre d'affichage (print)\n",
    "b = pd.DataFrame([df.groupby('site_category')['click'].sum().sort_values(ascending=False), df.site_category.value_counts()]).transpose()\n",
    "b.columns = ['sum click','sum print']\n",
    "b"
   ]
  },
  {
   "cell_type": "raw",
   "metadata": {},
   "source": [
    "On se rend compte que certains catégories de sites sont très peu visités. Par conséquent il n'y a aucun click. Cela explique un click rate égale à zéro.\n",
    "Cependant cela n'explique pas l'écart entre les clicks rate des autres catégories.\n"
   ]
  },
  {
   "cell_type": "markdown",
   "metadata": {},
   "source": [
    "It is practical to visualize both columns in parallel:"
   ]
  },
  {
   "cell_type": "code",
   "execution_count": 130,
   "metadata": {
    "ExecuteTime": {
     "end_time": "2019-01-14T18:13:24.864854Z",
     "start_time": "2019-01-14T18:13:23.769902Z"
    }
   },
   "outputs": [
    {
     "data": {
      "text/html": [
       "<div>\n",
       "<style scoped>\n",
       "    .dataframe tbody tr th:only-of-type {\n",
       "        vertical-align: middle;\n",
       "    }\n",
       "\n",
       "    .dataframe tbody tr th {\n",
       "        vertical-align: top;\n",
       "    }\n",
       "\n",
       "    .dataframe thead th {\n",
       "        text-align: right;\n",
       "    }\n",
       "</style>\n",
       "<table border=\"1\" class=\"dataframe\">\n",
       "  <thead>\n",
       "    <tr style=\"text-align: right;\">\n",
       "      <th></th>\n",
       "      <th>mean</th>\n",
       "      <th>count</th>\n",
       "    </tr>\n",
       "    <tr>\n",
       "      <th>C1</th>\n",
       "      <th></th>\n",
       "      <th></th>\n",
       "    </tr>\n",
       "  </thead>\n",
       "  <tbody>\n",
       "    <tr>\n",
       "      <th>1005</th>\n",
       "      <td>0.169474</td>\n",
       "      <td>918606.0</td>\n",
       "    </tr>\n",
       "    <tr>\n",
       "      <th>1002</th>\n",
       "      <td>0.211157</td>\n",
       "      <td>54907.0</td>\n",
       "    </tr>\n",
       "    <tr>\n",
       "      <th>1010</th>\n",
       "      <td>0.095497</td>\n",
       "      <td>22409.0</td>\n",
       "    </tr>\n",
       "    <tr>\n",
       "      <th>1012</th>\n",
       "      <td>0.177295</td>\n",
       "      <td>2854.0</td>\n",
       "    </tr>\n",
       "    <tr>\n",
       "      <th>1007</th>\n",
       "      <td>0.035591</td>\n",
       "      <td>871.0</td>\n",
       "    </tr>\n",
       "    <tr>\n",
       "      <th>1001</th>\n",
       "      <td>0.027027</td>\n",
       "      <td>222.0</td>\n",
       "    </tr>\n",
       "    <tr>\n",
       "      <th>1008</th>\n",
       "      <td>0.106870</td>\n",
       "      <td>131.0</td>\n",
       "    </tr>\n",
       "  </tbody>\n",
       "</table>\n",
       "</div>"
      ],
      "text/plain": [
       "          mean     count\n",
       "C1                      \n",
       "1005  0.169474  918606.0\n",
       "1002  0.211157   54907.0\n",
       "1010  0.095497   22409.0\n",
       "1012  0.177295    2854.0\n",
       "1007  0.035591     871.0\n",
       "1001  0.027027     222.0\n",
       "1008  0.106870     131.0"
      ]
     },
     "execution_count": 130,
     "metadata": {},
     "output_type": "execute_result"
    }
   ],
   "source": [
    "col = 'C1'\n",
    "a = pd.DataFrame([df.groupby(col).mean()['click'], df.groupby(col).count()['click']]).transpose()\n",
    "a.columns = ['mean', 'count']\n",
    "a.sort_values(by='count', ascending=False)"
   ]
  },
  {
   "cell_type": "markdown",
   "metadata": {},
   "source": [
    "<font color=\"red\">**Question 12:**\n",
    "    Divide the dataset into a training (90%) and test set (10%) with sklearn (use the following option: random_state=100).\n",
    "</font>"
   ]
  },
  {
   "cell_type": "code",
   "execution_count": 163,
   "metadata": {
    "ExecuteTime": {
     "end_time": "2019-01-14T18:27:22.087151Z",
     "start_time": "2019-01-14T18:27:21.101143Z"
    }
   },
   "outputs": [],
   "source": [
    "X = df.drop(columns = ['id']).copy()\n",
    "y = X.pop(item='click')"
   ]
  },
  {
   "cell_type": "code",
   "execution_count": 132,
   "metadata": {
    "ExecuteTime": {
     "end_time": "2019-01-14T18:13:27.322237Z",
     "start_time": "2019-01-14T18:13:25.757161Z"
    }
   },
   "outputs": [
    {
     "name": "stdout",
     "output_type": "stream",
     "text": [
      "(900000, 23) (900000,)\n"
     ]
    }
   ],
   "source": [
    "from sklearn.model_selection import train_test_split\n",
    "Xtrain, Xtest, ytrain, ytest = train_test_split(X, y, test_size=0.1, random_state=100)\n",
    "print(Xtrain.shape, ytrain.shape)"
   ]
  },
  {
   "cell_type": "markdown",
   "metadata": {},
   "source": [
    "# First work on a reduced number of features"
   ]
  },
  {
   "cell_type": "markdown",
   "metadata": {},
   "source": [
    "<font color=\"red\">**Question 13:**\n",
    "    Put in a list the selected columns: 'hour', 'weekday', 'C1', 'banner_pos', 'site_category', 'app_category', 'device_type', 'device_conn_type', 'C15', 'C16', 'C18', 'C21'.\n",
    "</font>"
   ]
  },
  {
   "cell_type": "code",
   "execution_count": 133,
   "metadata": {
    "ExecuteTime": {
     "end_time": "2019-01-14T18:13:27.330523Z",
     "start_time": "2019-01-14T18:13:27.325495Z"
    }
   },
   "outputs": [],
   "source": [
    "some_columns = ['hour', 'weekday', 'C1', 'banner_pos', 'site_category', 'app_category', \n",
    "                'device_type', 'device_conn_type', 'C15', 'C16', 'C18', 'C21']"
   ]
  },
  {
   "cell_type": "markdown",
   "metadata": {},
   "source": [
    "<font color=\"red\">**Question 14:**\n",
    "    <br>\n",
    "    - Import OneHotEncoder from sklearn.preprocessing\n",
    "    <br>\n",
    "    - Transform the training and the test data restricted to the selected columns\n",
    "    <br>\n",
    "    - Give the type of the outputs.\n",
    "</font>"
   ]
  },
  {
   "cell_type": "code",
   "execution_count": 134,
   "metadata": {
    "ExecuteTime": {
     "end_time": "2019-01-14T18:13:34.471925Z",
     "start_time": "2019-01-14T18:13:27.334365Z"
    }
   },
   "outputs": [
    {
     "name": "stdout",
     "output_type": "stream",
     "text": [
      "Shape du Xtrain transformé par ohe : (900000, 183)\n",
      "\n",
      "  (0, 6)\t1.0\n",
      "  (0, 27)\t1.0\n",
      "  (0, 33)\t1.0\n",
      "  (0, 39)\t1.0\n",
      "  (0, 65)\t1.0\n",
      "  (0, 67)\t1.0\n",
      "  (0, 94)\t1.0\n",
      "  (0, 98)\t1.0\n",
      "  (0, 105)\t1.0\n",
      "  (0, 112)\t1.0\n",
      "  (0, 121)\t1.0\n",
      "  (0, 130)\t1.0\n",
      "\n",
      "<class 'scipy.sparse.csr.csr_matrix'>\n",
      "le type de l'output est float64.\n"
     ]
    }
   ],
   "source": [
    "from sklearn.preprocessing import OneHotEncoder\n",
    "\n",
    "ohe = OneHotEncoder()\n",
    "Xtrain_oh = ohe.fit_transform(Xtrain[some_columns]) # fit the transformation of Xtrain restricted to selected columns\n",
    "Xtest_oh = ohe.transform(Xtest[some_columns]) # and transform Xtest restricted to selected columns\n",
    "\n",
    "print(f'Shape du Xtrain transformé par ohe : {Xtrain_oh.shape}')\n",
    "print()\n",
    "print(Xtest_oh[0])\n",
    "print()\n",
    "print(type(Xtest_oh))\n",
    "print(f\"le type de l'output est {Xtest_oh.dtype}.\")"
   ]
  },
  {
   "cell_type": "raw",
   "metadata": {},
   "source": [
    "Le OneHotEncoder fait un mapping \n"
   ]
  },
  {
   "cell_type": "markdown",
   "metadata": {},
   "source": [
    "<font color=\"red\">**Question 15:**\n",
    "    What is the new number of features?\n",
    "</font>"
   ]
  },
  {
   "cell_type": "code",
   "execution_count": 135,
   "metadata": {
    "ExecuteTime": {
     "end_time": "2019-01-14T18:13:34.488174Z",
     "start_time": "2019-01-14T18:13:34.479558Z"
    }
   },
   "outputs": [
    {
     "name": "stdout",
     "output_type": "stream",
     "text": [
      "Nombre de nouveaux feature : 183\n"
     ]
    }
   ],
   "source": [
    "print(f'Nombre de nouveaux feature : {Xtrain_oh.shape[1]}') # Fill here"
   ]
  },
  {
   "cell_type": "markdown",
   "metadata": {},
   "source": [
    "<font color=\"red\">**Question 16:**\n",
    "    Visualize the first row of the design matrix you have got.\n",
    "</font>"
   ]
  },
  {
   "cell_type": "code",
   "execution_count": 136,
   "metadata": {
    "ExecuteTime": {
     "end_time": "2019-01-14T18:13:34.510591Z",
     "start_time": "2019-01-14T18:13:34.496432Z"
    }
   },
   "outputs": [
    {
     "data": {
      "text/plain": [
       "array([[0., 0., 0., 0., 0., 0., 0., 0., 0., 0., 1., 0., 0., 0., 0., 0.,\n",
       "        0., 0., 0., 0., 0., 0., 0., 0., 1., 0., 0., 0., 0., 0., 0., 0.,\n",
       "        0., 0., 0., 0., 1., 0., 0., 1., 0., 0., 0., 0., 0., 0., 0., 0.,\n",
       "        0., 0., 1., 0., 0., 0., 0., 0., 0., 0., 0., 0., 0., 0., 0., 0.,\n",
       "        0., 0., 0., 0., 0., 0., 1., 0., 0., 0., 0., 0., 0., 0., 0., 0.,\n",
       "        0., 0., 0., 0., 0., 0., 0., 0., 0., 0., 0., 0., 0., 0., 0., 0.,\n",
       "        1., 0., 0., 0., 1., 0., 0., 0., 0., 1., 0., 0., 0., 0., 0., 0.,\n",
       "        1., 0., 0., 0., 0., 0., 0., 1., 0., 0., 0., 0., 0., 0., 0., 0.,\n",
       "        0., 0., 0., 0., 0., 0., 0., 0., 0., 0., 0., 0., 0., 0., 0., 0.,\n",
       "        0., 1., 0., 0., 0., 0., 0., 0., 0., 0., 0., 0., 0., 0., 0., 0.,\n",
       "        0., 0., 0., 0., 0., 0., 0., 0., 0., 0., 0., 0., 0., 0., 0., 0.,\n",
       "        0., 0., 0., 0., 0., 0., 0.]])"
      ]
     },
     "execution_count": 136,
     "metadata": {},
     "output_type": "execute_result"
    }
   ],
   "source": [
    "# affiche la première ligne\n",
    "Xtrain_oh.getrow(i=0).toarray() # Fill here"
   ]
  },
  {
   "cell_type": "markdown",
   "metadata": {},
   "source": [
    "<font color=\"red\">**Question 17:**\n",
    "    Import and fit a logistic regression model on your the encoded data\n",
    "</font>"
   ]
  },
  {
   "cell_type": "code",
   "execution_count": 137,
   "metadata": {
    "ExecuteTime": {
     "end_time": "2019-01-14T18:13:56.894317Z",
     "start_time": "2019-01-14T18:13:34.515095Z"
    },
    "scrolled": false
   },
   "outputs": [
    {
     "name": "stdout",
     "output_type": "stream",
     "text": [
      "[LibLinear]"
     ]
    },
    {
     "data": {
      "text/plain": [
       "LogisticRegression(C=1.0, class_weight=None, dual=False, fit_intercept=True,\n",
       "          intercept_scaling=1, max_iter=100, multi_class='warn',\n",
       "          n_jobs=None, penalty='l2', random_state=100, solver='warn',\n",
       "          tol=0.0001, verbose=True, warm_start=False)"
      ]
     },
     "execution_count": 137,
     "metadata": {},
     "output_type": "execute_result"
    }
   ],
   "source": [
    "from sklearn.linear_model import LogisticRegression\n",
    "lr = LogisticRegression(random_state=100,verbose=True)\n",
    "lr.fit(Xtrain_oh, ytrain)"
   ]
  },
  {
   "cell_type": "markdown",
   "metadata": {},
   "source": [
    "<font color=\"red\">**Question 18:**\n",
    "    With '.predict' and 'predict_proba', display the hard and soft decision you get on test data.\n",
    "</font>"
   ]
  },
  {
   "cell_type": "code",
   "execution_count": 138,
   "metadata": {
    "ExecuteTime": {
     "end_time": "2019-01-14T18:13:56.917772Z",
     "start_time": "2019-01-14T18:13:56.899030Z"
    }
   },
   "outputs": [],
   "source": [
    "hard = lr.predict(Xtest_oh)\n",
    "soft = lr.predict_proba(Xtest_oh)"
   ]
  },
  {
   "cell_type": "markdown",
   "metadata": {},
   "source": [
    "<font color=\"red\">**Question 19:**\n",
    "    Compute the probability of **error** using sklearn.metrics 'accuracy_score' function. Comment.\n",
    "    \n",
    "</font>"
   ]
  },
  {
   "cell_type": "code",
   "execution_count": 139,
   "metadata": {
    "ExecuteTime": {
     "end_time": "2019-01-14T18:13:56.958641Z",
     "start_time": "2019-01-14T18:13:56.933556Z"
    }
   },
   "outputs": [
    {
     "name": "stdout",
     "output_type": "stream",
     "text": [
      "le pourcentage d'erreur est de 0.16957.\n"
     ]
    }
   ],
   "source": [
    "from sklearn.metrics import accuracy_score\n",
    "accuracy = accuracy_score(ytest,hard)\n",
    "print(f\"le pourcentage d'erreur est de {1-accuracy}.\") # Fill here"
   ]
  },
  {
   "cell_type": "raw",
   "metadata": {},
   "source": [
    "Le pourcentage d'erreur est de 17%. C'est à dire que le classifeur n'est pas meilleur qu'un classifieur qui prédirait pour chaque pub la classe 0..."
   ]
  },
  {
   "cell_type": "markdown",
   "metadata": {},
   "source": [
    "<font color=\"red\">**Question 20:**\n",
    "    Which sklearn.metrics could you also use?\n",
    "</font>"
   ]
  },
  {
   "cell_type": "raw",
   "metadata": {},
   "source": [
    "On peut utiliser metrics.log_loss qui est la cross-entreopy. plus la logloss est petite, mieux c'est, avec 0 représentant la parfaite logloss"
   ]
  },
  {
   "cell_type": "code",
   "execution_count": 140,
   "metadata": {
    "ExecuteTime": {
     "end_time": "2019-01-14T18:13:56.994959Z",
     "start_time": "2019-01-14T18:13:56.965116Z"
    }
   },
   "outputs": [
    {
     "name": "stdout",
     "output_type": "stream",
     "text": [
      "0.4251224682688907\n"
     ]
    }
   ],
   "source": [
    "from sklearn.metrics import log_loss\n",
    "logloss = log_loss(y_pred=soft,y_true=ytest)\n",
    "print (logloss)"
   ]
  },
  {
   "cell_type": "markdown",
   "metadata": {},
   "source": [
    "<font color=\"red\">**Question 21:**\n",
    "    Plot the ROC curve. Then compute the log loss and the Area Under the Curve ROC.\n",
    "</font>"
   ]
  },
  {
   "cell_type": "code",
   "execution_count": 141,
   "metadata": {
    "ExecuteTime": {
     "end_time": "2019-01-14T18:13:57.068688Z",
     "start_time": "2019-01-14T18:13:56.998390Z"
    }
   },
   "outputs": [],
   "source": [
    "from sklearn.metrics import roc_curve, roc_auc_score\n",
    "\n",
    "y_score = lr.decision_function(Xtest_oh)\n",
    "\n",
    "\n",
    "fpr, tpr, thresholds = roc_curve(y_true=ytest, y_score=y_score) # Fill here\n",
    "auc = roc_auc_score(ytest, y_score)"
   ]
  },
  {
   "cell_type": "code",
   "execution_count": 142,
   "metadata": {
    "ExecuteTime": {
     "end_time": "2019-01-14T18:13:57.338670Z",
     "start_time": "2019-01-14T18:13:57.072086Z"
    },
    "scrolled": true
   },
   "outputs": [
    {
     "data": {
      "image/png": "[encoded data removed]",
      "text/plain": [
       "<Figure size 576x288 with 1 Axes>"
      ]
     },
     "metadata": {
      "needs_background": "light"
     },
     "output_type": "display_data"
    }
   ],
   "source": [
    "plt.figure(figsize=(8,4))\n",
    "plt.plot(fpr, tpr, color='darkorange', lw=1, label=f'ROC curve, AUC={auc:.4f}')\n",
    "plt.plot([0, 1], [0, 1], color='navy', lw=1, linestyle='--')\n",
    "plt.xlim([0.0, 1.0])\n",
    "plt.ylim([0.0, 1.05])\n",
    "plt.xlabel('False Positive Rate')\n",
    "plt.ylabel('True Positive Rate')\n",
    "plt.title('ROC curve')\n",
    "plt.legend(loc=\"lower right\")\n",
    "plt.show()"
   ]
  },
  {
   "cell_type": "code",
   "execution_count": 160,
   "metadata": {
    "ExecuteTime": {
     "end_time": "2019-01-14T18:25:07.867796Z",
     "start_time": "2019-01-14T18:25:07.862270Z"
    }
   },
   "outputs": [
    {
     "name": "stdout",
     "output_type": "stream",
     "text": [
      "la valeur de la logloss est de : 0.4251.\n",
      "la valeur de la AUCROC est de : 0.6763\n"
     ]
    }
   ],
   "source": [
    "print (f\"la valeur de la logloss est de : {logloss:.4f}.\")\n",
    "print (f\"la valeur de la AUCROC est de : {auc:.4f}\")\n"
   ]
  },
  {
   "cell_type": "markdown",
   "metadata": {},
   "source": [
    "<font color=\"red\">**Question 22:**\n",
    "    <br>\n",
    "    - Import the 'plot_lift' function from 'utils.py' and plot the lift curve. What is the lift of the first fifth of the population identified by the test?\n",
    "    <br>\n",
    "    -  Interpret it. \n",
    "</font>"
   ]
  },
  {
   "cell_type": "code",
   "execution_count": 143,
   "metadata": {
    "ExecuteTime": {
     "end_time": "2019-01-14T18:13:57.689060Z",
     "start_time": "2019-01-14T18:13:57.344005Z"
    }
   },
   "outputs": [
    {
     "data": {
      "text/plain": [
       "<matplotlib.lines.Line2D at 0x1a24b38cf8>"
      ]
     },
     "execution_count": 143,
     "metadata": {},
     "output_type": "execute_result"
    },
    {
     "data": {
      "image/png": "[encoded data removed]",
      "text/plain": [
       "<Figure size 432x288 with 1 Axes>"
      ]
     },
     "metadata": {
      "needs_background": "light"
     },
     "output_type": "display_data"
    }
   ],
   "source": [
    "from utils import plotlift\n",
    "plotlift(soft_pred=soft[:,1], y_true=ytest)\n",
    "\n",
    "# The following line just plots a vertical line for you to answer the second part of the question\n",
    "plt.axvline(x= 0.2, linestyle='--', color='r') # Fill here"
   ]
  },
  {
   "cell_type": "raw",
   "metadata": {},
   "source": [
    "En classant les profils et en prenant  les profils similaires au 20% premiers, ils cliquent 1,7 fois plus que la moyenne des profils.\n",
    "\n",
    "En ciblant les profils similaires au 20% premier, on sera capable d'augmenter le nombre de clicks de 80% environ.\n",
    "Globalement la courbe de lift permet de mettre en perspective les possibilités d'évolution ( du click ici ) en fonction du spectre des profils identifés."
   ]
  },
  {
   "cell_type": "markdown",
   "metadata": {},
   "source": [
    "# Complete model"
   ]
  },
  {
   "cell_type": "markdown",
   "metadata": {},
   "source": [
    "As an example, we now work on the 'site_id' column.\n",
    "\n",
    "<font color=\"red\">**Question 23:**\n",
    "    <br>\n",
    "    - For each modality, compute the number of occurrences in the dataset and the average of clicks for this modality \n",
    "    <br>\n",
    "    - With 'sns.joiplot', represent the set of points (count, mean) for each modality\n",
    "</font>"
   ]
  },
  {
   "cell_type": "code",
   "execution_count": 144,
   "metadata": {
    "ExecuteTime": {
     "end_time": "2019-01-14T18:13:57.697170Z",
     "start_time": "2019-01-14T18:13:57.692642Z"
    }
   },
   "outputs": [],
   "source": [
    "import seaborn as sns"
   ]
  },
  {
   "cell_type": "code",
   "execution_count": 145,
   "metadata": {
    "ExecuteTime": {
     "end_time": "2019-01-14T18:14:00.566120Z",
     "start_time": "2019-01-14T18:13:57.701047Z"
    }
   },
   "outputs": [
    {
     "data": {
      "image/png": "[encoded data removed]",
      "text/plain": [
       "<Figure size 432x432 with 3 Axes>"
      ]
     },
     "metadata": {
      "needs_background": "light"
     },
     "output_type": "display_data"
    },
    {
     "data": {
      "image/png": "[encoded data removed]",
      "text/plain": [
       "<Figure size 432x432 with 3 Axes>"
      ]
     },
     "metadata": {
      "needs_background": "light"
     },
     "output_type": "display_data"
    }
   ],
   "source": [
    "col = 'site_id'\n",
    "a = pd.DataFrame([df.groupby(col).mean()['click'], df.groupby(col).count()['click']]).transpose()\n",
    "a.columns = ['mean', 'n_val']\n",
    "sns.jointplot(a['n_val'], a['mean'], alpha=0.25);\n",
    "thres = 100\n",
    "sns.jointplot(a[a['n_val']<thres]['n_val'], a[a['n_val']<thres]['mean'], alpha=0.25);"
   ]
  },
  {
   "cell_type": "markdown",
   "metadata": {},
   "source": [
    "<font color=\"red\">**Question 24:**\n",
    "    In the above commands, what does the alpha parameter stand for?\n",
    "</font>"
   ]
  },
  {
   "cell_type": "raw",
   "metadata": {},
   "source": [
    "L'alpha crée un niveau de transparence en fonction de la densité des points."
   ]
  },
  {
   "cell_type": "markdown",
   "metadata": {},
   "source": [
    "Several sites with a lot of occurrences in the dataset have a click frequency very different from the mean. It is relevant to keep the column 'site_id' at least for the modalities for which 'count' is very high.\n",
    "\n",
    "<font color=\"red\">**Question 25:**\n",
    "    Do the same work on the 'device_id' column. What do you notice? What could be the isolated point?\n",
    "</font>"
   ]
  },
  {
   "cell_type": "code",
   "execution_count": 146,
   "metadata": {
    "ExecuteTime": {
     "end_time": "2019-01-14T18:14:19.060506Z",
     "start_time": "2019-01-14T18:14:00.569887Z"
    }
   },
   "outputs": [
    {
     "data": {
      "image/png": "[encoded data removed]",
      "text/plain": [
       "<Figure size 432x432 with 3 Axes>"
      ]
     },
     "metadata": {
      "needs_background": "light"
     },
     "output_type": "display_data"
    },
    {
     "data": {
      "image/png": "[encoded data removed]",
      "text/plain": [
       "<Figure size 432x432 with 3 Axes>"
      ]
     },
     "metadata": {
      "needs_background": "light"
     },
     "output_type": "display_data"
    }
   ],
   "source": [
    "col = 'device_id' # Fill here\n",
    "a = pd.DataFrame([df.groupby(col).mean()['click'], df.groupby(col).count()['click']]).transpose()\n",
    "a.columns = ['mean', 'n_val']\n",
    "sns.jointplot(a['n_val'], a['mean'], alpha=0.25);\n",
    "thres = 10000\n",
    "sns.jointplot(a[a['n_val']<thres]['n_val'], a[a['n_val']<thres]['mean'], alpha=0.25);"
   ]
  },
  {
   "cell_type": "raw",
   "metadata": {},
   "source": [
    "On peut voir qu'il y a un point véritablement outlayer qui fait plus de 800.000 vues sur une pub tandis que les autres font moins de 500 vues ce qui a tendance à écraser le graph. On le voit bien en mettant un treshold. On pourrait retirer ce device_id outlyer pour avoir de meilleurs prédictions.\n",
    "Ce pourrait être un bot qui va scrapper des pages.\n",
    "C'est peut être aussi un wifi public ou un proxy utilisé par bon nombre d'utilisateurs.\n",
    "\n"
   ]
  },
  {
   "cell_type": "markdown",
   "metadata": {},
   "source": [
    "<font color=\"red\">**Question 26**:   \n",
    "    In the column df['device_id'], spot the value V corresponding to the largest number of 'count' (using '.value_counts' method). Create a new column df['user'] defined as follows:\n",
    "</font>\n",
    "$$\n",
    "\\text{user} = \\left\\{\\begin{array}[h]{ll} \\text{device_ip + device_model} & \\text{if device_id = V}\\\\ \\text{device_id} & \\text{else.}\\end{array}\\right.\n",
    "$$"
   ]
  },
  {
   "cell_type": "code",
   "execution_count": 164,
   "metadata": {
    "ExecuteTime": {
     "end_time": "2019-01-14T18:29:33.919906Z",
     "start_time": "2019-01-14T18:29:33.122262Z"
    }
   },
   "outputs": [],
   "source": [
    "V = df['device_id'].value_counts().idxmax()# Fill here\n",
    "df['user'] = df.device_id\n",
    "df.user.where(cond=df.device_id!=V, other=df.device_ip + df.device_model, inplace=True)\n"
   ]
  },
  {
   "cell_type": "code",
   "execution_count": null,
   "metadata": {},
   "outputs": [],
   "source": []
  },
  {
   "cell_type": "markdown",
   "metadata": {},
   "source": [
    "<font color=\"red\">**Question 27**:\n",
    "    Drop the following columns: 'device_id','device_model','device_ip'\n",
    "</font>"
   ]
  },
  {
   "cell_type": "code",
   "execution_count": 165,
   "metadata": {
    "ExecuteTime": {
     "end_time": "2019-01-14T18:29:46.080076Z",
     "start_time": "2019-01-14T18:29:45.266467Z"
    }
   },
   "outputs": [
    {
     "data": {
      "text/plain": [
       "Index(['id', 'click', 'hour', 'C1', 'banner_pos', 'site_id', 'site_domain',\n",
       "       'site_category', 'app_id', 'app_domain', 'app_category', 'device_type',\n",
       "       'device_conn_type', 'C14', 'C15', 'C16', 'C17', 'C18', 'C19', 'C20',\n",
       "       'C21', 'weekday', 'user'],\n",
       "      dtype='object')"
      ]
     },
     "execution_count": 165,
     "metadata": {},
     "output_type": "execute_result"
    }
   ],
   "source": [
    "df = df.drop(columns=['device_id','device_model','device_ip'])\n",
    "df.columns"
   ]
  },
  {
   "cell_type": "markdown",
   "metadata": {},
   "source": [
    "<font color=\"red\">**Question 28**:\n",
    "    One could look at the similarity between 'site_id' and 'site_domain'. Merge those columns into a new 'site' column and delete the old 'site_id' and 'site_domain' columns.\n",
    "</font>"
   ]
  },
  {
   "cell_type": "code",
   "execution_count": 166,
   "metadata": {
    "ExecuteTime": {
     "end_time": "2019-01-14T18:29:52.037093Z",
     "start_time": "2019-01-14T18:29:51.184163Z"
    }
   },
   "outputs": [
    {
     "data": {
      "text/plain": [
       "Index(['id', 'click', 'hour', 'C1', 'banner_pos', 'site_category', 'app_id',\n",
       "       'app_domain', 'app_category', 'device_type', 'device_conn_type', 'C14',\n",
       "       'C15', 'C16', 'C17', 'C18', 'C19', 'C20', 'C21', 'weekday', 'user',\n",
       "       'site'],\n",
       "      dtype='object')"
      ]
     },
     "execution_count": 166,
     "metadata": {},
     "output_type": "execute_result"
    }
   ],
   "source": [
    "df['site'] = df.site_id + df.site_domain\n",
    "df.drop(columns=['site_id', 'site_domain'], inplace=True)\n",
    "df.columns"
   ]
  },
  {
   "cell_type": "markdown",
   "metadata": {},
   "source": [
    "<font color=\"red\">**Question 29**:\n",
    "    Once again, split the modified DataFrame df into a train (90%) and a test set (10%) (with option: random_state = 100).\n",
    "</font>"
   ]
  },
  {
   "cell_type": "code",
   "execution_count": 167,
   "metadata": {
    "ExecuteTime": {
     "end_time": "2019-01-14T18:29:55.150735Z",
     "start_time": "2019-01-14T18:29:53.510196Z"
    }
   },
   "outputs": [],
   "source": [
    "X = df.copy()\n",
    "# X = pd.DataFrame(index=df.id, columns=df.columns, data=df.values)\n",
    "X = X.drop(columns='id')\n",
    "y = X.pop(item='click')\n",
    "Xtrain, Xtest, ytrain, ytest = train_test_split(X, y, test_size=0.1, random_state=100)"
   ]
  },
  {
   "cell_type": "markdown",
   "metadata": {},
   "source": [
    "<font color=\"red\">**Question 30**:\n",
    "    Define a OneHotEncoder and then, 'fit_transform' the train set.\n",
    "</font>"
   ]
  },
  {
   "cell_type": "code",
   "execution_count": 168,
   "metadata": {
    "ExecuteTime": {
     "end_time": "2019-01-14T18:30:09.111433Z",
     "start_time": "2019-01-14T18:29:56.732457Z"
    }
   },
   "outputs": [
    {
     "name": "stdout",
     "output_type": "stream",
     "text": [
      "Shape du Xtrain transformé par ohe : (900000, 713334)\n",
      "<class 'scipy.sparse.csr.csr_matrix'>\n"
     ]
    }
   ],
   "source": [
    "ohe = OneHotEncoder(handle_unknown='ignore')\n",
    "Xtrain_oh = ohe.fit_transform(Xtrain)\n",
    "\n",
    "print(f'Shape du Xtrain transformé par ohe : {Xtrain_oh.shape}')\n",
    "# print()\n",
    "print(type(Xtrain_oh))\n",
    "# print(Xtest_oh.dtype)"
   ]
  },
  {
   "cell_type": "markdown",
   "metadata": {},
   "source": [
    "<font color=\"red\">**Question 31**:\n",
    "    Transform the test set. If an error occurs, analyze it and try to solve it. Which argument did you set ?\n",
    "</font>"
   ]
  },
  {
   "cell_type": "code",
   "execution_count": 169,
   "metadata": {
    "ExecuteTime": {
     "end_time": "2019-01-14T18:30:11.574298Z",
     "start_time": "2019-01-14T18:30:10.144549Z"
    }
   },
   "outputs": [
    {
     "name": "stdout",
     "output_type": "stream",
     "text": [
      "(100000, 713334)\n"
     ]
    }
   ],
   "source": [
    "Xtest_oh = ohe.transform(Xtest)\n",
    "print(Xtest_oh.shape)"
   ]
  },
  {
   "cell_type": "raw",
   "metadata": {},
   "source": [
    "Nous avons ajouté l'argument handle_unknown='ignore' dans le OneHotEncoder afin de ne pas tenir compte des nouvelles catégories rencontrées lors du .transform qui n'étaient pas présente dans le .fit "
   ]
  },
  {
   "cell_type": "markdown",
   "metadata": {},
   "source": [
    "<font color=\"red\">**Question 32**:\n",
    "    What is the new number of features?\n",
    "</font>"
   ]
  },
  {
   "cell_type": "code",
   "execution_count": 172,
   "metadata": {
    "ExecuteTime": {
     "end_time": "2019-01-14T18:34:39.575236Z",
     "start_time": "2019-01-14T18:34:39.570064Z"
    }
   },
   "outputs": [
    {
     "name": "stdout",
     "output_type": "stream",
     "text": [
      "Number of features : 713334\n"
     ]
    }
   ],
   "source": [
    "print(f'Number of features : {Xtrain_oh.shape[1]}')"
   ]
  },
  {
   "cell_type": "markdown",
   "metadata": {},
   "source": [
    "<font color=\"red\">**Question 33**:\n",
    "    How many modalities have been seen more than a 100 times?\n",
    "</font>"
   ]
  },
  {
   "cell_type": "code",
   "execution_count": 173,
   "metadata": {
    "ExecuteTime": {
     "end_time": "2019-01-14T18:34:41.280648Z",
     "start_time": "2019-01-14T18:34:41.160194Z"
    }
   },
   "outputs": [
    {
     "data": {
      "text/plain": [
       "1971"
      ]
     },
     "execution_count": 173,
     "metadata": {},
     "output_type": "execute_result"
    }
   ],
   "source": [
    "# The following 'n_ones' vector below gives the number of '1' in each column/modality of the Xtrain_oh design matrix.\n",
    "n_ones = np.array(Xtrain_oh.sum(axis=0))\n",
    "np.sum(n_ones>100)"
   ]
  },
  {
   "cell_type": "raw",
   "metadata": {},
   "source": [
    "Il y a 1971 colonnes qui ont été vu plus de 100 fois."
   ]
  },
  {
   "cell_type": "markdown",
   "metadata": {},
   "source": [
    "The list 'cols_to_keep' below is used to store the indices of the modalities seen more than a 100 times. You can notice the use of the 'enumerate' function."
   ]
  },
  {
   "cell_type": "code",
   "execution_count": 156,
   "metadata": {
    "ExecuteTime": {
     "end_time": "2019-01-14T18:21:19.668898Z",
     "start_time": "2019-01-14T18:21:19.663523Z"
    }
   },
   "outputs": [],
   "source": [
    "cols_to_keep = np.argwhere(n_ones>100)[:,1] # Fill here."
   ]
  },
  {
   "cell_type": "markdown",
   "metadata": {},
   "source": [
    "<font color=\"red\">**Question 34**:\n",
    "    Using only our restriction on the 'cols_to_keep' columns, retrain a logistic regression model and compare its performance in terms of 'log_loss' and 'roc_auc_curve'.\n",
    "</font>"
   ]
  },
  {
   "cell_type": "code",
   "execution_count": 174,
   "metadata": {
    "ExecuteTime": {
     "end_time": "2019-01-14T18:36:41.463940Z",
     "start_time": "2019-01-14T18:35:56.759217Z"
    }
   },
   "outputs": [
    {
     "name": "stdout",
     "output_type": "stream",
     "text": [
      "accuracy : 0.83256\n",
      "logloss : 0.41075307488386126\n"
     ]
    }
   ],
   "source": [
    "lr2 = LogisticRegression(random_state=100)\n",
    "lr2.fit(X=Xtrain_oh[:,cols_to_keep], y=ytrain.values)\n",
    "\n",
    "hard = lr2.predict(Xtest_oh[:,cols_to_keep])\n",
    "soft = lr2.predict_proba(Xtest_oh[:,cols_to_keep])\n",
    "\n",
    "accuracy = accuracy_score(ytest,hard)\n",
    "print(f'accuracy : {accuracy}') # Fill here\n",
    "logloss = log_loss(y_pred=soft,y_true=ytest)\n",
    "print (f'logloss : {logloss}')"
   ]
  },
  {
   "cell_type": "code",
   "execution_count": 175,
   "metadata": {
    "ExecuteTime": {
     "end_time": "2019-01-14T18:36:42.878799Z",
     "start_time": "2019-01-14T18:36:42.510316Z"
    }
   },
   "outputs": [
    {
     "data": {
      "image/png": "[encoded data removed]",
      "text/plain": [
       "<Figure size 576x288 with 1 Axes>"
      ]
     },
     "metadata": {
      "needs_background": "light"
     },
     "output_type": "display_data"
    }
   ],
   "source": [
    "y_score = lr2.decision_function(Xtest_oh[:,cols_to_keep])\n",
    "fpr, tpr, thresholds = roc_curve(y_true=ytest, y_score=y_score) # Fill here\n",
    "auc = roc_auc_score(ytest, y_score)\n",
    "\n",
    "plt.figure(figsize=(8,4))\n",
    "plt.plot(fpr, tpr, color='darkorange', lw=1, label=f'ROC curve, AUC={auc:.4f}')\n",
    "plt.plot([0, 1], [0, 1], color='navy', lw=1, linestyle='--')\n",
    "plt.xlim([0.0, 1.0])\n",
    "plt.ylim([0.0, 1.05])\n",
    "plt.xlabel('False Positive Rate')\n",
    "plt.ylabel('True Positive Rate')\n",
    "plt.title('ROC curve')\n",
    "plt.legend(loc=\"lower right\")\n",
    "plt.show()"
   ]
  },
  {
   "cell_type": "code",
   "execution_count": 176,
   "metadata": {
    "ExecuteTime": {
     "end_time": "2019-01-14T18:36:44.264743Z",
     "start_time": "2019-01-14T18:36:43.833034Z"
    }
   },
   "outputs": [
    {
     "data": {
      "image/png": "[encoded data removed]",
      "text/plain": [
       "<Figure size 432x288 with 1 Axes>"
      ]
     },
     "metadata": {
      "needs_background": "light"
     },
     "output_type": "display_data"
    }
   ],
   "source": [
    "plotlift(soft_pred=soft[:,1], y_true=ytest)\n",
    "# The following line just plots a vertical line for you to answer the second part of the question\n",
    "# plt.axvline(x= ???, linestyle='--', color='r') # Fill here"
   ]
  },
  {
   "cell_type": "markdown",
   "metadata": {},
   "source": [
    "# Gradient Boosting Decision Trees"
   ]
  },
  {
   "cell_type": "markdown",
   "metadata": {},
   "source": [
    "<font color=\"red\">**Question 35**:\n",
    "    <br>\n",
    "    - Import GradientBoostingClassifier from scikit learn. \n",
    "    <br>\n",
    "    - Initialize it using 50 estimators and a learning rate of 0.8. Set 'verbose=True' to monitor the progress of the algorithm.\n",
    "    <br>\n",
    "    - Fit it on the same columns 'cols_to_keep' of Xtrain_oh than for the previous logistic regression.\n",
    "    <br>\n",
    "    - Evaluate its performance as in the previous step.\n",
    "</font>"
   ]
  },
  {
   "cell_type": "code",
   "execution_count": 177,
   "metadata": {
    "ExecuteTime": {
     "end_time": "2019-01-14T18:37:05.019755Z",
     "start_time": "2019-01-14T18:37:04.515364Z"
    }
   },
   "outputs": [],
   "source": [
    "Xtrain_oh_ctk = Xtrain_oh[:,cols_to_keep]\n",
    "Xtest_oh_ctk = Xtest_oh[:,cols_to_keep]"
   ]
  },
  {
   "cell_type": "code",
   "execution_count": 178,
   "metadata": {
    "ExecuteTime": {
     "end_time": "2019-01-14T18:40:44.312870Z",
     "start_time": "2019-01-14T18:37:06.203741Z"
    }
   },
   "outputs": [
    {
     "name": "stdout",
     "output_type": "stream",
     "text": [
      "      Iter       Train Loss   Remaining Time \n",
      "         1           0.8752            4.11m\n",
      "         2           0.8644            3.70m\n",
      "         3           0.8600            3.49m\n",
      "         4           0.8554            3.33m\n",
      "         5           0.8530            3.23m\n",
      "         6           0.8496            3.12m\n",
      "         7           0.8475            3.04m\n",
      "         8           0.8462            2.97m\n",
      "         9           0.8447            2.93m\n",
      "        10           0.8435            2.89m\n",
      "        20           0.8356            2.20m\n",
      "        30           0.8306            1.47m\n",
      "        40           0.8275           44.23s\n",
      "        50           0.8252            0.00s\n"
     ]
    },
    {
     "data": {
      "text/plain": [
       "GradientBoostingClassifier(criterion='friedman_mse', init=None,\n",
       "              learning_rate=0.8, loss='deviance', max_depth=3,\n",
       "              max_features=None, max_leaf_nodes=None,\n",
       "              min_impurity_decrease=0.0, min_impurity_split=None,\n",
       "              min_samples_leaf=1, min_samples_split=2,\n",
       "              min_weight_fraction_leaf=0.0, n_estimators=50,\n",
       "              n_iter_no_change=None, presort='auto', random_state=None,\n",
       "              subsample=1.0, tol=0.0001, validation_fraction=0.1,\n",
       "              verbose=True, warm_start=False)"
      ]
     },
     "execution_count": 178,
     "metadata": {},
     "output_type": "execute_result"
    }
   ],
   "source": [
    "from sklearn.ensemble import GradientBoostingClassifier\n",
    "gb = GradientBoostingClassifier(learning_rate=0.8,verbose=True,n_estimators=50)\n",
    "gb.fit(X=Xtrain_oh_ctk, y=ytrain.values)"
   ]
  },
  {
   "cell_type": "code",
   "execution_count": 179,
   "metadata": {
    "ExecuteTime": {
     "end_time": "2019-01-14T18:40:45.934325Z",
     "start_time": "2019-01-14T18:40:45.437741Z"
    }
   },
   "outputs": [
    {
     "name": "stdout",
     "output_type": "stream",
     "text": [
      "Logloss_gb : 0.4124669858816379\n",
      "Score_gb : 0.83306\n",
      "Area under the curve : 0.7151773518851545\n"
     ]
    }
   ],
   "source": [
    "soft = gb.predict_proba(Xtest_oh_ctk)\n",
    "logloss_gb = log_loss(y_pred=soft, y_true=ytest)\n",
    "score_gb = gb.score(X=Xtest_oh_ctk, y=ytest)\n",
    "\n",
    "y_score = gb.decision_function(Xtest_oh_ctk)\n",
    "auc = roc_auc_score(ytest, y_score)\n",
    "print (f'Logloss_gb : {logloss_gb}')\n",
    "print (f'Score_gb : {score_gb}')\n",
    "print (f'Area under the curve : {auc}')"
   ]
  },
  {
   "cell_type": "markdown",
   "metadata": {},
   "source": [
    "<font color=\"red\">**Question 36**:\n",
    "    What does the 'gb.estimators_' output?\n",
    "</font>"
   ]
  },
  {
   "cell_type": "code",
   "execution_count": 180,
   "metadata": {
    "ExecuteTime": {
     "end_time": "2019-01-14T18:40:47.219556Z",
     "start_time": "2019-01-14T18:40:47.212908Z"
    }
   },
   "outputs": [
    {
     "data": {
      "text/plain": [
       "array([DecisionTreeRegressor(criterion='friedman_mse', max_depth=3,\n",
       "           max_features=None, max_leaf_nodes=None,\n",
       "           min_impurity_decrease=0.0, min_impurity_split=None,\n",
       "           min_samples_leaf=1, min_samples_split=2,\n",
       "           min_weight_fraction_leaf=0.0, presort='auto',\n",
       "           random_state=<mtrand.RandomState object at 0x110270870>,\n",
       "           splitter='best')], dtype=object)"
      ]
     },
     "execution_count": 180,
     "metadata": {},
     "output_type": "execute_result"
    }
   ],
   "source": [
    "gb.estimators_[5]"
   ]
  },
  {
   "cell_type": "raw",
   "metadata": {},
   "source": [
    "Le gb.estimators_ donne les parametres de chaque estimateurs (arbres) utilisé dans l'aglorithme GB."
   ]
  },
  {
   "cell_type": "markdown",
   "metadata": {},
   "source": [
    "We now try to use the 'gb' classifier to generate features that will be relevant inputs for the logistic regression.\n",
    "\n",
    "<font color=\"red\">**Question 37**:\n",
    "    With the 'gb.apply()' method, generate a transformation 'leafs_train' of the training set 'Xtrain_oh[:, cols_to_keep]' for which the nth column corresponds to the number of the leaf returned by the estimator n.\n",
    "</font>"
   ]
  },
  {
   "cell_type": "code",
   "execution_count": 181,
   "metadata": {
    "ExecuteTime": {
     "end_time": "2019-01-14T18:40:50.846256Z",
     "start_time": "2019-01-14T18:40:48.194180Z"
    }
   },
   "outputs": [
    {
     "data": {
      "text/plain": [
       "(900000, 50, 1)"
      ]
     },
     "execution_count": 181,
     "metadata": {},
     "output_type": "execute_result"
    }
   ],
   "source": [
    "gb.apply(X=Xtrain_oh_ctk).shape"
   ]
  },
  {
   "cell_type": "markdown",
   "metadata": {},
   "source": [
    "After your applied gb.apply on Xtrain_oh[:, cols_to_keep], remember that use have only one class to predict (click = 0 or 1). "
   ]
  },
  {
   "cell_type": "code",
   "execution_count": 182,
   "metadata": {
    "ExecuteTime": {
     "end_time": "2019-01-14T18:40:54.572740Z",
     "start_time": "2019-01-14T18:40:51.921747Z"
    }
   },
   "outputs": [],
   "source": [
    "leafs_train = pd.DataFrame(data=gb.apply(X=Xtrain_oh_ctk).reshape([900000,50])) # Fill here\n",
    "leafs_test = pd.DataFrame(data=gb.apply(X=Xtest_oh_ctk).reshape([100000,50]))"
   ]
  },
  {
   "cell_type": "code",
   "execution_count": 183,
   "metadata": {
    "ExecuteTime": {
     "end_time": "2019-01-14T18:40:56.970882Z",
     "start_time": "2019-01-14T18:40:56.273580Z"
    }
   },
   "outputs": [
    {
     "data": {
      "text/plain": [
       "Text(0, 0.5, 'Count')"
      ]
     },
     "execution_count": 183,
     "metadata": {},
     "output_type": "execute_result"
    },
    {
     "data": {
      "image/png": "[encoded data removed]",
      "text/plain": [
       "<Figure size 432x288 with 1 Axes>"
      ]
     },
     "metadata": {
      "needs_background": "light"
     },
     "output_type": "display_data"
    }
   ],
   "source": [
    "pd.value_counts(leafs_train.values.ravel()).plot.bar()\n",
    "plt.xlabel('leaf index')\n",
    "plt.ylabel('Count')"
   ]
  },
  {
   "cell_type": "markdown",
   "metadata": {},
   "source": [
    "<font color=\"red\">**Question 38**:\n",
    "    Encode these new features into dummies.\n",
    "</font>"
   ]
  },
  {
   "cell_type": "code",
   "execution_count": 208,
   "metadata": {
    "ExecuteTime": {
     "end_time": "2019-01-14T19:28:07.653576Z",
     "start_time": "2019-01-14T19:27:59.120174Z"
    }
   },
   "outputs": [
    {
     "name": "stdout",
     "output_type": "stream",
     "text": [
      "Shape du leafs_train transformé par ohe : (900000, 398)\n",
      "<class 'scipy.sparse.csr.csr_matrix'>\n",
      "\n",
      "Shape du leafs_test transformé par ohe : (100000, 398)\n",
      "<class 'scipy.sparse.csr.csr_matrix'>\n"
     ]
    }
   ],
   "source": [
    "ohe = OneHotEncoder()\n",
    "leafs_train_oh = ohe.fit_transform(leafs_train.values)\n",
    "leafs_test_oh = ohe.transform(leafs_test.values)\n",
    "\n",
    "print(f'Shape du leafs_train transformé par ohe : {leafs_train_oh.shape}')\n",
    "print(type(leafs_train_oh))\n",
    "print()\n",
    "print(f'Shape du leafs_test transformé par ohe : {leafs_test_oh.shape}')\n",
    "print(type(leafs_test_oh))"
   ]
  },
  {
   "cell_type": "markdown",
   "metadata": {},
   "source": [
    "<font color=\"red\">**Question 39**:\n",
    "    With the \"hstack\" function, create a new matrix of features by concatenating horizontally our new features \"leafs_train_oh\" and \"leafs_test_oh\", and previous features used for logistic regression (e.g. in \"Xtrain_oh[:, cols_to_keep]\").\n",
    "</font>\n",
    "<br><br>\n",
    "**Remark**: we use \"hstack\" from scipy.sparse (and not from numpy) because the output of our OneHotEncoder is a sparse array. You can verify it with the command \"type(Xtrain_oh)\"."
   ]
  },
  {
   "cell_type": "code",
   "execution_count": 185,
   "metadata": {
    "ExecuteTime": {
     "end_time": "2019-01-14T18:42:02.429072Z",
     "start_time": "2019-01-14T18:41:58.274936Z"
    }
   },
   "outputs": [],
   "source": [
    "from scipy.sparse import csr_matrix, hstack\n",
    "Xtrain_concat = hstack([leafs_train_oh, Xtrain_oh_ctk]) # Fill here\n",
    "Xtest_concat = hstack([leafs_test_oh, Xtest_oh_ctk])"
   ]
  },
  {
   "cell_type": "markdown",
   "metadata": {},
   "source": [
    "<font color=\"red\">**Question 40**:\n",
    "    Run a logistic regression on the new features and evaluate its performance as before.\n",
    "</font>"
   ]
  },
  {
   "cell_type": "code",
   "execution_count": 186,
   "metadata": {
    "ExecuteTime": {
     "end_time": "2019-01-14T18:46:55.737891Z",
     "start_time": "2019-01-14T18:42:07.510537Z"
    }
   },
   "outputs": [
    {
     "name": "stdout",
     "output_type": "stream",
     "text": [
      "accuracy : 0.83318\n",
      "logloss : 0.40728817013898877\n"
     ]
    }
   ],
   "source": [
    "lr3 = LogisticRegression(random_state=100)\n",
    "lr3.fit(X=Xtrain_concat, y=ytrain.values)\n",
    "\n",
    "hard = lr3.predict(Xtest_concat)\n",
    "soft = lr3.predict_proba(Xtest_concat)\n",
    "\n",
    "accuracy = accuracy_score(ytest,hard)\n",
    "print(f'accuracy : {accuracy}') # Fill here\n",
    "logloss = log_loss(y_pred=soft,y_true=ytest)\n",
    "print (f'logloss : {logloss}')"
   ]
  },
  {
   "cell_type": "code",
   "execution_count": 192,
   "metadata": {
    "ExecuteTime": {
     "end_time": "2019-01-14T18:47:29.406737Z",
     "start_time": "2019-01-14T18:47:28.812740Z"
    }
   },
   "outputs": [
    {
     "data": {
      "image/png": "[encoded data removed]",
      "text/plain": [
       "<Figure size 576x288 with 1 Axes>"
      ]
     },
     "metadata": {
      "needs_background": "light"
     },
     "output_type": "display_data"
    }
   ],
   "source": [
    "y_score = lr3.decision_function(Xtest_concat)\n",
    "fpr, tpr, thresholds = roc_curve(y_true=ytest, y_score=y_score) # Fill here\n",
    "auc = roc_auc_score(ytest, y_score)\n",
    "\n",
    "plt.figure(figsize=(8,4))\n",
    "plt.plot(fpr, tpr, color='darkorange', lw=1, label=f'ROC curve, AUC={auc:.4f}')\n",
    "plt.plot([0, 1], [0, 1], color='navy', lw=1, linestyle='--')\n",
    "plt.xlim([0.0, 1.0])\n",
    "plt.ylim([0.0, 1.05])\n",
    "plt.xlabel('False Positive Rate')\n",
    "plt.ylabel('True Positive Rate')\n",
    "plt.title('ROC curve')\n",
    "plt.legend(loc=\"lower right\")\n",
    "plt.show()"
   ]
  },
  {
   "cell_type": "code",
   "execution_count": 193,
   "metadata": {
    "ExecuteTime": {
     "end_time": "2019-01-14T18:47:33.125134Z",
     "start_time": "2019-01-14T18:47:32.719786Z"
    }
   },
   "outputs": [
    {
     "data": {
      "text/plain": [
       "<matplotlib.lines.Line2D at 0x1a4dd11048>"
      ]
     },
     "execution_count": 193,
     "metadata": {},
     "output_type": "execute_result"
    },
    {
     "data": {
      "image/png": "[encoded data removed]",
      "text/plain": [
       "<Figure size 432x288 with 1 Axes>"
      ]
     },
     "metadata": {
      "needs_background": "light"
     },
     "output_type": "display_data"
    }
   ],
   "source": [
    "plotlift(soft_pred=soft[:,1], y_true=ytest)\n",
    "# The following line just plots a vertical line for you to answer the second part of the question\n",
    "plt.axvline(x= 0.2, linestyle='--', color='r') # Fill here"
   ]
  },
  {
   "cell_type": "markdown",
   "metadata": {},
   "source": [
    "<font color=\"red\">**Question 41**:\n",
    "    <br>\n",
    "    - Import XGBClassifier from xgboost package.\n",
    "    <br>\n",
    "    - Initialize it using the same number of estimators and learning rate as before. \n",
    "    <br>\n",
    "    - Which value of n_jobs did you choose?\n",
    "    <br>\n",
    "    - Fit it on the same columns 'cols_to_keep' of Xtrain_oh than for the previous logistic regression.\n",
    "    <br>\n",
    "    - Evaluate its performance and compare it to the GradientBoosting classifier of scikit learn. How is the error? Does it take more time to run?\n",
    "</font>"
   ]
  },
  {
   "cell_type": "code",
   "execution_count": 194,
   "metadata": {
    "ExecuteTime": {
     "end_time": "2019-01-14T18:48:47.083235Z",
     "start_time": "2019-01-14T18:47:37.398908Z"
    }
   },
   "outputs": [
    {
     "name": "stdout",
     "output_type": "stream",
     "text": [
      "CPU times: user 1min 8s, sys: 928 ms, total: 1min 9s\n",
      "Wall time: 1min 9s\n"
     ]
    },
    {
     "data": {
      "text/plain": [
       "XGBClassifier(base_score=0.5, booster='gbtree', colsample_bylevel=1,\n",
       "       colsample_bytree=1, gamma=0, learning_rate=0.8, max_delta_step=0,\n",
       "       max_depth=3, min_child_weight=1, missing=None, n_estimators=50,\n",
       "       n_jobs=8, nthread=None, objective='binary:logistic',\n",
       "       random_state=100, reg_alpha=0, reg_lambda=1, scale_pos_weight=1,\n",
       "       seed=None, silent=True, subsample=1)"
      ]
     },
     "execution_count": 194,
     "metadata": {},
     "output_type": "execute_result"
    }
   ],
   "source": [
    "from xgboost import XGBClassifier\n",
    "xgb = XGBClassifier(random_state=100, n_jobs=8, learning_rate=0.8, n_estimators=50)\n",
    "%time xgb.fit(Xtrain_oh_ctk, ytrain)"
   ]
  },
  {
   "cell_type": "code",
   "execution_count": 195,
   "metadata": {
    "ExecuteTime": {
     "end_time": "2019-01-14T18:48:51.800172Z",
     "start_time": "2019-01-14T18:48:50.124710Z"
    },
    "scrolled": true
   },
   "outputs": [
    {
     "name": "stdout",
     "output_type": "stream",
     "text": [
      "Logloss_xgb : 0.41193039575475265\n",
      "Logloss_gb : 0.4124669858816379\n",
      "\n",
      "Score_xgb : 0.83312\n",
      "Score_gb : 0.83306\n"
     ]
    }
   ],
   "source": [
    "soft = xgb.predict_proba(Xtest_oh_ctk)\n",
    "logloss_xgb = log_loss(y_pred=soft, y_true=ytest)\n",
    "score_xgb = xgb.score(X=Xtest_oh_ctk, y=ytest)\n",
    "\n",
    "print(f'Logloss_xgb : {logloss_xgb}')\n",
    "print(f'Logloss_gb : {logloss_gb}')\n",
    "print()\n",
    "print(f'Score_xgb : {score_xgb}')\n",
    "print(f'Score_gb : {score_gb}')"
   ]
  },
  {
   "cell_type": "markdown",
   "metadata": {},
   "source": [
    "On constate que le score du XGBoost est à peine mieux que ce qu'on avait au début.\n",
    "La manière dont on calcule ce score n'est pas bon."
   ]
  },
  {
   "cell_type": "markdown",
   "metadata": {},
   "source": [
    "XGBoost a un temps de calcul environ 4 fois moins long que celui de GBoosting et pourtant les résultats obetenus sont presque identiques. \n",
    "Nous avons choisi la valeur de n_jobs = 8 (Number of parallel threads used to run xgboost) car cela correspond au nombre de vCPU disponible sur mon cluster AWS (4x physical cores and 2 threads per core)"
   ]
  },
  {
   "cell_type": "markdown",
   "metadata": {},
   "source": [
    "<font color=\"red\">**Question 42**:\n",
    "    Increase the number of estimators (e.g. 1024) and visualize the impact on performance. You might have to adapt the learning rate.\n",
    "</font>"
   ]
  },
  {
   "cell_type": "code",
   "execution_count": 196,
   "metadata": {
    "ExecuteTime": {
     "end_time": "2019-01-14T19:25:17.590523Z",
     "start_time": "2019-01-14T19:03:28.032489Z"
    }
   },
   "outputs": [
    {
     "name": "stdout",
     "output_type": "stream",
     "text": [
      "CPU times: user 21min 31s, sys: 6.82 s, total: 21min 38s\n",
      "Wall time: 21min 49s\n"
     ]
    },
    {
     "data": {
      "text/plain": [
       "XGBClassifier(base_score=0.5, booster='gbtree', colsample_bylevel=1,\n",
       "       colsample_bytree=1, gamma=0, learning_rate=0.8, max_delta_step=0,\n",
       "       max_depth=3, min_child_weight=1, missing=None, n_estimators=1024,\n",
       "       n_jobs=8, nthread=None, objective='binary:logistic',\n",
       "       random_state=100, reg_alpha=0, reg_lambda=1, scale_pos_weight=1,\n",
       "       seed=None, silent=True, subsample=1)"
      ]
     },
     "execution_count": 196,
     "metadata": {},
     "output_type": "execute_result"
    }
   ],
   "source": [
    "from xgboost import XGBClassifier\n",
    "xgb = XGBClassifier(random_state=100, n_jobs=8, learning_rate=0.8, n_estimators=1024)\n",
    "%time xgb.fit(Xtrain_oh_ctk, ytrain)"
   ]
  },
  {
   "cell_type": "code",
   "execution_count": 197,
   "metadata": {
    "ExecuteTime": {
     "end_time": "2019-01-14T19:25:33.468737Z",
     "start_time": "2019-01-14T19:25:25.870721Z"
    }
   },
   "outputs": [
    {
     "name": "stdout",
     "output_type": "stream",
     "text": [
      "Logloss_xgb : 0.405577532555271\n",
      "Logloss_gb : 0.4124669858816379\n",
      "\n",
      "Score_xgb : 0.83313\n",
      "Score_gb : 0.83306\n"
     ]
    }
   ],
   "source": [
    "soft = xgb.predict_proba(Xtest_oh_ctk)\n",
    "logloss_xgb = log_loss(y_pred=soft, y_true=ytest)\n",
    "score_xgb = xgb.score(X=Xtest_oh_ctk, y=ytest)\n",
    "\n",
    "print(f'Logloss_xgb : {logloss_xgb}')\n",
    "print(f'Logloss_gb : {logloss_gb}')\n",
    "print()\n",
    "print(f'Score_xgb : {score_xgb}')\n",
    "print(f'Score_gb : {score_gb}')"
   ]
  },
  {
   "cell_type": "code",
   "execution_count": null,
   "metadata": {
    "collapsed": true
   },
   "outputs": [],
   "source": []
  },
  {
   "cell_type": "markdown",
   "metadata": {},
   "source": [
    "On se rend compte qu'en augmentant le nombre d'estimateurs, cela augmente la performence du model prédictif. Néanmoins le temps de calcul a lui aussi beaucoup augmenté. \n",
    "Nous avons laissé volontairement un learning rate assez élevé pour ne pas trop augmenter le temps de calcul : \n",
    "\n",
    "<i> Empirically it has been found that using small learning rates (such as nu < 0.1) yields dramatic improvements in model's generalization ability over gradient boosting without shrinking (nu=1). However, it comes at the price of increasing computational time both during training and querying: lower learning rate requires more iterations.</i>"
   ]
  },
  {
   "cell_type": "markdown",
   "metadata": {},
   "source": [
    "# Features hashing and random forest"
   ]
  },
  {
   "cell_type": "markdown",
   "metadata": {},
   "source": [
    "We restart with raw features before dummy encoding: Xtrain, Xtest.\n",
    "\n",
    "<font color=\"red\">**Question 43**:\n",
    "    Display again the number of modalities per feature in Xtrain.\n",
    "</font>"
   ]
  },
  {
   "cell_type": "code",
   "execution_count": 198,
   "metadata": {
    "ExecuteTime": {
     "end_time": "2019-01-14T19:25:41.247250Z",
     "start_time": "2019-01-14T19:25:37.040837Z"
    }
   },
   "outputs": [
    {
     "data": {
      "text/plain": [
       "hour                    24\n",
       "C1                       7\n",
       "banner_pos               7\n",
       "site_category           22\n",
       "app_id                3054\n",
       "app_domain             196\n",
       "app_category            26\n",
       "device_type              5\n",
       "device_conn_type         4\n",
       "C14                   2225\n",
       "C15                      8\n",
       "C16                      9\n",
       "C17                    420\n",
       "C18                      4\n",
       "C19                     66\n",
       "C20                    163\n",
       "C21                     60\n",
       "weekday                  7\n",
       "user                701585\n",
       "site                  5442\n",
       "dtype: int64"
      ]
     },
     "execution_count": 198,
     "metadata": {},
     "output_type": "execute_result"
    }
   ],
   "source": [
    "Xtrain.nunique()"
   ]
  },
  {
   "cell_type": "markdown",
   "metadata": {},
   "source": [
    "We want to define a transformation which regroups the least frequent modalities into a label 'isRare'. In order to do so, we decide to define our own Transformer.\n",
    "\n",
    "<font color=\"red\">**Question 44**:\n",
    "    Understand the different steps of 'fit' and 'transform'.\n",
    "</font>"
   ]
  },
  {
   "cell_type": "code",
   "execution_count": 199,
   "metadata": {
    "ExecuteTime": {
     "end_time": "2019-01-14T19:25:44.293145Z",
     "start_time": "2019-01-14T19:25:44.271739Z"
    }
   },
   "outputs": [],
   "source": [
    "from sklearn.base import BaseEstimator, TransformerMixin\n",
    "\n",
    "class MergeRareTransformer(BaseEstimator, TransformerMixin):\n",
    "    \n",
    "    def __init__(self, col_names, threshold):\n",
    "        self.col_names = col_names\n",
    "        self.threshold = threshold\n",
    "\n",
    "    def fit(self, X, y=None):\n",
    "\n",
    "        X = pd.DataFrame(X)\n",
    "        counts_dict_list = []\n",
    "        ################## READ THIS #########################\n",
    "        for i in range(len(self.col_names)):\n",
    "            \n",
    "            serie = X[self.col_names[i]].value_counts()  # Série des counts de chaque modalité\n",
    "            rare_indexes = serie[serie<self.threshold[i]].index  # A quoi correspondent ces indices ?\n",
    "            frequent_indexes = serie[serie>=self.threshold[i]].index  # A quoi correspondent ces indices ?\n",
    "            dico = {x:'isRare' for x in rare_indexes}\n",
    "            dico.update({x: str(x) for x in frequent_indexes})\n",
    "            counts_dict_list.append(dico)   # Quel est le dictionnaire obtenu ?\n",
    "            \n",
    "        ######################################################\n",
    "            \n",
    "        self.counts_dict_list_ = counts_dict_list\n",
    "        return self\n",
    "\n",
    "    def transform(self, X):\n",
    "\n",
    "        Xt = pd.DataFrame()\n",
    "        ################## READ THIS #########################\n",
    "        for col, count_dict in zip(self.col_names, self.counts_dict_list_):\n",
    "            Xt[col] = X[col].apply(lambda x:count_dict[x] if x in count_dict else 'isRare')\n",
    "            # A quoi sert le \"else 'isRare'\" dans la transformation de la colonne ?\n",
    "        ######################################################\n",
    "\n",
    "        return Xt\n"
   ]
  },
  {
   "cell_type": "raw",
   "metadata": {},
   "source": [
    "Fonction FIT : \n",
    "\n",
    "Afin de bien comprendre ce que fait la fonction Fit, il est plus simple d'imprimer chaque étape de calcul effectué à la suite :"
   ]
  },
  {
   "cell_type": "code",
   "execution_count": 65,
   "metadata": {
    "scrolled": true
   },
   "outputs": [
    {
     "name": "stdout",
     "output_type": "stream",
     "text": [
      "Serie: \n",
      "1    232880\n",
      "2    226412\n",
      "3    200173\n",
      "6     94858\n",
      "5     83176\n",
      "4     82651\n",
      "0     79850\n",
      "Name: weekday, dtype: int64\n",
      "\n",
      "index rares : \n",
      "[6 5 4 0]\n",
      "\n",
      "index fréquents: \n",
      "[1 2 3]\n",
      "\n",
      "dico : \n",
      "{6: 'isRare', 5: 'isRare', 4: 'isRare', 0: 'isRare'}\n",
      "\n",
      "dico après update: \n",
      "{6: 'isRare', 5: 'isRare', 4: 'isRare', 0: 'isRare', 1: '1', 2: '2', 3: '3'}\n",
      "\n",
      "liste de dico : \n",
      "[{6: 'isRare', 5: 'isRare', 4: 'isRare', 0: 'isRare', 1: '1', 2: '2', 3: '3'}]\n"
     ]
    }
   ],
   "source": [
    "# La fonction fit itère sur les colonnes, ici nous prenons la colonne weekday à titre d'expemple \n",
    "# avec un threshold arbitraire à 100000\n",
    "\n",
    "counts_dict_list = []\n",
    "serie = X.weekday.value_counts()\n",
    "print(f'Serie: \\n{serie}\\n')\n",
    "rare_indexes = serie[serie<100000].index\n",
    "print(f'index rares : \\n{rare_indexes.values}\\n')\n",
    "frequent_indexes = serie[serie>=100000].index\n",
    "print(f'index fréquents: \\n{frequent_indexes.values}\\n')\n",
    "dico = {x:'isRare' for x in rare_indexes}\n",
    "print(f'dico : \\n{dico}\\n')\n",
    "dico.update({x: str(x) for x in frequent_indexes})\n",
    "print(f'dico après update: \\n{dico}\\n')\n",
    "counts_dict_list.append(dico)\n",
    "print(f'liste de dico : \\n{counts_dict_list}')"
   ]
  },
  {
   "cell_type": "markdown",
   "metadata": {},
   "source": [
    "La fonction permet de donner la valeur \"isRare\", de regrouper dans chaque colonne les valeurs qui ont un faible taux d'apparition (définit par l'utilisateur).\n",
    "\n",
    "\n",
    "Dans la fonction fonction fit() :\n",
    "\n",
    "Pour chaque colonne on stocke les valeurs avec un faible taux d'apparition (grâce au threshold défini par l'utilisateur) dans rare_indexes et les autres valeurs sont ajoutées à l'array frequent_indexes. La méthode stoque ensuite les correspondances entre les anciennes valeurs et les nouvelles."
   ]
  },
  {
   "cell_type": "markdown",
   "metadata": {},
   "source": [
    "Fonction Transform : \n",
    "\n",
    "La fonction Transform doit être appliquée sur Xtest mais on ne Fit pas sur Xtest, on ne Fit que sur Xtrain. Par conséquent il est possible que certaines modalités soient dans Xtest mais n'aient jamais été rencontrées dans le Xtrain. Dans ce cas, ces modalités de Xtest ne seront pas présentent dans la liste \"counts_dict_list_\". C'est pour ces cas que l'on ajoute 'else \"is Rare\" ' de façon à ce que ces modalités prennent la valeur is Rare."
   ]
  },
  {
   "cell_type": "markdown",
   "metadata": {},
   "source": [
    "<font color=\"red\">**Question 45:**\n",
    "    <br>\n",
    "    - Fit and transform the training set. To do so, merge all mmodalities occuring at least 20 times in each column.\n",
    "    <br>\n",
    "    - Transform the test set.\n",
    "</font>"
   ]
  },
  {
   "cell_type": "code",
   "execution_count": 200,
   "metadata": {
    "ExecuteTime": {
     "end_time": "2019-01-14T19:25:59.693916Z",
     "start_time": "2019-01-14T19:25:48.428385Z"
    }
   },
   "outputs": [],
   "source": [
    "mg = MergeRareTransformer(col_names=Xtrain.columns, threshold=[20]*len(Xtrain.columns))\n",
    "Xtrain_mg = mg.fit_transform(Xtrain) # Fill here with fit_transform or fit then transform.\n",
    "Xtest_mg = mg.transform(Xtest)"
   ]
  },
  {
   "cell_type": "markdown",
   "metadata": {},
   "source": [
    "<font color=\"red\">**Question 46:**\n",
    "   How many elements of the column Xtrain_mg['app_domain'] are now labeled as 'rare'?\n",
    "</font>"
   ]
  },
  {
   "cell_type": "code",
   "execution_count": 201,
   "metadata": {
    "ExecuteTime": {
     "end_time": "2019-01-14T19:26:03.857345Z",
     "start_time": "2019-01-14T19:26:03.746885Z"
    }
   },
   "outputs": [
    {
     "name": "stdout",
     "output_type": "stream",
     "text": [
      "Nombre de app_domain rare : 513\n",
      "\n",
      "159130    isRare\n",
      "701094    isRare\n",
      "293592    isRare\n",
      "470991    isRare\n",
      "989463    isRare\n",
      "Name: app_domain, dtype: object\n"
     ]
    }
   ],
   "source": [
    "israre = Xtrain_mg.app_domain[Xtrain_mg['app_domain']=='isRare']\n",
    "print(f'Nombre de app_domain rare : {israre.count()}\\n')\n",
    "print(israre.head(5))"
   ]
  },
  {
   "cell_type": "markdown",
   "metadata": {},
   "source": [
    "<font color=\"red\">**Question 47:**\n",
    "   In the new train set, display the number of modalities for each feature.\n",
    "</font>"
   ]
  },
  {
   "cell_type": "code",
   "execution_count": 202,
   "metadata": {
    "ExecuteTime": {
     "end_time": "2019-01-14T19:26:09.273838Z",
     "start_time": "2019-01-14T19:26:07.018688Z"
    }
   },
   "outputs": [
    {
     "data": {
      "text/plain": [
       "hour                  24\n",
       "C1                     7\n",
       "banner_pos             7\n",
       "site_category         18\n",
       "app_id               613\n",
       "app_domain            53\n",
       "app_category          19\n",
       "device_type            5\n",
       "device_conn_type       4\n",
       "C14                 1339\n",
       "C15                    8\n",
       "C16                    9\n",
       "C17                  381\n",
       "C18                    4\n",
       "C19                   63\n",
       "C20                  148\n",
       "C21                   60\n",
       "weekday                7\n",
       "user                 901\n",
       "site                 889\n",
       "dtype: int64"
      ]
     },
     "execution_count": 202,
     "metadata": {},
     "output_type": "execute_result"
    }
   ],
   "source": [
    "Xtrain_mg.nunique()"
   ]
  },
  {
   "cell_type": "markdown",
   "metadata": {},
   "source": [
    "Modalities are arbitrary object, such as '234', 'isRare', etc. We will now transorm them into integers with the hashing trick.\n",
    "<font color=\"red\">**Question 48:**\n",
    "   To better understand how the 'hash' function is working, apply it to a string of your choice.\n",
    "</font>"
   ]
  },
  {
   "cell_type": "code",
   "execution_count": 203,
   "metadata": {
    "ExecuteTime": {
     "end_time": "2019-01-14T19:26:12.344614Z",
     "start_time": "2019-01-14T19:26:12.337256Z"
    }
   },
   "outputs": [
    {
     "data": {
      "text/plain": [
       "5808490783930082882"
      ]
     },
     "execution_count": 203,
     "metadata": {},
     "output_type": "execute_result"
    }
   ],
   "source": [
    "import hashlib\n",
    "hash('test de la fonction hash')"
   ]
  },
  {
   "cell_type": "markdown",
   "metadata": {},
   "source": [
    "<font color=\"red\">**Question 49:**\n",
    "   Create two new datasets 'Xtrain_ha' and 'Xtest_ha' containing the output of the hashing process. Use the '.apply' method to transform iteratively the columns by mapping to each value its remainder in the euclidean division of the hash by 1000000. \n",
    "   Example:\n",
    "</font>\n",
    "</font>\n",
    "<p>\n",
    "<center>\n",
    "2060777048690<font color=\"red\">918393</font>  -->  918393\n",
    "</center>\n",
    "Remark: do not forget that the function 'hash' has to take a string as input."
   ]
  },
  {
   "cell_type": "code",
   "execution_count": 204,
   "metadata": {
    "ExecuteTime": {
     "end_time": "2019-01-14T19:26:27.906293Z",
     "start_time": "2019-01-14T19:26:15.406307Z"
    }
   },
   "outputs": [],
   "source": [
    "Xtrain_ha = pd.DataFrame()\n",
    "Xtest_ha = pd.DataFrame()\n",
    "for col in Xtrain_mg.columns:\n",
    "    Xtrain_ha[col] = Xtrain_mg[col].apply(lambda x: hash(x)).mod(1000000) # Fill here defining a lambda function\n",
    "    Xtest_ha[col] = Xtest_mg[col].apply(lambda x: hash(x)).mod(1000000)"
   ]
  },
  {
   "cell_type": "markdown",
   "metadata": {},
   "source": [
    "<font color=\"red\">**Question 50:**\n",
    "   Visualize the content of the DataFrames you have obtained.\n",
    "</font>"
   ]
  },
  {
   "cell_type": "code",
   "execution_count": 205,
   "metadata": {
    "ExecuteTime": {
     "end_time": "2019-01-14T19:26:32.429056Z",
     "start_time": "2019-01-14T19:26:32.391094Z"
    }
   },
   "outputs": [
    {
     "name": "stdout",
     "output_type": "stream",
     "text": [
      "          hour      C1  banner_pos  site_category  app_id  app_domain  \\\n",
      "92438   151183   47878      872609         431392  331927      171413   \n",
      "60898    50869  961988      667190         431392  408973      251326   \n",
      "556199  440471  961988      667190         927399  814183      171413   \n",
      "193129  124453  961988      872609         927399  814183      171413   \n",
      "231985  479677  961988      667190         593658  814183      171413   \n",
      "\n",
      "        app_category  device_type  device_conn_type     C14     C15     C16  \\\n",
      "92438         662152       440471            612944   20377  192088  155700   \n",
      "60898         847787       872609            612559   20377  192088  155700   \n",
      "556199        516168       872609            612559    6022  192088  155700   \n",
      "193129        516168       872609            667190  716784  192088  155700   \n",
      "231985        516168       872609            667190  991339  192088  155700   \n",
      "\n",
      "           C17     C18     C19     C20     C21  weekday    user    site  \n",
      "92438   286810  667190  939486  398400  819101   667190  503518  292522  \n",
      "60898   286810  667190  939486  398400  819101   872609  503518  292522  \n",
      "556199  697236  667190  203961  398400  711183   667190  503518  360209  \n",
      "193129  178912  667190   16950  340572  974414   872609  503518  887028  \n",
      "231985  286810  667190  939486   24905  819101   136768  503518  312975  \n",
      "<bound method DataFrame.nunique of           hour      C1  banner_pos  site_category  app_id  app_domain  \\\n",
      "92438   151183   47878      872609         431392  331927      171413   \n",
      "60898    50869  961988      667190         431392  408973      251326   \n",
      "556199  440471  961988      667190         927399  814183      171413   \n",
      "193129  124453  961988      872609         927399  814183      171413   \n",
      "231985  479677  961988      667190         593658  814183      171413   \n",
      "235945  612944  961988      872609         927399  814183      171413   \n",
      "622676  743957  961988      667190         593658  814183      171413   \n",
      "426950  220823  961988      667190         354909  814183      171413   \n",
      "115855  872609  961988      872609         927399  814183      171413   \n",
      "594467  320020  961988      667190         593658  814183      171413   \n",
      "588842  267409  961988      667190         431392  822565      251326   \n",
      "418668   50869  961988      667190         431392  225841      784167   \n",
      "235283  440471  961988      667190         431392  260735      251326   \n",
      "664370  220823  961988      872609         927399  814183      171413   \n",
      "379858  624031  961988      667190         927399  814183      171413   \n",
      "943479  435333  961988      667190         593658  814183      171413   \n",
      "357318  124453  961988      667190         431392  618584      708149   \n",
      "618206  320020  961988      872609         927399  814183      171413   \n",
      "218154  320020  961988      667190         593658  814183      171413   \n",
      "383144  728898  961988      872609         927399  814183      171413   \n",
      "589729  124453  961988      667190         431392  984315      186677   \n",
      "1867    479677  961988      667190         431392  905740      166532   \n",
      "223984  612944  961988      667190         593658  814183      171413   \n",
      "297246  479677  961988      667190         927399  814183      171413   \n",
      "726814  220823  961988      872609         927399  814183      171413   \n",
      "640745  267409  961988      872609         927399  814183      171413   \n",
      "819085  435333  961988      667190         431392  225841      784167   \n",
      "18831   440471  961988      667190         431392  753967      152435   \n",
      "920255  479677  961988      872609         927399  814183      171413   \n",
      "564162  743957  961988      872609         927399  814183      171413   \n",
      "...        ...     ...         ...            ...     ...         ...   \n",
      "215426  220823  961988      667190         431392  225841      784167   \n",
      "923734  267409  961988      667190         431392  948473      186677   \n",
      "867421  670331  961988      667190         927399  814183      171413   \n",
      "956041  440471  757779      667190         431392  441042      425115   \n",
      "173563  629823  961988      667190         431392  822565      251326   \n",
      "109456  872609  961988      667190         593658  814183      171413   \n",
      "663098  612559  961988      667190         431392   44174      251326   \n",
      "935228  435333  961988      667190         593658  814183      171413   \n",
      "190315   85688  961988      667190         593658  814183      171413   \n",
      "896228  689828  961988      667190         431392  490924      251326   \n",
      "878223  872609  961988      667190         354909  814183      171413   \n",
      "610584  612944  961988      667190         431392  660162      314952   \n",
      "109296  479677  867560      667190         431392  814183      171413   \n",
      "996337  689828  961988      872609         927399  814183      171413   \n",
      "443170   85688  961988      667190         431392  686128      434263   \n",
      "726542  629823   47878      872609         431392  701141      171413   \n",
      "630498  151183  961988      872609         927399  814183      171413   \n",
      "407106  743957  961988      667190         431392  686128      434263   \n",
      "806965  743957  961988      667190         450295  814183      171413   \n",
      "993122  320020  961988      667190         431392  225841      784167   \n",
      "931764  624031  961988      872609         927399  814183      171413   \n",
      "344414  612559  961988      667190         354909  814183      171413   \n",
      "718730  267409   47878      872609         431392  297762      171413   \n",
      "212912   50869  961988      667190         431392  397086      784167   \n",
      "65615   136768  961988      872609         927399  814183      171413   \n",
      "864087  267409  961988      872609         593658  814183      171413   \n",
      "778087  124453  961988      667190         431392  315133      251326   \n",
      "210755  320020  961988      667190         927399  814183      171413   \n",
      "56088   670331  961988      872609         354909  814183      171413   \n",
      "824840  136768  961988      667190         593658  814183      171413   \n",
      "\n",
      "        app_category  device_type  device_conn_type     C14     C15     C16  \\\n",
      "92438         662152       440471            612944   20377  192088  155700   \n",
      "60898         847787       872609            612559   20377  192088  155700   \n",
      "556199        516168       872609            612559    6022  192088  155700   \n",
      "193129        516168       872609            667190  716784  192088  155700   \n",
      "231985        516168       872609            667190  991339  192088  155700   \n",
      "235945        516168       872609            667190  554211  192088  155700   \n",
      "622676        516168       872609            667190  852096  192088  155700   \n",
      "426950        516168       872609            667190  270046  192088  155700   \n",
      "115855        516168       872609            667190   28742  192088  155700   \n",
      "594467        516168       872609            667190  991339  192088  155700   \n",
      "588842         56680       872609            667190  347528  192088  155700   \n",
      "418668        662152       872609            612944  640980  192088  155700   \n",
      "235283         56680       872609            667190  825508  192088  155700   \n",
      "664370        516168       872609            667190  552164  192088  155700   \n",
      "379858        516168       872609            667190  893041  192088  155700   \n",
      "943479        516168       872609            667190  151910  192088  155700   \n",
      "357318        133252       872609            667190    3204  192088  155700   \n",
      "618206        516168       872609            667190   87727  192088  155700   \n",
      "218154        516168       872609            667190  958989  192088  155700   \n",
      "383144        516168       872609            667190  359259  192088  155700   \n",
      "589729        662152       872609            667190  386902  192088  155700   \n",
      "1867          293051       872609            667190  995387  192088  155700   \n",
      "223984        516168       872609            667190  958989  192088  155700   \n",
      "297246        516168       872609            667190  836208  192088  155700   \n",
      "726814        516168       872609            667190  678753  192088  155700   \n",
      "640745        516168       872609            667190  519848  192088  155700   \n",
      "819085        662152       872609            612944  994815  192088  155700   \n",
      "18831         662152       872609            667190   60611  192088  155700   \n",
      "920255        516168       872609            667190   79243  192088  155700   \n",
      "564162        516168       872609            612559  822446  192088  155700   \n",
      "...              ...          ...               ...     ...     ...     ...   \n",
      "215426        662152       872609            612944  640980  192088  155700   \n",
      "923734        662152       872609            667190  250446  192088  155700   \n",
      "867421        516168       872609            612559  410133  192088  155700   \n",
      "956041        662152       872609            612559  173157  192088  155700   \n",
      "173563         56680       872609            612559  559696  192088  155700   \n",
      "109456        516168       872609            667190  446726  192088  155700   \n",
      "663098        662152       872609            667190  706782  192088  155700   \n",
      "935228        516168       872609            667190  436069  192088  155700   \n",
      "190315        516168       872609            612559  706782  192088  155700   \n",
      "896228        662152       872609            667190  277675  192088  155700   \n",
      "878223        516168       872609            667190  697196  945862  828817   \n",
      "610584        662152       872609            667190  744801  192088  155700   \n",
      "109296        516168       667190            667190  422381  192088  155700   \n",
      "996337        516168       872609            667190  270046  192088  155700   \n",
      "443170        293051       872609            667190   32595  192088  155700   \n",
      "726542        662152       440471            667190  279287  192088  155700   \n",
      "630498        516168       872609            667190  960771  192088  155700   \n",
      "407106        293051       872609            667190  205931  192088  155700   \n",
      "806965        516168       872609            667190  243093  192088  155700   \n",
      "993122        662152       872609            612944  640980  192088  155700   \n",
      "931764        516168       872609            612559  552164  192088  155700   \n",
      "344414        516168       872609            667190  213739  945862  828817   \n",
      "718730        662152       624031            667190  279287  192088  155700   \n",
      "212912        293051       872609            667190  386902  192088  155700   \n",
      "65615         516168       872609            667190  311320  192088  155700   \n",
      "864087        516168       872609            667190  706782  192088  155700   \n",
      "778087        662152       872609            667190   69791  192088  155700   \n",
      "210755        516168       872609            667190  489384  192088  155700   \n",
      "56088         516168       872609            667190  391353  192088  155700   \n",
      "824840        516168       872609            667190   20377  192088  155700   \n",
      "\n",
      "           C17     C18     C19     C20     C21  weekday    user    site  \n",
      "92438   286810  667190  939486  398400  819101   667190  503518  292522  \n",
      "60898   286810  667190  939486  398400  819101   872609  503518  292522  \n",
      "556199  697236  667190  203961  398400  711183   667190  503518  360209  \n",
      "193129  178912  667190   16950  340572  974414   872609  503518  887028  \n",
      "231985  286810  667190  939486   24905  819101   136768  503518  312975  \n",
      "235945  332519  612559  514038  398400  900039   440471  503518  153464  \n",
      "622676  286810  667190  939486   24905  819101   612559  503518  312975  \n",
      "426950  253511  612944  200080  340572  629823   624031  503518  468187  \n",
      "115855  717544  667190  470930  398400   79543   612559  503518  578550  \n",
      "594467  286810  667190  939486   24905  819101   667190  503518  312975  \n",
      "588842  324226  612944  983693  522252  193584   667190  503518  292522  \n",
      "418668  708638  872609  440622  980205  504681   872609  503518  292522  \n",
      "235283  779136  872609  144076  398400   33911   872609  503518  292522  \n",
      "664370  840780  612559  470930  398400  874910   624031  503518  809397  \n",
      "379858  239974  612944  637026  421948   13089   612944  892616  404338  \n",
      "943479   11306  612559  939486  398400  874910   612944  503518  312975  \n",
      "357318  941123  612944  784235  421948   13089   440471   62800  292522  \n",
      "618206  477714  612944  470930  398400  629823   872609  503518  809397  \n",
      "218154  435245  612559   44038  398400  492720   872609  503518  312975  \n",
      "383144  771104  612944  470930  398400  629823   872609  503518   74906  \n",
      "589729  696411  667190  900039  398400  196362   612944   25915  292522  \n",
      "1867    906968  667190  939486  398400  481737   612559  503518  292522  \n",
      "223984  435245  612559  316587   49122  492720   440471  503518  312975  \n",
      "297246  817186  612944  470930  398400  629823   136768  503518  153464  \n",
      "726814  497940  612944  470930  398400  629823   612944  503518  375352  \n",
      "640745  717544  667190  470930  420305   79543   872609  503518  887028  \n",
      "819085  708638  872609  440622  980205  504681   440471  503518  292522  \n",
      "18831   516575  612944  972496  783563  393656   612944  503518  292522  \n",
      "920255  483413  612559  470930  296364  629823   612944  503518  809397  \n",
      "564162  332519  612559  514038   24905  900039   872609  503518  153464  \n",
      "...        ...     ...     ...     ...     ...      ...     ...     ...  \n",
      "215426  708638  872609  440622  111768  504681   872609  503518  292522  \n",
      "923734  972085  667190    5321  745010  361964   667190  503518  292522  \n",
      "867421  251843  667190  939486  934521  819101   612944  503518  559578  \n",
      "956041  259919  612944  983693  540569  193584   612559  503518  292522  \n",
      "173563  744170  667190  939486  532261   79543   872609  503518  292522  \n",
      "109456  884025  667190  939486  398400   79543   612559  746406  312975  \n",
      "663098  286810  667190  939486  398400  819101   872609  503518  292522  \n",
      "935228  286810  667190  939486  398400  819101   612944  103456  312975  \n",
      "190315  286810  667190  939486  398400  819101   612944  503518  312975  \n",
      "896228  883161  612944  316587  398400  689828   624031  503518  292522  \n",
      "878223  395144  612559  470930  398400  900039   136768  503518  184161  \n",
      "610584  605679  667190  939486  887639   79543   612559  503518  292522  \n",
      "109296  941120  612944  784235  833660  797126   872609  503518  190695  \n",
      "996337  253511  612944  200080  120742  629823   136768  503518  134015  \n",
      "443170  220551  612944   44038  296364  689828   612944  503518  292522  \n",
      "726542  330521  667190  956711  398400   13089   612559  503518  292522  \n",
      "630498  717544  667190  470930    5415   79543   872609  503518  887028  \n",
      "407106  856663  612944  200080  398400  629823   440471  503518  292522  \n",
      "806965  316566  612944  470930  398400  629823   440471  503518  891682  \n",
      "993122  708638  872609  440622  111768  504681   667190  503518  292522  \n",
      "931764  840780  612559  470930  296364  874910   667190  503518  809397  \n",
      "344414  674713  612944  470930    5415  629823   612559  503518  900427  \n",
      "718730  330521  667190  956711  743128   13089   612559  503518  292522  \n",
      "212912  696411  667190  900039  551427  196362   612944  503518  292522  \n",
      "65615    46158  667190  682975  398400  974414   440471  503518   74906  \n",
      "864087  286810  667190  939486  398400  819101   612944  503518  118174  \n",
      "778087  605679  667190  939486  445898   79543   872609  503518  292522  \n",
      "210755  265536  667190  470930  398400  481737   612559  503518  536373  \n",
      "56088   782928  667190  939486  340572   79543   612559  503518  664357  \n",
      "824840  286810  667190  939486   24905  819101   872609  503518  312975  \n",
      "\n",
      "[900000 rows x 20 columns]>\n"
     ]
    }
   ],
   "source": [
    "print(Xtrain_ha.head(5))\n",
    "print(Xtrain_ha.nunique)"
   ]
  },
  {
   "cell_type": "markdown",
   "metadata": {},
   "source": [
    "<font color=\"red\">**Question 51:**\n",
    "    <br>\n",
    "    - Train a RandomForestClassifier on Xtrain_ha and evaluate its performance on Xtest_ha. One can chose 1024 estimators, min_samples_leaf=20 and verbose=1 in order to monitor the fitting step.\n",
    "    <br>\n",
    "</font>"
   ]
  },
  {
   "cell_type": "code",
   "execution_count": 209,
   "metadata": {
    "ExecuteTime": {
     "end_time": "2019-01-14T19:57:33.326421Z",
     "start_time": "2019-01-14T19:30:35.036916Z"
    }
   },
   "outputs": [
    {
     "name": "stderr",
     "output_type": "stream",
     "text": [
      "[Parallel(n_jobs=8)]: Using backend ThreadingBackend with 8 concurrent workers.\n",
      "[Parallel(n_jobs=8)]: Done  34 tasks      | elapsed:  1.1min\n",
      "[Parallel(n_jobs=8)]: Done 184 tasks      | elapsed:  4.9min\n",
      "[Parallel(n_jobs=8)]: Done 434 tasks      | elapsed: 11.5min\n",
      "[Parallel(n_jobs=8)]: Done 784 tasks      | elapsed: 20.8min\n",
      "[Parallel(n_jobs=8)]: Done 1024 out of 1024 | elapsed: 26.9min finished\n"
     ]
    },
    {
     "data": {
      "text/plain": [
       "RandomForestClassifier(bootstrap=True, class_weight=None, criterion='gini',\n",
       "            max_depth=None, max_features='auto', max_leaf_nodes=None,\n",
       "            min_impurity_decrease=0.0, min_impurity_split=None,\n",
       "            min_samples_leaf=20, min_samples_split=2,\n",
       "            min_weight_fraction_leaf=0.0, n_estimators=1024, n_jobs=8,\n",
       "            oob_score=False, random_state=None, verbose=True,\n",
       "            warm_start=False)"
      ]
     },
     "execution_count": 209,
     "metadata": {},
     "output_type": "execute_result"
    }
   ],
   "source": [
    "from sklearn.ensemble import RandomForestClassifier # Fill here\n",
    "rf = RandomForestClassifier(n_estimators=1024, n_jobs=8, min_samples_leaf=20, verbose=True)\n",
    "rf.fit(Xtrain_ha, ytrain)"
   ]
  },
  {
   "cell_type": "code",
   "execution_count": 210,
   "metadata": {
    "ExecuteTime": {
     "end_time": "2019-01-14T19:57:57.944836Z",
     "start_time": "2019-01-14T19:57:43.301874Z"
    }
   },
   "outputs": [
    {
     "name": "stderr",
     "output_type": "stream",
     "text": [
      "[Parallel(n_jobs=8)]: Using backend ThreadingBackend with 8 concurrent workers.\n",
      "[Parallel(n_jobs=8)]: Done  34 tasks      | elapsed:    0.5s\n",
      "[Parallel(n_jobs=8)]: Done 184 tasks      | elapsed:    3.1s\n",
      "[Parallel(n_jobs=8)]: Done 434 tasks      | elapsed:    6.4s\n",
      "[Parallel(n_jobs=8)]: Done 784 tasks      | elapsed:   10.9s\n"
     ]
    },
    {
     "name": "stdout",
     "output_type": "stream",
     "text": [
      "Logloss_rf : 0.4007508573549109\n",
      "\n"
     ]
    },
    {
     "name": "stderr",
     "output_type": "stream",
     "text": [
      "[Parallel(n_jobs=8)]: Done 1024 out of 1024 | elapsed:   14.5s finished\n"
     ]
    }
   ],
   "source": [
    "soft = rf.predict_proba(Xtest_ha)\n",
    "logloss_rf = log_loss(y_pred=soft, y_true=ytest)\n",
    "\n",
    "# y_score = rf.decision_path(Xtest_ha)\n",
    "# auc_rf = roc_auc_score(ytest, y_score)\n",
    "\n",
    "print(f'Logloss_rf : {logloss_rf}')\n",
    "print()\n",
    "# print(f'Area under the curve : {auc_rf}')"
   ]
  },
  {
   "cell_type": "markdown",
   "metadata": {},
   "source": [
    "<font color=\"red\">**Question 52:**\n",
    "   Compare with xgboost performance on the same hashed dataset.\n",
    "</font>"
   ]
  },
  {
   "cell_type": "code",
   "execution_count": 211,
   "metadata": {
    "ExecuteTime": {
     "end_time": "2019-01-14T20:24:16.601548Z",
     "start_time": "2019-01-14T19:58:05.221325Z"
    }
   },
   "outputs": [
    {
     "name": "stdout",
     "output_type": "stream",
     "text": [
      "CPU times: user 25min 51s, sys: 7.86 s, total: 25min 59s\n",
      "Wall time: 26min 11s\n"
     ]
    },
    {
     "data": {
      "text/plain": [
       "XGBClassifier(base_score=0.5, booster='gbtree', colsample_bylevel=1,\n",
       "       colsample_bytree=1, gamma=0, learning_rate=0.8, max_delta_step=0,\n",
       "       max_depth=3, min_child_weight=1, missing=None, n_estimators=1024,\n",
       "       n_jobs=8, nthread=None, objective='binary:logistic',\n",
       "       random_state=100, reg_alpha=0, reg_lambda=1, scale_pos_weight=1,\n",
       "       seed=None, silent=True, subsample=1)"
      ]
     },
     "execution_count": 211,
     "metadata": {},
     "output_type": "execute_result"
    }
   ],
   "source": [
    "xgb = XGBClassifier(random_state=100, n_jobs=8, learning_rate=0.8, n_estimators=1024)\n",
    "%time xgb.fit(Xtrain_ha, ytrain)"
   ]
  },
  {
   "cell_type": "code",
   "execution_count": 212,
   "metadata": {
    "ExecuteTime": {
     "end_time": "2019-01-14T20:24:27.556370Z",
     "start_time": "2019-01-14T20:24:23.639806Z"
    }
   },
   "outputs": [
    {
     "name": "stdout",
     "output_type": "stream",
     "text": [
      "Logloss_xgb : 0.39881537979174886\n"
     ]
    }
   ],
   "source": [
    "soft = xgb.predict_proba(Xtest_ha)\n",
    "logloss_xgb = log_loss(y_pred=soft, y_true=ytest)\n",
    "\n",
    "print(f'Logloss_xgb : {logloss_xgb}')"
   ]
  },
  {
   "cell_type": "code",
   "execution_count": 218,
   "metadata": {
    "ExecuteTime": {
     "end_time": "2019-01-14T20:37:34.373017Z",
     "start_time": "2019-01-14T20:37:34.362954Z"
    }
   },
   "outputs": [
    {
     "data": {
      "text/plain": [
       "array([[0.67747784, 0.3225222 ],\n",
       "       [0.5054573 , 0.49454275],\n",
       "       [0.92270267, 0.07729734],\n",
       "       ...,\n",
       "       [0.76540285, 0.23459713],\n",
       "       [0.7688538 , 0.2311462 ],\n",
       "       [0.90503985, 0.09496015]], dtype=float32)"
      ]
     },
     "execution_count": 218,
     "metadata": {},
     "output_type": "execute_result"
    }
   ],
   "source": [
    "soft"
   ]
  },
  {
   "cell_type": "markdown",
   "metadata": {},
   "source": [
    "<font color=\"red\">**Question 53:**\n",
    "    Plot the ROC and the lift curves for the obtained classifier (xgboost on hashed data).\n",
    "</font>"
   ]
  },
  {
   "cell_type": "code",
   "execution_count": 223,
   "metadata": {
    "ExecuteTime": {
     "end_time": "2019-01-14T20:42:27.107513Z",
     "start_time": "2019-01-14T20:42:25.404148Z"
    }
   },
   "outputs": [
    {
     "data": {
      "image/png": "[encoded data removed]",
      "text/plain": [
       "<Figure size 576x288 with 1 Axes>"
      ]
     },
     "metadata": {
      "needs_background": "light"
     },
     "output_type": "display_data"
    }
   ],
   "source": [
    "# Plot the lift curve here\n",
    "# plotlift(ytest, soft[1])\n",
    "# fpr,tpr,th=roc_curve(y_test,soft[1]) # Fill here.\n",
    "# plt.plot(fpr, tpr, label='ROC curve')\n",
    "\n",
    "#y_score = xgb.decision_function(Xtest_ha)\n",
    "fpr, tpr, thresholds = roc_curve(y_true=ytest, y_score=soft[:,1]) # Fill here\n",
    "auc = roc_auc_score(ytest, y_score)\n",
    "\n",
    "plt.figure(figsize=(8,4))\n",
    "plt.plot(fpr, tpr, color='darkorange', lw=1, label=f'ROC curve, AUC={auc:.4f}')\n",
    "plt.plot([0, 1], [0, 1], color='navy', lw=1, linestyle='--')\n",
    "plt.xlim([0.0, 1.0])\n",
    "plt.ylim([0.0, 1.05])\n",
    "plt.xlabel('False Positive Rate')\n",
    "plt.ylabel('True Positive Rate')\n",
    "plt.title('ROC curve')\n",
    "plt.legend(loc=\"lower right\")\n",
    "plt.show()"
   ]
  },
  {
   "cell_type": "code",
   "execution_count": 225,
   "metadata": {
    "ExecuteTime": {
     "end_time": "2019-01-14T20:43:45.590260Z",
     "start_time": "2019-01-14T20:43:45.179903Z"
    }
   },
   "outputs": [
    {
     "data": {
      "text/plain": [
       "<matplotlib.lines.Line2D at 0x1a4d3a4e80>"
      ]
     },
     "execution_count": 225,
     "metadata": {},
     "output_type": "execute_result"
    },
    {
     "data": {
      "image/png": "[encoded data removed]",
      "text/plain": [
       "<Figure size 432x288 with 1 Axes>"
      ]
     },
     "metadata": {
      "needs_background": "light"
     },
     "output_type": "display_data"
    }
   ],
   "source": [
    "plotlift(ytest, soft[:,1])\n",
    "plt.axvline(x= 0.2, linestyle='--', color='r') # Fill here"
   ]
  },
  {
   "cell_type": "markdown",
   "metadata": {},
   "source": [
    "Hashing produces columns of integers arbitrarily ordered. One can wonder if adding more columns hashed in a different fashion would lead to better performance. \n",
    "\n",
    "<font color=\"red\">**Question 54:**\n",
    "    Add hashed columns by recursively hashing the previous ones: complete the following code. \n",
    "</font>"
   ]
  },
  {
   "cell_type": "code",
   "execution_count": 215,
   "metadata": {
    "ExecuteTime": {
     "end_time": "2019-01-14T20:29:22.142279Z",
     "start_time": "2019-01-14T20:28:02.015803Z"
    }
   },
   "outputs": [],
   "source": [
    "def hash_string_euclidean_division(originalValue):\n",
    "    return hash(str(originalValue)) % 1000000\n",
    "\n",
    "\n",
    "Xtrain_haha = pd.DataFrame(Xtrain_ha).copy()\n",
    "Xtest_haha = pd.DataFrame(Xtest_ha).copy()\n",
    "\n",
    "n_hash = 3\n",
    "cols = Xtrain_ha.columns\n",
    "for l in range(n_hash):\n",
    "    for col in cols:\n",
    "        Xtrain_haha[col + '-hash'] = Xtrain_haha[col].apply(lambda x: hash_string_euclidean_division(x))\n",
    "        Xtest_haha[col + '-hash'] = Xtest_haha[col].apply(lambda x: hash_string_euclidean_division(x))\n",
    "    cols = [col + '-hash' for col in cols]"
   ]
  },
  {
   "cell_type": "markdown",
   "metadata": {},
   "source": [
    "<font color=\"red\">**Question 55:**\n",
    "    Evaluate the performance of a random forest and/or an xgboost clasifier on these enlarged dataset.\n",
    "</font>"
   ]
  },
  {
   "cell_type": "code",
   "execution_count": null,
   "metadata": {
    "ExecuteTime": {
     "start_time": "2019-01-14T20:44:06.184Z"
    }
   },
   "outputs": [],
   "source": [
    "xgb = XGBClassifier(random_state=100, n_jobs=8, learning_rate=0.8, n_estimators=1024)\n",
    "%time xgb.fit(Xtrain_haha, ytrain)"
   ]
  },
  {
   "cell_type": "markdown",
   "metadata": {},
   "source": [
    "<font color=\"red\">**Question 55:**\n",
    "    Compare the different models used in the TP.\n",
    "</font>"
   ]
  },
  {
   "cell_type": "markdown",
   "metadata": {},
   "source": [
    "Model\t\n",
    "\n",
    "LR_reduced\tLogloss : 0,425122\tTime :22''\n",
    "\n",
    "LR_complete\tLogloss : 0,410753\tTime :45''\n",
    "\n",
    "GradBoost1\tLogloss : 0,412466\tTime :3'38''\n",
    "\n",
    "LR_new_features\tLogloss : 0,407288\tTime :4'48\"\n",
    "\n",
    "XGB1\tLogloss : 0,41193\tTime :1'09\"\n",
    "\n",
    "XGB2\tLogloss : 0,405577\tTime :21'49\"\n",
    "\n",
    "RF_ha\tLogloss : 0,40075\tTime :26'09\"\n",
    "\n",
    "XGB_ha\tLogloss : 0,398815\tTime :26'11\"\n",
    "\n",
    "XGB_haha\tLogloss : 0,399683\tTime :28'46\n",
    "\n",
    "\n"
   ]
  },
  {
   "cell_type": "markdown",
   "metadata": {},
   "source": [
    "## Conclusion\n",
    "Nous nous rendons compte que le temps de calcul augmente enormément pour des améliorations assez faible. La meilleurs Logloss est obtenue pour le XGBoost avec une seul hashage."
   ]
  },
  {
   "cell_type": "code",
   "execution_count": null,
   "metadata": {},
   "outputs": [],
   "source": []
  }
 ],
 "metadata": {
  "hide_input": false,
  "kernelspec": {
   "display_name": "Python 3",
   "language": "python",
   "name": "python3"
  },
  "language_info": {
   "codemirror_mode": {
    "name": "ipython",
    "version": 3
   },
   "file_extension": ".py",
   "mimetype": "text/x-python",
   "name": "python",
   "nbconvert_exporter": "python",
   "pygments_lexer": "ipython3",
   "version": "3.6.8"
  },
  "toc": {
   "base_numbering": 1,
   "nav_menu": {},
   "number_sections": true,
   "sideBar": true,
   "skip_h1_title": false,
   "title_cell": "Table of Contents",
   "title_sidebar": "Contents",
   "toc_cell": false,
   "toc_position": {},
   "toc_section_display": true,
   "toc_window_display": true
  },
  "varInspector": {
   "cols": {
    "lenName": 16,
    "lenType": 16,
    "lenVar": 40
   },
   "kernels_config": {
    "python": {
     "delete_cmd_postfix": "",
     "delete_cmd_prefix": "del ",
     "library": "var_list.py",
     "varRefreshCmd": "print(var_dic_list())"
    },
    "r": {
     "delete_cmd_postfix": ") ",
     "delete_cmd_prefix": "rm(",
     "library": "var_list.r",
     "varRefreshCmd": "cat(var_dic_list()) "
    }
   },
   "types_to_exclude": [
    "module",
    "function",
    "builtin_function_or_method",
    "instance",
    "_Feature"
   ],
   "window_display": false
  }
 },
 "nbformat": 4,
 "nbformat_minor": 2
}
